{
 "cells": [
  {
   "cell_type": "code",
   "execution_count": 1,
   "metadata": {},
   "outputs": [],
   "source": [
    "import pandas"
   ]
  },
  {
   "cell_type": "code",
   "execution_count": 5,
   "metadata": {},
   "outputs": [
    {
     "name": "stdout",
     "output_type": "stream",
     "text": [
      "     alu  num\n",
      "0  Luisa    3\n",
      "1  Wendy    1\n",
      "2   Mary    2\n"
     ]
    }
   ],
   "source": [
    "dataset = {\"alu\" : [\"Luisa\", \"Wendy\", \"Mary\"], \"num\" : [3, 1, 2]}\n",
    "#type(dataset)\n",
    "var = pandas.DataFrame(dataset)\n",
    "#type(var)\n",
    "print(var)"
   ]
  },
  {
   "cell_type": "code",
   "execution_count": 7,
   "metadata": {},
   "outputs": [],
   "source": [
    "import pandas as pd"
   ]
  },
  {
   "cell_type": "code",
   "execution_count": 8,
   "metadata": {},
   "outputs": [
    {
     "name": "stdout",
     "output_type": "stream",
     "text": [
      "     alu  num\n",
      "0  Luisa    3\n",
      "1  Wendy    1\n",
      "2   Mary    2\n"
     ]
    }
   ],
   "source": [
    "dataset = {\"alu\" : [\"Luisa\", \"Wendy\", \"Mary\"], \"num\" : [3, 1, 2]}\n",
    "var = pd.DataFrame(dataset)\n",
    "print(var)"
   ]
  },
  {
   "cell_type": "code",
   "execution_count": 11,
   "metadata": {},
   "outputs": [
    {
     "name": "stdout",
     "output_type": "stream",
     "text": [
      "0    Luisa\n",
      "1    Wendy\n",
      "2     Mary\n",
      "dtype: object\n"
     ]
    }
   ],
   "source": [
    "# Comentario :)\n",
    "# Series: arreglo unidimensional\n",
    "nombres = [\"Luisa\", \"Wendy\", \"Mary\"]\n",
    "var = pd.Series(nombres)\n",
    "print(var)"
   ]
  },
  {
   "cell_type": "code",
   "execution_count": 12,
   "metadata": {},
   "outputs": [
    {
     "data": {
      "text/plain": [
       "pandas.core.series.Series"
      ]
     },
     "execution_count": 12,
     "metadata": {},
     "output_type": "execute_result"
    }
   ],
   "source": [
    "type(var)"
   ]
  },
  {
   "cell_type": "code",
   "execution_count": null,
   "metadata": {},
   "outputs": [],
   "source": []
  }
 ],
 "metadata": {
  "kernelspec": {
   "display_name": "Python 3",
   "language": "python",
   "name": "python3"
  },
  "language_info": {
   "codemirror_mode": {
    "name": "ipython",
    "version": 3
   },
   "file_extension": ".py",
   "mimetype": "text/x-python",
   "name": "python",
   "nbconvert_exporter": "python",
   "pygments_lexer": "ipython3",
   "version": "3.8.5"
  }
 },
 "nbformat": 4,
 "nbformat_minor": 4
}
