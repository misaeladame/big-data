{
 "cells": [
  {
   "cell_type": "code",
   "execution_count": 1,
   "metadata": {},
   "outputs": [],
   "source": [
    "import pandas"
   ]
  },
  {
   "cell_type": "code",
   "execution_count": 5,
   "metadata": {},
   "outputs": [
    {
     "name": "stdout",
     "output_type": "stream",
     "text": [
      "     alu  num\n",
      "0  Luisa    3\n",
      "1  Wendy    1\n",
      "2   Mary    2\n"
     ]
    }
   ],
   "source": [
    "dataset = {\"alu\" : [\"Luisa\", \"Wendy\", \"Mary\"], \"num\" : [3, 1, 2]}\n",
    "#type(dataset)\n",
    "var = pandas.DataFrame(dataset)\n",
    "#type(var)\n",
    "print(var)"
   ]
  },
  {
   "cell_type": "code",
   "execution_count": 2,
   "metadata": {},
   "outputs": [],
   "source": [
    "import pandas as pd"
   ]
  },
  {
   "cell_type": "code",
   "execution_count": 8,
   "metadata": {},
   "outputs": [
    {
     "name": "stdout",
     "output_type": "stream",
     "text": [
      "     alu  num\n",
      "0  Luisa    3\n",
      "1  Wendy    1\n",
      "2   Mary    2\n"
     ]
    }
   ],
   "source": [
    "dataset = {\"alu\" : [\"Luisa\", \"Wendy\", \"Mary\"], \"num\" : [3, 1, 2]}\n",
    "var = pd.DataFrame(dataset)\n",
    "print(var)"
   ]
  },
  {
   "cell_type": "code",
   "execution_count": 8,
   "metadata": {},
   "outputs": [
    {
     "name": "stdout",
     "output_type": "stream",
     "text": [
      "0    Luisa\n",
      "1    Wendy\n",
      "2     Mary\n",
      "dtype: object\n"
     ]
    }
   ],
   "source": [
    "# Comentario :)\n",
    "# Series: arreglo unidimensional\n",
    "nombres = [\"Luisa\", \"Wendy\", \"Mary\"]\n",
    "var = pd.Series(nombres)\n",
    "print(var)"
   ]
  },
  {
   "cell_type": "code",
   "execution_count": 12,
   "metadata": {},
   "outputs": [
    {
     "data": {
      "text/plain": [
       "pandas.core.series.Series"
      ]
     },
     "execution_count": 12,
     "metadata": {},
     "output_type": "execute_result"
    }
   ],
   "source": [
    "type(var)"
   ]
  },
  {
   "cell_type": "code",
   "execution_count": 4,
   "metadata": {},
   "outputs": [
    {
     "name": "stdout",
     "output_type": "stream",
     "text": [
      "Wendy\n"
     ]
    }
   ],
   "source": [
    "print(var[1])"
   ]
  },
  {
   "cell_type": "code",
   "execution_count": 13,
   "metadata": {},
   "outputs": [
    {
     "name": "stdout",
     "output_type": "stream",
     "text": [
      "3    Luisa\n",
      "1    Wendy\n",
      "2     Mary\n",
      "dtype: object\n"
     ]
    }
   ],
   "source": [
    "#Indexando Series\n",
    "#nombres = [\"Luisa\", \"Wendy\", \"Mary\"]\n",
    "var = pd.Series(nombres, index = [3, 1, 2])\n",
    "#var = pd.Series(nombres, index = {\"i\", \"j\", \"z\"})\n",
    "print(var)"
   ]
  },
  {
   "cell_type": "code",
   "execution_count": 16,
   "metadata": {},
   "outputs": [
    {
     "name": "stdout",
     "output_type": "stream",
     "text": [
      "Luisa\n"
     ]
    }
   ],
   "source": [
    "print(var[3]) #print(var[\"i\"])"
   ]
  },
  {
   "cell_type": "code",
   "execution_count": 17,
   "metadata": {},
   "outputs": [
    {
     "name": "stdout",
     "output_type": "stream",
     "text": [
      "Luisa    170\n",
      "Wendy    165\n",
      "Mary     164\n",
      "dtype: int64\n"
     ]
    }
   ],
   "source": [
    "#Dict (llave valor) como Serires\n",
    "alturas = {\"Luisa\":170, \"Wendy\":165, \"Mary\":164}\n",
    "var = pd.Series(alturas)\n",
    "print(var)"
   ]
  },
  {
   "cell_type": "code",
   "execution_count": 18,
   "metadata": {},
   "outputs": [
    {
     "data": {
      "text/plain": [
       "pandas.core.series.Series"
      ]
     },
     "execution_count": 18,
     "metadata": {},
     "output_type": "execute_result"
    }
   ],
   "source": [
    "type(var)"
   ]
  },
  {
   "cell_type": "code",
   "execution_count": 19,
   "metadata": {},
   "outputs": [
    {
     "name": "stdout",
     "output_type": "stream",
     "text": [
      "170\n"
     ]
    }
   ],
   "source": [
    "print(var[\"Luisa\"])"
   ]
  },
  {
   "cell_type": "code",
   "execution_count": 20,
   "metadata": {},
   "outputs": [
    {
     "name": "stdout",
     "output_type": "stream",
     "text": [
      "  nombres  alturas\n",
      "0   Luisa      170\n",
      "1   Wendy      165\n",
      "2    Mary      164\n"
     ]
    }
   ],
   "source": [
    "#DataFrame Arreglo multidimensional (tabla)\n",
    "#Creando un DataFrame apartir de dos Series\n",
    "dataset = { \"nombres\" : [\"Luisa\", \"Wendy\", \"Mary\"],\n",
    "            \"alturas\" : [170, 165, 164]}\n",
    "var = pd.DataFrame(dataset)\n",
    "print(var)"
   ]
  },
  {
   "cell_type": "code",
   "execution_count": 21,
   "metadata": {},
   "outputs": [
    {
     "name": "stdout",
     "output_type": "stream",
     "text": [
      "nombres    Luisa\n",
      "alturas      170\n",
      "Name: 0, dtype: object\n"
     ]
    }
   ],
   "source": [
    "#loc : regresa uno o más renglones\n",
    "print(var.loc[0]) #localiza el renglón 0"
   ]
  },
  {
   "cell_type": "code",
   "execution_count": 23,
   "metadata": {},
   "outputs": [
    {
     "name": "stdout",
     "output_type": "stream",
     "text": [
      "  nombres  alturas\n",
      "0   Luisa      170\n",
      "1   Wendy      165\n"
     ]
    }
   ],
   "source": [
    "print(var.loc[[0,1]]) #localiza los renglones 0 y 1"
   ]
  },
  {
   "cell_type": "code",
   "execution_count": 24,
   "metadata": {},
   "outputs": [
    {
     "name": "stdout",
     "output_type": "stream",
     "text": [
      "     nombres  alturas\n",
      "Uno    Luisa      170\n",
      "Dos    Wendy      165\n",
      "Tres    Mary      164\n"
     ]
    }
   ],
   "source": [
    "#indexando\n",
    "df = pd.DataFrame(dataset, index = [\"Uno\", \"Dos\", \"Tres\"])\n",
    "print(df)"
   ]
  },
  {
   "cell_type": "code",
   "execution_count": 26,
   "metadata": {},
   "outputs": [
    {
     "name": "stdout",
     "output_type": "stream",
     "text": [
      "nombres    Luisa\n",
      "alturas      170\n",
      "Name: Uno, dtype: object\n"
     ]
    }
   ],
   "source": [
    "#Loc e índices\n",
    "print(df.loc[\"Uno\"])"
   ]
  },
  {
   "cell_type": "code",
   "execution_count": null,
   "metadata": {},
   "outputs": [],
   "source": []
  }
 ],
 "metadata": {
  "kernelspec": {
   "display_name": "Python 3",
   "language": "python",
   "name": "python3"
  },
  "language_info": {
   "codemirror_mode": {
    "name": "ipython",
    "version": 3
   },
   "file_extension": ".py",
   "mimetype": "text/x-python",
   "name": "python",
   "nbconvert_exporter": "python",
   "pygments_lexer": "ipython3",
   "version": "3.8.5"
  }
 },
 "nbformat": 4,
 "nbformat_minor": 4
}
