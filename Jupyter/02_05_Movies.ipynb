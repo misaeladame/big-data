{
 "cells": [
  {
   "cell_type": "markdown",
   "metadata": {},
   "source": [
    "# API - Rest\n",
    "\n",
    "Google OMDB : http://omdbapi.com/ solicitar api key gratuita"
   ]
  },
  {
   "cell_type": "code",
   "execution_count": 5,
   "metadata": {},
   "outputs": [],
   "source": [
    "clave = \"473c8044\"\n",
    "uri = \"http://www.omdbapi.com/?8&apikey=\" +clave"
   ]
  },
  {
   "cell_type": "code",
   "execution_count": 2,
   "metadata": {},
   "outputs": [],
   "source": [
    "import requests\n",
    "import json"
   ]
  },
  {
   "cell_type": "code",
   "execution_count": 6,
   "metadata": {},
   "outputs": [
    {
     "data": {
      "text/plain": [
       "{'Search': [{'Title': 'Star Wars: Episode IV - A New Hope',\n",
       "   'Year': '1977',\n",
       "   'imdbID': 'tt0076759',\n",
       "   'Type': 'movie',\n",
       "   'Poster': 'https://m.media-amazon.com/images/M/MV5BNzVlY2MwMjktM2E4OS00Y2Y3LWE3ZjctYzhkZGM3YzA1ZWM2XkEyXkFqcGdeQXVyNzkwMjQ5NzM@._V1_SX300.jpg'},\n",
       "  {'Title': 'Star Wars: Episode V - The Empire Strikes Back',\n",
       "   'Year': '1980',\n",
       "   'imdbID': 'tt0080684',\n",
       "   'Type': 'movie',\n",
       "   'Poster': 'https://m.media-amazon.com/images/M/MV5BYmU1NDRjNDgtMzhiMi00NjZmLTg5NGItZDNiZjU5NTU4OTE0XkEyXkFqcGdeQXVyNzkwMjQ5NzM@._V1_SX300.jpg'},\n",
       "  {'Title': 'Star Wars: Episode VI - Return of the Jedi',\n",
       "   'Year': '1983',\n",
       "   'imdbID': 'tt0086190',\n",
       "   'Type': 'movie',\n",
       "   'Poster': 'https://m.media-amazon.com/images/M/MV5BOWZlMjFiYzgtMTUzNC00Y2IzLTk1NTMtZmNhMTczNTk0ODk1XkEyXkFqcGdeQXVyNTAyODkwOQ@@._V1_SX300.jpg'},\n",
       "  {'Title': 'Star Wars: Episode VII - The Force Awakens',\n",
       "   'Year': '2015',\n",
       "   'imdbID': 'tt2488496',\n",
       "   'Type': 'movie',\n",
       "   'Poster': 'https://m.media-amazon.com/images/M/MV5BOTAzODEzNDAzMl5BMl5BanBnXkFtZTgwMDU1MTgzNzE@._V1_SX300.jpg'},\n",
       "  {'Title': 'Star Wars: Episode I - The Phantom Menace',\n",
       "   'Year': '1999',\n",
       "   'imdbID': 'tt0120915',\n",
       "   'Type': 'movie',\n",
       "   'Poster': 'https://m.media-amazon.com/images/M/MV5BYTRhNjcwNWQtMGJmMi00NmQyLWE2YzItODVmMTdjNWI0ZDA2XkEyXkFqcGdeQXVyNTAyODkwOQ@@._V1_SX300.jpg'},\n",
       "  {'Title': 'Star Wars: Episode III - Revenge of the Sith',\n",
       "   'Year': '2005',\n",
       "   'imdbID': 'tt0121766',\n",
       "   'Type': 'movie',\n",
       "   'Poster': 'https://m.media-amazon.com/images/M/MV5BNTc4MTc3NTQ5OF5BMl5BanBnXkFtZTcwOTg0NjI4NA@@._V1_SX300.jpg'},\n",
       "  {'Title': 'Star Wars: Episode II - Attack of the Clones',\n",
       "   'Year': '2002',\n",
       "   'imdbID': 'tt0121765',\n",
       "   'Type': 'movie',\n",
       "   'Poster': 'https://m.media-amazon.com/images/M/MV5BMDAzM2M0Y2UtZjRmZi00MzVlLTg4MjEtOTE3NzU5ZDVlMTU5XkEyXkFqcGdeQXVyNDUyOTg3Njg@._V1_SX300.jpg'},\n",
       "  {'Title': 'Star Wars: Episode VIII - The Last Jedi',\n",
       "   'Year': '2017',\n",
       "   'imdbID': 'tt2527336',\n",
       "   'Type': 'movie',\n",
       "   'Poster': 'https://m.media-amazon.com/images/M/MV5BMjQ1MzcxNjg4N15BMl5BanBnXkFtZTgwNzgwMjY4MzI@._V1_SX300.jpg'},\n",
       "  {'Title': 'Rogue One: A Star Wars Story',\n",
       "   'Year': '2016',\n",
       "   'imdbID': 'tt3748528',\n",
       "   'Type': 'movie',\n",
       "   'Poster': 'https://m.media-amazon.com/images/M/MV5BMjEwMzMxODIzOV5BMl5BanBnXkFtZTgwNzg3OTAzMDI@._V1_SX300.jpg'},\n",
       "  {'Title': 'Star Wars: Episode IX - The Rise of Skywalker',\n",
       "   'Year': '2019',\n",
       "   'imdbID': 'tt2527338',\n",
       "   'Type': 'movie',\n",
       "   'Poster': 'https://m.media-amazon.com/images/M/MV5BMDljNTQ5ODItZmQwMy00M2ExLTljOTQtZTVjNGE2NTg0NGIxXkEyXkFqcGdeQXVyODkzNTgxMDg@._V1_SX300.jpg'}],\n",
       " 'totalResults': '430',\n",
       " 'Response': 'True'}"
      ]
     },
     "execution_count": 6,
     "metadata": {},
     "output_type": "execute_result"
    }
   ],
   "source": [
    "#busqueda con valor, s\n",
    "consulta = requests.get(uri, {\"s\" : \"Star Wars\", \"type\" : \"movie\"})\n",
    "consulta.json()"
   ]
  },
  {
   "cell_type": "code",
   "execution_count": 7,
   "metadata": {},
   "outputs": [
    {
     "data": {
      "text/plain": [
       "{'Title': 'Star Wars: Episode II - Attack of the Clones',\n",
       " 'Year': '2002',\n",
       " 'Rated': 'PG',\n",
       " 'Released': '16 May 2002',\n",
       " 'Runtime': '142 min',\n",
       " 'Genre': 'Action, Adventure, Fantasy, Sci-Fi',\n",
       " 'Director': 'George Lucas',\n",
       " 'Writer': 'George Lucas (screenplay by), Jonathan Hales (screenplay by), George Lucas (story by)',\n",
       " 'Actors': 'Ewan McGregor, Natalie Portman, Hayden Christensen, Christopher Lee',\n",
       " 'Plot': 'Ten years after initially meeting, Anakin Skywalker shares a forbidden romance with Padmé Amidala, while Obi-Wan Kenobi investigates an assassination attempt on the senator and discovers a secret clone army crafted for the Jedi.',\n",
       " 'Language': 'English',\n",
       " 'Country': 'USA',\n",
       " 'Awards': 'Nominated for 1 Oscar. Another 19 wins & 64 nominations.',\n",
       " 'Poster': 'https://m.media-amazon.com/images/M/MV5BMDAzM2M0Y2UtZjRmZi00MzVlLTg4MjEtOTE3NzU5ZDVlMTU5XkEyXkFqcGdeQXVyNDUyOTg3Njg@._V1_SX300.jpg',\n",
       " 'Ratings': [{'Source': 'Internet Movie Database', 'Value': '6.5/10'},\n",
       "  {'Source': 'Rotten Tomatoes', 'Value': '65%'},\n",
       "  {'Source': 'Metacritic', 'Value': '54/100'}],\n",
       " 'Metascore': '54',\n",
       " 'imdbRating': '6.5',\n",
       " 'imdbVotes': '653,138',\n",
       " 'imdbID': 'tt0121765',\n",
       " 'Type': 'movie',\n",
       " 'DVD': '10 Apr 2015',\n",
       " 'BoxOffice': '$310,676,740',\n",
       " 'Production': 'Twentieth Century Fox, Lucasfilm Ltd.',\n",
       " 'Website': 'N/A',\n",
       " 'Response': 'True'}"
      ]
     },
     "execution_count": 7,
     "metadata": {},
     "output_type": "execute_result"
    }
   ],
   "source": [
    "#Consulta con informacion, i\n",
    "consulta_info = requests.get(uri, {\"i\" : \"tt0121765\", \"type\" : \"movie\"})\n",
    "consulta_info.json()"
   ]
  },
  {
   "cell_type": "code",
   "execution_count": 8,
   "metadata": {},
   "outputs": [
    {
     "data": {
      "text/plain": [
       "'http://www.omdbapi.com/?8&apikey=473c8044&i=tt0121765&type=movie'"
      ]
     },
     "execution_count": 8,
     "metadata": {},
     "output_type": "execute_result"
    }
   ],
   "source": [
    "consulta_info.url"
   ]
  },
  {
   "cell_type": "code",
   "execution_count": 9,
   "metadata": {},
   "outputs": [],
   "source": [
    "consulta_info.close()"
   ]
  },
  {
   "cell_type": "code",
   "execution_count": null,
   "metadata": {},
   "outputs": [],
   "source": []
  }
 ],
 "metadata": {
  "kernelspec": {
   "display_name": "Python 3",
   "language": "python",
   "name": "python3"
  },
  "language_info": {
   "codemirror_mode": {
    "name": "ipython",
    "version": 3
   },
   "file_extension": ".py",
   "mimetype": "text/x-python",
   "name": "python",
   "nbconvert_exporter": "python",
   "pygments_lexer": "ipython3",
   "version": "3.8.5"
  }
 },
 "nbformat": 4,
 "nbformat_minor": 4
}
