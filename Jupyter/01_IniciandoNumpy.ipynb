{
 "cells": [
  {
   "cell_type": "code",
   "execution_count": 78,
   "metadata": {},
   "outputs": [],
   "source": [
    "import numpy"
   ]
  },
  {
   "cell_type": "code",
   "execution_count": 79,
   "metadata": {},
   "outputs": [
    {
     "name": "stdout",
     "output_type": "stream",
     "text": [
      "[1 2 3]\n"
     ]
    }
   ],
   "source": [
    "arreglo = numpy.array([1, 2, 3])\n",
    "print(arreglo)"
   ]
  },
  {
   "cell_type": "code",
   "execution_count": 80,
   "metadata": {},
   "outputs": [],
   "source": [
    "import numpy as np"
   ]
  },
  {
   "cell_type": "code",
   "execution_count": 81,
   "metadata": {},
   "outputs": [
    {
     "name": "stdout",
     "output_type": "stream",
     "text": [
      "[1 2 3]\n"
     ]
    }
   ],
   "source": [
    "arreglo = np.array([1, 2, 3])\n",
    "print(arreglo)"
   ]
  },
  {
   "cell_type": "code",
   "execution_count": 82,
   "metadata": {},
   "outputs": [],
   "source": [
    "np?"
   ]
  },
  {
   "cell_type": "code",
   "execution_count": 83,
   "metadata": {},
   "outputs": [
    {
     "name": "stdout",
     "output_type": "stream",
     "text": [
      "3\n"
     ]
    }
   ],
   "source": [
    "#Dimensionamiento de arreglos:\n",
    "#una dimension de un arreglo es el nivel de profundidad del arreglo (anidamiento)\n",
    "#Escalares de 0-D\n",
    "arreglo = np.array(3)\n",
    "print(arreglo)"
   ]
  },
  {
   "cell_type": "code",
   "execution_count": 84,
   "metadata": {},
   "outputs": [
    {
     "name": "stdout",
     "output_type": "stream",
     "text": [
      "0\n",
      "1\n",
      "2\n",
      "3\n"
     ]
    }
   ],
   "source": [
    "# Numpy tiene un atributo_ ndim que regresa el numero de dimensiones\n",
    "cero = np.array(17)\n",
    "uno = np.array([1, 2, 3, 4, 5])\n",
    "dos = np.array([[1, 2, 3], [4, 5, 6]])\n",
    "tres = np.array([[[1, 2, 3], [4, 5, 6]],[[1, 2, 3], [4, 5, 6]]])\n",
    "\n",
    "print(cero.ndim)\n",
    "print(uno.ndim)\n",
    "print(dos.ndim)\n",
    "print(tres.ndim)"
   ]
  },
  {
   "cell_type": "code",
   "execution_count": 85,
   "metadata": {},
   "outputs": [
    {
     "data": {
      "text/plain": [
       "numpy.ndarray"
      ]
     },
     "execution_count": 85,
     "metadata": {},
     "output_type": "execute_result"
    }
   ],
   "source": [
    "type(tres)"
   ]
  },
  {
   "cell_type": "code",
   "execution_count": 86,
   "metadata": {},
   "outputs": [
    {
     "name": "stdout",
     "output_type": "stream",
     "text": [
      "[[[[1 2 3]]]]\n",
      "Dim : 4\n"
     ]
    }
   ],
   "source": [
    "#Otro atributo, sólo que este es cuando se crea el arreglo\n",
    "arreglo = np.array([1, 2, 3], ndmin = 4)\n",
    "print(arreglo)\n",
    "print(\"Dim :\", arreglo.ndim)"
   ]
  },
  {
   "cell_type": "code",
   "execution_count": 87,
   "metadata": {},
   "outputs": [
    {
     "name": "stdout",
     "output_type": "stream",
     "text": [
      "1\n",
      "2\n"
     ]
    }
   ],
   "source": [
    "#Elementos de un arreglo\n",
    "arreglo = np.array([1, 2, 3])\n",
    "print(arreglo[0])\n",
    "print(arreglo[0] * arreglo[1])"
   ]
  },
  {
   "cell_type": "code",
   "execution_count": 88,
   "metadata": {},
   "outputs": [
    {
     "name": "stdout",
     "output_type": "stream",
     "text": [
      "2\n",
      "6\n",
      "12\n"
     ]
    }
   ],
   "source": [
    "#Ahora con dimensiones\n",
    "dos = np.array([[1, 2, 3], [4, 5, 6]])\n",
    "tres = np.array([[[1, 2, 3], [4, 5, 6]],[[7, 8, 9], [10, 11, 12]]])\n",
    "print(dos[0,1]) #en la dim 1 el segundpo elemento\n",
    "print(dos[1,2]) #en la dim 2 el tercer elemento\n",
    "print(tres[1, 1, 2]) #en la dim 1 [[1, 2, 3], [4, 5, 6]], [[7, 8, 9], [10, 11, 12]]\n",
    "#Dim 1: [10, 11, 12], elemento 2 : 12"
   ]
  },
  {
   "cell_type": "code",
   "execution_count": 89,
   "metadata": {},
   "outputs": [
    {
     "name": "stdout",
     "output_type": "stream",
     "text": [
      "[1 2 3]\n",
      "[1]\n",
      "[1 2]\n",
      "[]\n",
      "[3 6 9]\n",
      "[1 3 5 7 9]\n",
      "[5 6]\n",
      "[2 5]\n",
      "[[2 3]\n",
      " [5 6]]\n"
     ]
    }
   ],
   "source": [
    "#Se incluye el limite inferior pero no el superior\n",
    "arreglo = np.array([1, 2, 3])\n",
    "print(arreglo[0:3])\n",
    "print(arreglo[0:1])\n",
    "print(arreglo[:2])\n",
    "print(arreglo[-1:-2])\n",
    "#Saltos o pasos en un arreglo\n",
    "arreglo = np.array([1, 2, 3, 4, 5, 6, 7, 8, 9, 10])\n",
    "print(arreglo[2:9:3])\n",
    "print(arreglo[::2])\n",
    "dos = np.array([[1, 2, 3], [4, 5, 6]])\n",
    "print(dos[1, 1:3])\n",
    "print(dos[0:2, 1])\n",
    "print(dos[0:2, 1:3])"
   ]
  },
  {
   "cell_type": "code",
   "execution_count": 90,
   "metadata": {},
   "outputs": [
    {
     "name": "stdout",
     "output_type": "stream",
     "text": [
      "int32\n",
      "float64\n"
     ]
    }
   ],
   "source": [
    "arreglo = np.array([1, 2, 3])\n",
    "print(arreglo.dtype)\n",
    "arreglo = np.array([2.5, 70.45, 100.0])\n",
    "print(arreglo.dtype)"
   ]
  },
  {
   "cell_type": "code",
   "execution_count": 91,
   "metadata": {},
   "outputs": [
    {
     "name": "stdout",
     "output_type": "stream",
     "text": [
      "[1 2 3]\n",
      "int32\n"
     ]
    }
   ],
   "source": [
    "arreglo = np.array([1, 2, 3], dtype = \"i4\")\n",
    "print(arreglo)\n",
    "print(arreglo.dtype)"
   ]
  },
  {
   "cell_type": "code",
   "execution_count": 92,
   "metadata": {},
   "outputs": [],
   "source": [
    "#arreglo = np.array([\"Hugo\", 2, \"Luis\"], dtype = \"i\")"
   ]
  },
  {
   "cell_type": "code",
   "execution_count": 93,
   "metadata": {},
   "outputs": [
    {
     "name": "stdout",
     "output_type": "stream",
     "text": [
      "[  2  70 100]\n",
      "int32\n",
      "[ True  True  True]\n",
      "bool\n"
     ]
    }
   ],
   "source": [
    "arreglo = np.array([2.5, 70.45, 100.0])\n",
    "#crea una copia del arreglo y convierte el tipo de dato\n",
    "nuevo = arreglo.astype(\"i\") #o int\n",
    "print(nuevo)\n",
    "print(nuevo.dtype)\n",
    "nnuevo = nuevo.astype(bool)\n",
    "print(nnuevo)\n",
    "print(nnuevo.dtype)"
   ]
  },
  {
   "cell_type": "code",
   "execution_count": 94,
   "metadata": {},
   "outputs": [
    {
     "name": "stdout",
     "output_type": "stream",
     "text": [
      "[10  2  3]\n",
      "[ 1 20  3]\n"
     ]
    }
   ],
   "source": [
    "import numpy as np\n",
    "#Copiar arreglos: copia arreglo original, no modifica\n",
    "#los elementos del arreglo original\n",
    "arreglo = np.array([1, 2, 3])\n",
    "nuevo = arreglo.copy()\n",
    "arreglo[0] = 10\n",
    "nuevo[1] = 20\n",
    "print(arreglo)\n",
    "print(nuevo)"
   ]
  },
  {
   "cell_type": "code",
   "execution_count": 95,
   "metadata": {},
   "outputs": [
    {
     "name": "stdout",
     "output_type": "stream",
     "text": [
      "[10 20  3]\n",
      "[10 20  3]\n"
     ]
    }
   ],
   "source": [
    "#Vista : copia el arreglo original y las modificaciones que se realicen\n",
    "#modifican el arreglo original\n",
    "arreglo = np.array([1, 2, 3])\n",
    "nuevo = arreglo.view()\n",
    "arreglo[0] = 10\n",
    "nuevo[1] = 20\n",
    "print(arreglo)\n",
    "print(nuevo)"
   ]
  },
  {
   "cell_type": "code",
   "execution_count": 96,
   "metadata": {},
   "outputs": [
    {
     "name": "stdout",
     "output_type": "stream",
     "text": [
      "None\n",
      "[1 2 3]\n"
     ]
    }
   ],
   "source": [
    "#Atributo: base.\n",
    "arreglo = np.array([1, 2, 3])\n",
    "copia = arreglo.copy() # None\n",
    "vista = arreglo.view()\n",
    "\n",
    "print(copia.base) #None tiene su propia información\n",
    "print(vista.base)"
   ]
  },
  {
   "cell_type": "code",
   "execution_count": 97,
   "metadata": {},
   "outputs": [
    {
     "name": "stdout",
     "output_type": "stream",
     "text": [
      "(2, 3)\n"
     ]
    }
   ],
   "source": [
    "#shape: regresa una tupla con el \n",
    "#numero de elementos en cada dimenssion\n",
    "dos = np.array([[1, 2, 3], [4, 5, 6]])\n",
    "print(dos.shape)"
   ]
  },
  {
   "cell_type": "code",
   "execution_count": 98,
   "metadata": {},
   "outputs": [
    {
     "name": "stdout",
     "output_type": "stream",
     "text": [
      "[[1 2 3]]\n",
      "(1, 3)\n"
     ]
    }
   ],
   "source": [
    "cinco = np.array([1, 2, 3], ndmin = 2)\n",
    "print(cinco)\n",
    "print(cinco.shape)"
   ]
  },
  {
   "cell_type": "code",
   "execution_count": 99,
   "metadata": {},
   "outputs": [
    {
     "name": "stdout",
     "output_type": "stream",
     "text": [
      "[[ 1  2  3  4  5]\n",
      " [ 6  7  8  9 10]]\n"
     ]
    }
   ],
   "source": [
    "#reshape: convierte un arreglo de una dimension a otra dimension\n",
    "#numero de arreglo, numero de lementos\n",
    "arreglo = np.array([1, 2, 3, 4, 5, 6, 7, 8, 9, 10])\n",
    "#dos arreglos, de 5 elemetos cada arreglo\n",
    "nuevo = arreglo.reshape(2, 5)\n",
    "print(nuevo)"
   ]
  },
  {
   "cell_type": "code",
   "execution_count": 100,
   "metadata": {},
   "outputs": [
    {
     "name": "stdout",
     "output_type": "stream",
     "text": [
      "[[[ 1  2]\n",
      "  [ 3  4]\n",
      "  [ 5  6]]\n",
      "\n",
      " [[ 7  8]\n",
      "  [ 9 10]\n",
      "  [11 12]]]\n"
     ]
    }
   ],
   "source": [
    "arreglo = np.array([1, 2, 3, 4, 5, 6, 7, 8, 9, 10, 11, 12])\n",
    "nuevo = arreglo.reshape(2, 3, 2)\n",
    "print(nuevo)"
   ]
  },
  {
   "cell_type": "code",
   "execution_count": 101,
   "metadata": {},
   "outputs": [],
   "source": [
    "#arreglo = np.array([1, 2, 3, 4, 5, 6, 7, 8, 9, 10])\n",
    "#nuevo = arreglo.reshape(2, 3)\n",
    "#print(nuevo)"
   ]
  },
  {
   "cell_type": "code",
   "execution_count": 102,
   "metadata": {},
   "outputs": [
    {
     "name": "stdout",
     "output_type": "stream",
     "text": [
      "[[[ 1]\n",
      "  [ 2]\n",
      "  [ 3]\n",
      "  [ 4]\n",
      "  [ 5]]\n",
      "\n",
      " [[ 6]\n",
      "  [ 7]\n",
      "  [ 8]\n",
      "  [ 9]\n",
      "  [10]]]\n"
     ]
    }
   ],
   "source": [
    "arreglo = np.array([1, 2, 3, 4, 5, 6, 7, 8, 9, 10])\n",
    "nuevo = arreglo.reshape(2, 5, -1) #-1, Numpy calcula este numero\n",
    "#sólo se puede utilizar en una dimensión\n",
    "print(nuevo)"
   ]
  },
  {
   "cell_type": "code",
   "execution_count": 103,
   "metadata": {},
   "outputs": [
    {
     "name": "stdout",
     "output_type": "stream",
     "text": [
      "[ 1  2  3  4  5  6  7  8  9 10]\n"
     ]
    }
   ],
   "source": [
    "#Convierte un arreglo multidimensional a una dimension\n",
    "n = nuevo.reshape(-1)\n",
    "print(n)"
   ]
  },
  {
   "cell_type": "code",
   "execution_count": 104,
   "metadata": {},
   "outputs": [
    {
     "name": "stdout",
     "output_type": "stream",
     "text": [
      "1\n",
      "2\n",
      "3\n"
     ]
    }
   ],
   "source": [
    "arreglo = np.array([1, 2, 3])\n",
    "for i in arreglo:\n",
    "    print(i)"
   ]
  },
  {
   "cell_type": "code",
   "execution_count": 105,
   "metadata": {},
   "outputs": [
    {
     "name": "stdout",
     "output_type": "stream",
     "text": [
      "[1 2 3]\n",
      "[4 5 6]\n"
     ]
    }
   ],
   "source": [
    "dos = np.array([[1, 2, 3], [4, 5, 6]])\n",
    "for i in dos:\n",
    "    print(i)"
   ]
  },
  {
   "cell_type": "code",
   "execution_count": 106,
   "metadata": {},
   "outputs": [
    {
     "name": "stdout",
     "output_type": "stream",
     "text": [
      "1\n",
      "2\n",
      "3\n",
      "4\n",
      "5\n",
      "6\n"
     ]
    }
   ],
   "source": [
    "#dos dimensiones\n",
    "dos = np.array([[1, 2, 3], [4, 5, 6]])\n",
    "for i in dos:\n",
    "    for j in i:\n",
    "        print(j)"
   ]
  },
  {
   "cell_type": "code",
   "execution_count": 107,
   "metadata": {},
   "outputs": [
    {
     "name": "stdout",
     "output_type": "stream",
     "text": [
      "[[1 2 3]\n",
      " [4 5 6]]\n",
      "[[ 7  8  9]\n",
      " [10 11 12]]\n"
     ]
    }
   ],
   "source": [
    "tres = np.array([[[1, 2, 3], [4, 5, 6]], [[7, 8, 9], [10, 11, 12]]])\n",
    "for i in tres:\n",
    "    print(i)"
   ]
  },
  {
   "cell_type": "code",
   "execution_count": 108,
   "metadata": {},
   "outputs": [
    {
     "name": "stdout",
     "output_type": "stream",
     "text": [
      "1\n",
      "2\n",
      "3\n",
      "4\n",
      "5\n",
      "6\n",
      "7\n",
      "8\n",
      "9\n",
      "10\n",
      "11\n",
      "12\n"
     ]
    }
   ],
   "source": [
    "#Iteraciones sencillas -> complejas\n",
    "#nditer()\n",
    "#iteracion sencilla\n",
    "for i in np.nditer(tres):\n",
    "    print(i)"
   ]
  },
  {
   "cell_type": "code",
   "execution_count": 109,
   "metadata": {},
   "outputs": [
    {
     "name": "stdout",
     "output_type": "stream",
     "text": [
      "b'1'\n",
      "b'2'\n",
      "b'3'\n"
     ]
    }
   ],
   "source": [
    "arreglo = np.array([1, 2, 3])\n",
    "#No se cambia el tipo de dato\n",
    "#Crea un buffer para realizar la accion que se solicita\n",
    "for i in np.nditer(arreglo, flags=[\"buffered\"], op_dtypes=[\"S\"]):\n",
    "    print(i)"
   ]
  },
  {
   "cell_type": "code",
   "execution_count": 110,
   "metadata": {},
   "outputs": [
    {
     "name": "stdout",
     "output_type": "stream",
     "text": [
      "1\n",
      "3\n",
      "4\n",
      "6\n"
     ]
    }
   ],
   "source": [
    "dos = np.array([[1, 2, 3], [4, 5, 6]])\n",
    "for i in np.nditer(dos[:, ::2]): #se salta un elemento en cada dimension\n",
    "    print(i)"
   ]
  },
  {
   "cell_type": "code",
   "execution_count": 111,
   "metadata": {},
   "outputs": [
    {
     "name": "stdout",
     "output_type": "stream",
     "text": [
      "(0,) 1\n",
      "(1,) 2\n",
      "(2,) 3\n"
     ]
    }
   ],
   "source": [
    "#ndenumerate: es un indice durante la iteracion\n",
    "arreglo = np.array([1, 2, 3])\n",
    "for i, j in np.ndenumerate(arreglo):\n",
    "    print(i, j)"
   ]
  },
  {
   "cell_type": "code",
   "execution_count": 112,
   "metadata": {},
   "outputs": [
    {
     "name": "stdout",
     "output_type": "stream",
     "text": [
      "(0, 0) 1\n",
      "(0, 1) 2\n",
      "(0, 2) 3\n",
      "(1, 0) 4\n",
      "(1, 1) 5\n",
      "(1, 2) 6\n"
     ]
    }
   ],
   "source": [
    "dos = np.array([[1, 2, 3], [4, 5, 6]])\n",
    "for i, j in np.ndenumerate(dos):\n",
    "    print(i, j)"
   ]
  },
  {
   "cell_type": "code",
   "execution_count": 113,
   "metadata": {},
   "outputs": [
    {
     "name": "stdout",
     "output_type": "stream",
     "text": [
      "[1 2 3 4 5 6]\n"
     ]
    }
   ],
   "source": [
    "#Concatenate()\n",
    "a = np.array([1, 2, 3])\n",
    "b = np.array([4, 5, 6])\n",
    "#arreglo = np.array((a, b))\n",
    "arreglo = np.concatenate((a, b))\n",
    "print(arreglo)"
   ]
  },
  {
   "cell_type": "code",
   "execution_count": 114,
   "metadata": {},
   "outputs": [
    {
     "name": "stdout",
     "output_type": "stream",
     "text": [
      "[[1 2]\n",
      " [3 4]\n",
      " [5 6]\n",
      " [7 8]]\n"
     ]
    }
   ],
   "source": [
    "a = np.array([[1, 2], [3, 4]])\n",
    "b = np.array([[5, 6], [7, 8]])\n",
    "arreglo = np.concatenate((a, b))\n",
    "print(arreglo)"
   ]
  },
  {
   "cell_type": "code",
   "execution_count": 115,
   "metadata": {},
   "outputs": [
    {
     "name": "stdout",
     "output_type": "stream",
     "text": [
      "[[1 4]\n",
      " [2 5]\n",
      " [3 6]]\n",
      "[1 2 3 4 5 6]\n",
      "[[1 2 3]\n",
      " [4 5 6]]\n",
      "[[[1 4]\n",
      "  [2 5]\n",
      "  [3 6]]]\n"
     ]
    }
   ],
   "source": [
    "#Stack(): concatena pero se le indica la manera con axis\n",
    "a = np.array([1, 2, 3])\n",
    "b = np.array([4, 5, 6])\n",
    "#arreglo = np.array((a, b))\n",
    "arreglo = np.stack((a, b), axis = 1)\n",
    "arregloH = np.hstack((a, b)) #renglones\n",
    "arregloV = np.vstack((a, b)) #columnas\n",
    "arregloD = np.dstack((a, b)) #altura(profundidad)\n",
    "print(arreglo)\n",
    "print(arregloH)\n",
    "print(arregloV)\n",
    "print(arregloD)"
   ]
  },
  {
   "cell_type": "code",
   "execution_count": 116,
   "metadata": {},
   "outputs": [
    {
     "name": "stdout",
     "output_type": "stream",
     "text": [
      "Arreglo:  [array([1, 2, 3, 4]), array([5, 6, 7]), array([ 8,  9, 10])]\n",
      "Arreglo 1 :  [1 2 3 4]\n",
      "Arreglo 2 :  [5 6 7]\n",
      "Arreglo 3 :  [ 8  9 10]\n",
      "Imprime a:  [1 2 3 4]\n",
      "Imprime b:  [5 6 7]\n",
      "Imprime c:  [ 8  9 10]\n"
     ]
    }
   ],
   "source": [
    "uno = np.array([1, 2, 3, 4, 5, 6, 7, 8, 9, 10])\n",
    "arreglo = np.array_split(uno, 3) #divide en 3 arreglos\n",
    "a, b, c = np.array_split(uno, 3)\n",
    "print(\"Arreglo: \", arreglo)\n",
    "print(\"Arreglo 1 : \", arreglo[0])\n",
    "print(\"Arreglo 2 : \", arreglo[1])\n",
    "print(\"Arreglo 3 : \", arreglo[2])\n",
    "print(\"Imprime a: \", a)\n",
    "print(\"Imprime b: \", b)\n",
    "print(\"Imprime c: \", c)"
   ]
  },
  {
   "cell_type": "code",
   "execution_count": 117,
   "metadata": {},
   "outputs": [
    {
     "name": "stdout",
     "output_type": "stream",
     "text": [
      "Busqueda en uno :  (array([7], dtype=int64),)\n",
      "Pares en uno :  (array([1, 3, 5, 7, 9], dtype=int64),)\n"
     ]
    }
   ],
   "source": [
    "uno = np.array([1, 2, 3, 4, 5, 6, 7, 8, 9, 10])\n",
    "#Busqueda en un arreglo, devuelve una tupla\n",
    "print(\"Busqueda en uno : \", np.where(uno == 8))\n",
    "print(\"Pares en uno : \", np.where(uno%2 == 0))"
   ]
  },
  {
   "cell_type": "code",
   "execution_count": 118,
   "metadata": {},
   "outputs": [
    {
     "name": "stdout",
     "output_type": "stream",
     "text": [
      "Ordenando uno:  [ 1  2  6  8 10]\n",
      "Ordenando dos:  [[ 2  6 10]\n",
      " [ 1  8  9]]\n"
     ]
    }
   ],
   "source": [
    "#ordenando\n",
    "uno = np.array([10, 6, 2, 8, 1])\n",
    "dos = np.array([[10, 6, 2], [8, 1, 9]])\n",
    "print(\"Ordenando uno: \", np.sort(uno))\n",
    "print(\"Ordenando dos: \", np.sort(dos))"
   ]
  },
  {
   "cell_type": "code",
   "execution_count": 119,
   "metadata": {},
   "outputs": [
    {
     "name": "stdout",
     "output_type": "stream",
     "text": [
      "[2]\n"
     ]
    }
   ],
   "source": [
    "#Comparación a manera de filtrado\n",
    "arreglo = np.array([1, 2, 3])\n",
    "val = [False, True, False]\n",
    "nuevo = arreglo[val]\n",
    "print(nuevo)"
   ]
  },
  {
   "cell_type": "code",
   "execution_count": 120,
   "metadata": {},
   "outputs": [
    {
     "name": "stdout",
     "output_type": "stream",
     "text": [
      "[False, False, True]\n",
      "[3]\n"
     ]
    }
   ],
   "source": [
    "arreglo = np.array([1, 2, 3])\n",
    "val = []\n",
    "for i in arreglo:\n",
    "    if i > 2:\n",
    "        val.append(True)\n",
    "    else:\n",
    "        val.append(False)\n",
    "nuevo = arreglo[val]\n",
    "print(val)\n",
    "print(nuevo)"
   ]
  },
  {
   "cell_type": "code",
   "execution_count": 121,
   "metadata": {},
   "outputs": [
    {
     "name": "stdout",
     "output_type": "stream",
     "text": [
      "[False False  True]\n",
      "[3]\n"
     ]
    }
   ],
   "source": [
    "#otra manera de filtrar, más directa\n",
    "arreglo = np.array([1, 2, 3])\n",
    "val = arreglo > 2\n",
    "nuevo = arreglo[val]\n",
    "print(val)\n",
    "print(nuevo)"
   ]
  },
  {
   "cell_type": "code",
   "execution_count": 122,
   "metadata": {},
   "outputs": [
    {
     "name": "stdout",
     "output_type": "stream",
     "text": [
      "Aleatorio :  17\n",
      "Aleatorio rand():  <built-in method rand of numpy.random.mtrand.RandomState object at 0x0000023BD4781640>\n",
      "Aleatorio rand(3):  [0.98943157 0.6945124  0.78969505]\n",
      "Aleatorio :  [59 20 12]\n",
      "Aleatorio :  [[58 34 41 21 12]\n",
      " [85 61 50 18 88]\n",
      " [50 67 61  9 86]]\n",
      "Aleatorio rand(3,5):  [[3.98094694e-01 6.21866019e-01 2.51511563e-01 3.20923729e-01\n",
      "  5.07392395e-01]\n",
      " [3.69526016e-01 4.12919093e-04 9.10972298e-01 9.30778908e-01\n",
      "  9.10609272e-01]\n",
      " [4.46484630e-01 1.44789717e-01 1.15701017e-01 4.21308156e-02\n",
      "  9.67664634e-01]]\n",
      "Aleatorio choice:  5\n",
      "Aleatorio choice size:  [[4 5 3 1 3]\n",
      " [4 2 5 5 5]\n",
      " [4 2 5 3 2]]\n"
     ]
    }
   ],
   "source": [
    "#Pseudoaleatorios\n",
    "from numpy import random\n",
    "alea = random.randint(100) #un numero entero entre 0-100\n",
    "print(\"Aleatorio : \", alea)\n",
    "alea = random.rand #un numero entre 0-1\n",
    "print(\"Aleatorio rand(): \", alea)\n",
    "alea = random.rand(3)\n",
    "print(\"Aleatorio rand(3): \", alea)\n",
    "alea = random.randint(100, size = 3)\n",
    "print(\"Aleatorio : \", alea)\n",
    "alea = random.randint(100, size = (3, 5))\n",
    "print(\"Aleatorio : \", alea)\n",
    "alea = random.rand(3, 5)\n",
    "print(\"Aleatorio rand(3,5): \", alea)\n",
    "alea = random.choice([1, 2, 3, 4, 5]) #selecciona un valor del arreglo\n",
    "print(\"Aleatorio choice: \", alea)\n",
    "alea = random.choice([1, 2, 3, 4, 5], size = (3, 5))\n",
    "print(\"Aleatorio choice size: \", alea)"
   ]
  },
  {
   "cell_type": "code",
   "execution_count": 123,
   "metadata": {},
   "outputs": [
    {
     "name": "stdout",
     "output_type": "stream",
     "text": [
      "Shuffle :  [1 3 2]\n",
      "Permutation :  [1 3 2]\n",
      "Original :  [1 3 2]\n"
     ]
    }
   ],
   "source": [
    "#Shuffle y permutation\n",
    "from numpy import random\n",
    "import numpy as np\n",
    "arreglo = np.array([1, 2, 3])\n",
    "random.shuffle(arreglo) #Modifica el arreglo original\n",
    "print(\"Shuffle : \", arreglo)\n",
    "print(\"Permutation : \", arreglo)\n",
    "print(\"Original : \", arreglo)"
   ]
  },
  {
   "cell_type": "code",
   "execution_count": 124,
   "metadata": {},
   "outputs": [],
   "source": [
    "import matplotlib.pyplot as plt\n",
    "import seaborn as sns #fancy, para analisis de datos\n",
    "#Seaborn es una libreria (de alto nivel) basado en matplotlib\n",
    "#para la visualación de datos.\n",
    "#Proporciona gráficas estadísticas"
   ]
  },
  {
   "cell_type": "code",
   "execution_count": 125,
   "metadata": {},
   "outputs": [
    {
     "data": {
      "image/png": "[encoded data removed]",
      "text/plain": [
       "<Figure size 432x288 with 1 Axes>"
      ]
     },
     "metadata": {
      "needs_background": "light"
     },
     "output_type": "display_data"
    }
   ],
   "source": [
    "#Distribucion\n",
    "sns.distplot([0, 1, 2, 3, 4, 5]) #version = displot\n",
    "#sns.distplot([0, 1, 2, 3, 4, 5], hist = False)\n",
    "plt.show()"
   ]
  },
  {
   "cell_type": "code",
   "execution_count": 126,
   "metadata": {},
   "outputs": [
    {
     "name": "stdout",
     "output_type": "stream",
     "text": [
      "[[-0.34661822  0.22688514  0.60440478]\n",
      " [ 0.2556613   1.15059426 -0.55851238]]\n"
     ]
    }
   ],
   "source": [
    "#Distribución normal o Gaussiana\n",
    "#random.normal() tiene tres parametros\n",
    "# loc - Mean (media aritmetica), es el pico de la curva\n",
    "# scale - desviacion estandar\n",
    "# size - tamañno del arreglo\n",
    "dist = random.normal(size=(2, 3))\n",
    "print(dist)"
   ]
  },
  {
   "cell_type": "code",
   "execution_count": 127,
   "metadata": {},
   "outputs": [
    {
     "name": "stdout",
     "output_type": "stream",
     "text": [
      "[[-1.40170255  0.09072083  2.42062535]\n",
      " [-0.40010949  2.22910414  0.76812892]]\n"
     ]
    }
   ],
   "source": [
    "#Crea una distribución con la media a 1 y la desviacion estandar a 2\n",
    "dist = random.normal(loc = 1, scale = 2, size = (2, 3))\n",
    "print(dist)"
   ]
  },
  {
   "cell_type": "code",
   "execution_count": 128,
   "metadata": {},
   "outputs": [
    {
     "name": "stderr",
     "output_type": "stream",
     "text": [
      "C:\\Users\\jmas_\\anaconda3\\lib\\site-packages\\seaborn\\distributions.py:2551: FutureWarning: `distplot` is a deprecated function and will be removed in a future version. Please adapt your code to use either `displot` (a figure-level function with similar flexibility) or `histplot` (an axes-level function for histograms).\n",
      "  warnings.warn(msg, FutureWarning)\n"
     ]
    },
    {
     "data": {
      "image/png": "[encoded data removed]",
      "text/plain": [
       "<Figure size 432x288 with 1 Axes>"
      ]
     },
     "metadata": {
      "needs_background": "light"
     },
     "output_type": "display_data"
    }
   ],
   "source": [
    "sns.distplot(random.normal(size=100))\n",
    "plt.show()"
   ]
  },
  {
   "cell_type": "code",
   "execution_count": 129,
   "metadata": {},
   "outputs": [
    {
     "name": "stdout",
     "output_type": "stream",
     "text": [
      "[5 6 6 4 7 6 4 5 8 6]\n"
     ]
    }
   ],
   "source": [
    "#Distribucion binomial\n",
    "#Es una distribucion discreta. Es una distribucion definida por un conjunto de eventos\n",
    "#random.binomial(). Tiene tres parametros:\n",
    "# n = numero de pruebas o intentos\n",
    "# p = probabilidad de ocurrencia de cada prueba o intento\n",
    "# size = tamaño del arreglo\n",
    "binomial = random.binomial(n = 10, p = 0.5, size = 10)\n",
    "print(binomial)"
   ]
  },
  {
   "cell_type": "code",
   "execution_count": 130,
   "metadata": {},
   "outputs": [
    {
     "name": "stderr",
     "output_type": "stream",
     "text": [
      "C:\\Users\\jmas_\\anaconda3\\lib\\site-packages\\seaborn\\distributions.py:2551: FutureWarning: `distplot` is a deprecated function and will be removed in a future version. Please adapt your code to use either `displot` (a figure-level function with similar flexibility) or `histplot` (an axes-level function for histograms).\n",
      "  warnings.warn(msg, FutureWarning)\n"
     ]
    },
    {
     "data": {
      "image/png": "[encoded data removed]",
      "text/plain": [
       "<Figure size 432x288 with 1 Axes>"
      ]
     },
     "metadata": {
      "needs_background": "light"
     },
     "output_type": "display_data"
    }
   ],
   "source": [
    "sns.distplot(random.binomial(n=10, p = 0.5, size = 10))\n",
    "plt.show()"
   ]
  },
  {
   "cell_type": "code",
   "execution_count": 131,
   "metadata": {},
   "outputs": [
    {
     "name": "stderr",
     "output_type": "stream",
     "text": [
      "C:\\Users\\jmas_\\anaconda3\\lib\\site-packages\\seaborn\\distributions.py:2551: FutureWarning: `distplot` is a deprecated function and will be removed in a future version. Please adapt your code to use either `displot` (a figure-level function with similar flexibility) or `kdeplot` (an axes-level function for kernel density plots).\n",
      "  warnings.warn(msg, FutureWarning)\n",
      "C:\\Users\\jmas_\\anaconda3\\lib\\site-packages\\seaborn\\distributions.py:2551: FutureWarning: `distplot` is a deprecated function and will be removed in a future version. Please adapt your code to use either `displot` (a figure-level function with similar flexibility) or `kdeplot` (an axes-level function for kernel density plots).\n",
      "  warnings.warn(msg, FutureWarning)\n"
     ]
    },
    {
     "data": {
      "image/png": "[encoded data removed]",
      "text/plain": [
       "<Figure size 432x288 with 1 Axes>"
      ]
     },
     "metadata": {
      "needs_background": "light"
     },
     "output_type": "display_data"
    }
   ],
   "source": [
    "#La diferencia radica entre las dos sitribuciones es que una\n",
    "#es continua y la otra discreta\n",
    "sns.distplot(random.normal(loc=50, scale=5, size= 1000), hist=False, label=\"normal\")\n",
    "sns.distplot(random.binomial(n=100, p=0.5, size = 1000), hist=False, label=\"binomial\")\n",
    "plt.show()"
   ]
  },
  {
   "cell_type": "code",
   "execution_count": 132,
   "metadata": {},
   "outputs": [
    {
     "name": "stdout",
     "output_type": "stream",
     "text": [
      "[3 2 0 2 0 2 2 3 1 5]\n"
     ]
    }
   ],
   "source": [
    "#Distribucion Poisson\n",
    "#es una distribucion discreta y estima cuantas veces puede suceder un evento en cieto momento.\n",
    "#random.poisson(). Tiene dos parametros\n",
    "# Si una persona realiza ejericico 3 veces a la semana,\n",
    "#qué probabilidad existe de que realice 4 veces\n",
    "# lam = numero de ocurrencias\n",
    "# size = tamaño del arreglo\n",
    "poisson = random.poisson(lam=2, size=10)\n",
    "print(poisson)"
   ]
  },
  {
   "cell_type": "code",
   "execution_count": 133,
   "metadata": {},
   "outputs": [
    {
     "name": "stderr",
     "output_type": "stream",
     "text": [
      "C:\\Users\\jmas_\\anaconda3\\lib\\site-packages\\seaborn\\distributions.py:2551: FutureWarning: `distplot` is a deprecated function and will be removed in a future version. Please adapt your code to use either `displot` (a figure-level function with similar flexibility) or `histplot` (an axes-level function for histograms).\n",
      "  warnings.warn(msg, FutureWarning)\n"
     ]
    },
    {
     "data": {
      "image/png": "[encoded data removed]",
      "text/plain": [
       "<Figure size 432x288 with 1 Axes>"
      ]
     },
     "metadata": {
      "needs_background": "light"
     },
     "output_type": "display_data"
    }
   ],
   "source": [
    "sns.distplot(random.poisson(lam=2, size=1000), kde=True)\n",
    "plt.show()"
   ]
  },
  {
   "cell_type": "code",
   "execution_count": 134,
   "metadata": {},
   "outputs": [
    {
     "name": "stdout",
     "output_type": "stream",
     "text": [
      "[[0.6238984  0.52618588 0.91603272]\n",
      " [0.74439518 0.75793645 0.79636759]]\n"
     ]
    }
   ],
   "source": [
    "#Distribucion uniforme describe la probabilidad de cada evento tenga la misma oportunidad de ocurrir.\n",
    "#random.uniform(inf, sup, size)\n",
    "#inf: limite inferior = 0.0\n",
    "#sup: limite superior = 1.0\n",
    "#size : el tamaño del arreglo en dimensiones\n",
    "from numpy import random\n",
    "uni = random.uniform(size=(2,3))\n",
    "print(uni)"
   ]
  },
  {
   "cell_type": "code",
   "execution_count": 135,
   "metadata": {},
   "outputs": [
    {
     "name": "stderr",
     "output_type": "stream",
     "text": [
      "C:\\Users\\jmas_\\anaconda3\\lib\\site-packages\\seaborn\\distributions.py:2551: FutureWarning: `distplot` is a deprecated function and will be removed in a future version. Please adapt your code to use either `displot` (a figure-level function with similar flexibility) or `kdeplot` (an axes-level function for kernel density plots).\n",
      "  warnings.warn(msg, FutureWarning)\n"
     ]
    },
    {
     "data": {
      "image/png": "[encoded data removed]",
      "text/plain": [
       "<Figure size 432x288 with 1 Axes>"
      ]
     },
     "metadata": {
      "needs_background": "light"
     },
     "output_type": "display_data"
    }
   ],
   "source": [
    "#from numpy import random\n",
    "import matplotlib.pyplot as plt\n",
    "import seaborn as sns\n",
    "\n",
    "sns.distplot(random.uniform(size=1000), hist=False)\n",
    "plt.show()"
   ]
  },
  {
   "cell_type": "code",
   "execution_count": 136,
   "metadata": {},
   "outputs": [
    {
     "name": "stdout",
     "output_type": "stream",
     "text": [
      "[[ 2.69907524 -8.51530519 -3.16772217]\n",
      " [-1.48524571 -3.72840466  1.73259117]]\n"
     ]
    }
   ],
   "source": [
    "#Distribucion logística, nos sirve para describir el crecimiento,\n",
    "#Es muy utilizado en machine learning: regresión logística, RNA,...\n",
    "#random.logistic(loc, scale, size)\n",
    "#loc :(default es 0) es el promedio, el pico de la curva\n",
    "#scale: (default es 1) es la desviación estándar\n",
    "#size: el tamaño del arreglo en dimensiones\n",
    "log = random.logistic(loc=1, scale=2, size=(2,3))\n",
    "print(log)"
   ]
  },
  {
   "cell_type": "code",
   "execution_count": 137,
   "metadata": {},
   "outputs": [
    {
     "name": "stderr",
     "output_type": "stream",
     "text": [
      "C:\\Users\\jmas_\\anaconda3\\lib\\site-packages\\seaborn\\distributions.py:2551: FutureWarning: `distplot` is a deprecated function and will be removed in a future version. Please adapt your code to use either `displot` (a figure-level function with similar flexibility) or `kdeplot` (an axes-level function for kernel density plots).\n",
      "  warnings.warn(msg, FutureWarning)\n"
     ]
    },
    {
     "data": {
      "image/png": "[encoded data removed]",
      "text/plain": [
       "<Figure size 432x288 with 1 Axes>"
      ]
     },
     "metadata": {
      "needs_background": "light"
     },
     "output_type": "display_data"
    }
   ],
   "source": [
    "sns.distplot(random.logistic(size=1000), hist=False)\n",
    "plt.show()"
   ]
  },
  {
   "cell_type": "code",
   "execution_count": 138,
   "metadata": {},
   "outputs": [
    {
     "name": "stdout",
     "output_type": "stream",
     "text": [
      "[[0.24260357 0.37081818 2.40126818]\n",
      " [0.39105412 1.65136532 4.05278034]]\n"
     ]
    }
   ],
   "source": [
    "#Diostribucion Chi cuadrada\n",
    "#Es utilziada para verificar errores en mediciones\n",
    "#random.chisquare(df, size)\n",
    "#df : grados de libertad\n",
    "#size : el tamaño del arreglo en dimensiones\n",
    "chi = random.chisquare(df=2, size=(2, 3))\n",
    "print(chi)"
   ]
  },
  {
   "cell_type": "code",
   "execution_count": 139,
   "metadata": {},
   "outputs": [
    {
     "name": "stderr",
     "output_type": "stream",
     "text": [
      "C:\\Users\\jmas_\\anaconda3\\lib\\site-packages\\seaborn\\distributions.py:2551: FutureWarning: `distplot` is a deprecated function and will be removed in a future version. Please adapt your code to use either `displot` (a figure-level function with similar flexibility) or `kdeplot` (an axes-level function for kernel density plots).\n",
      "  warnings.warn(msg, FutureWarning)\n"
     ]
    },
    {
     "data": {
      "image/png": "[encoded data removed]",
      "text/plain": [
       "<Figure size 432x288 with 1 Axes>"
      ]
     },
     "metadata": {
      "needs_background": "light"
     },
     "output_type": "display_data"
    }
   ],
   "source": [
    "sns.distplot(random.chisquare(df=1, size=1000), hist=False)\n",
    "plt.show()"
   ]
  },
  {
   "cell_type": "code",
   "execution_count": 140,
   "metadata": {},
   "outputs": [
    {
     "name": "stdout",
     "output_type": "stream",
     "text": [
      "[[4.8400638  1.06874174 2.83733515]\n",
      " [2.35219449 2.80725677 1.14877922]]\n"
     ]
    }
   ],
   "source": [
    "#Distribucion Rayleigh es utilziada para el procesamiento de señales\n",
    "#es similar a la anterior\n",
    "#random.rayleigh(scale, size)\n",
    "#scale: (default 1.0) desviacion estandar\n",
    "#size : el tamaño del arreglo en dimensiones\n",
    "ray = random.rayleigh(scale=2, size=(2, 3))\n",
    "print(ray)"
   ]
  },
  {
   "cell_type": "code",
   "execution_count": 141,
   "metadata": {},
   "outputs": [
    {
     "name": "stderr",
     "output_type": "stream",
     "text": [
      "C:\\Users\\jmas_\\anaconda3\\lib\\site-packages\\seaborn\\distributions.py:2551: FutureWarning: `distplot` is a deprecated function and will be removed in a future version. Please adapt your code to use either `displot` (a figure-level function with similar flexibility) or `kdeplot` (an axes-level function for kernel density plots).\n",
      "  warnings.warn(msg, FutureWarning)\n"
     ]
    },
    {
     "data": {
      "image/png": "[encoded data removed]",
      "text/plain": [
       "<Figure size 432x288 with 1 Axes>"
      ]
     },
     "metadata": {
      "needs_background": "light"
     },
     "output_type": "display_data"
    }
   ],
   "source": [
    "sns.distplot(random.rayleigh(size=1000), hist=False)\n",
    "plt.show()"
   ]
  },
  {
   "cell_type": "code",
   "execution_count": 142,
   "metadata": {},
   "outputs": [
    {
     "name": "stdout",
     "output_type": "stream",
     "text": [
      "[[0.14490909 6.210514   0.84721306]\n",
      " [2.59966456 0.02128096 0.5768266 ]\n",
      " [7.75146745 2.64364085 2.72393816]]\n"
     ]
    }
   ],
   "source": [
    "#Distribucion de Pareto\n",
    "#Ley de Pareto: 80-20 (80% ganancias 20% perdidas)\n",
    "#random.pareto(a, size)\n",
    "#a: modelado (shape) ???\n",
    "#size : shape del arreglo\n",
    "par = random.pareto(a=1, size=(3, 3))\n",
    "print(par)"
   ]
  },
  {
   "cell_type": "code",
   "execution_count": 143,
   "metadata": {},
   "outputs": [
    {
     "name": "stderr",
     "output_type": "stream",
     "text": [
      "C:\\Users\\jmas_\\anaconda3\\lib\\site-packages\\seaborn\\distributions.py:2551: FutureWarning: `distplot` is a deprecated function and will be removed in a future version. Please adapt your code to use either `displot` (a figure-level function with similar flexibility) or `histplot` (an axes-level function for histograms).\n",
      "  warnings.warn(msg, FutureWarning)\n"
     ]
    },
    {
     "data": {
      "image/png": "[encoded data removed]",
      "text/plain": [
       "<Figure size 432x288 with 1 Axes>"
      ]
     },
     "metadata": {
      "needs_background": "light"
     },
     "output_type": "display_data"
    }
   ],
   "source": [
    "sns.distplot(random.pareto(a=2, size=1000), kde=False)\n",
    "plt.show()"
   ]
  },
  {
   "cell_type": "code",
   "execution_count": 144,
   "metadata": {},
   "outputs": [
    {
     "name": "stdout",
     "output_type": "stream",
     "text": [
      "[[1 1 1]\n",
      " [1 1 1]]\n"
     ]
    }
   ],
   "source": [
    "#Distribucion Zipf: se generan datos en base a la ley Zipf\n",
    "#Ley Zipf: Es conocida como una ley de potencias que se basa en la frecuencia\n",
    "#Ejemplo: Se utiliza para contar la frecuencia de palabras\n",
    "#random.zipf(a, size)\n",
    "z = random.zipf(a=5, size=(2, 3))\n",
    "print(z)"
   ]
  },
  {
   "cell_type": "code",
   "execution_count": 145,
   "metadata": {},
   "outputs": [
    {
     "data": {
      "image/png": "[encoded data removed]",
      "text/plain": [
       "<Figure size 432x288 with 1 Axes>"
      ]
     },
     "metadata": {
      "needs_background": "light"
     },
     "output_type": "display_data"
    }
   ],
   "source": [
    "z = random.zipf(a=2, size=1000)\n",
    "sns.distplot(z[z<20], kde=False)\n",
    "plt.show()"
   ]
  },
  {
   "cell_type": "code",
   "execution_count": 146,
   "metadata": {},
   "outputs": [],
   "source": [
    "#Funciones universales, funciones de Numpy que trabajan sobre objetos ndarray\n",
    "#Estas funciones es una vectorizacion de arreglos por lo tanto más rápido de iterar\n",
    "# Vectorizacion: optimiza las operaciones utilizando las capacidades del procesador(es)\n",
    "#Reciben tres parametros:\n",
    "#where: arreglo booleano o una condicion\n",
    "#dtype: define el tipo de los elementos\n",
    "#out: arreglo de salida"
   ]
  },
  {
   "cell_type": "code",
   "execution_count": 147,
   "metadata": {},
   "outputs": [
    {
     "name": "stdout",
     "output_type": "stream",
     "text": [
      "[5, 7, 9]\n"
     ]
    }
   ],
   "source": [
    "#sin funciones universales se utiliza zip\n",
    "a = [1, 2, 3]\n",
    "b = [4, 5, 6]\n",
    "c = []\n",
    "for i, j in zip(a, b):\n",
    "    c.append(i + j)\n",
    "print(c)"
   ]
  },
  {
   "cell_type": "code",
   "execution_count": 148,
   "metadata": {},
   "outputs": [
    {
     "name": "stdout",
     "output_type": "stream",
     "text": [
      "[5 7 9]\n"
     ]
    }
   ],
   "source": [
    "#Con funciones universales\n",
    "a = [1, 2, 3]\n",
    "b = [4, 5, 6]\n",
    "c = np.add(a, b)\n",
    "print(c)"
   ]
  },
  {
   "cell_type": "code",
   "execution_count": 149,
   "metadata": {},
   "outputs": [
    {
     "name": "stdout",
     "output_type": "stream",
     "text": [
      "[5 7 9]\n"
     ]
    }
   ],
   "source": [
    "#Cracion de funciones universales con frompyfunc()\n",
    "#Este metodo recibe tres parametros\n",
    "#function: nombre de la funcion\n",
    "#inputs: numero de arreglos de entrada\n",
    "#outputs: numero de arreglos de entrada\n",
    "def funcion_agrega(a, b):\n",
    "    return a + b\n",
    "\n",
    "funcion_agrega = np.frompyfunc(funcion_agrega, 2, 1)\n",
    "print(funcion_agrega([1, 2, 3], [4, 5, 6]))"
   ]
  },
  {
   "cell_type": "code",
   "execution_count": 150,
   "metadata": {},
   "outputs": [
    {
     "name": "stdout",
     "output_type": "stream",
     "text": [
      "[5 7 9]\n"
     ]
    }
   ],
   "source": [
    "a = np.array([1, 2, 3])\n",
    "b = np.array([4, 5, 6])\n",
    "#Suma\n",
    "c = np.add(a, b)\n",
    "print(c)"
   ]
  },
  {
   "cell_type": "code",
   "execution_count": null,
   "metadata": {},
   "outputs": [],
   "source": []
  }
 ],
 "metadata": {
  "kernelspec": {
   "display_name": "Python 3",
   "language": "python",
   "name": "python3"
  },
  "language_info": {
   "codemirror_mode": {
    "name": "ipython",
    "version": 3
   },
   "file_extension": ".py",
   "mimetype": "text/x-python",
   "name": "python",
   "nbconvert_exporter": "python",
   "pygments_lexer": "ipython3",
   "version": "3.8.5"
  }
 },
 "nbformat": 4,
 "nbformat_minor": 4
}
