{
 "cells": [
  {
   "cell_type": "code",
   "execution_count": 2,
   "metadata": {},
   "outputs": [],
   "source": [
    "import numpy"
   ]
  },
  {
   "cell_type": "code",
   "execution_count": 3,
   "metadata": {},
   "outputs": [
    {
     "name": "stdout",
     "output_type": "stream",
     "text": [
      "[1 2 3]\n"
     ]
    }
   ],
   "source": [
    "arreglo = numpy.array([1, 2, 3])\n",
    "print(arreglo)"
   ]
  },
  {
   "cell_type": "code",
   "execution_count": 4,
   "metadata": {},
   "outputs": [],
   "source": [
    "import numpy as np"
   ]
  },
  {
   "cell_type": "code",
   "execution_count": 5,
   "metadata": {},
   "outputs": [
    {
     "name": "stdout",
     "output_type": "stream",
     "text": [
      "[1 2 3]\n"
     ]
    }
   ],
   "source": [
    "arreglo = np.array([1, 2, 3])\n",
    "print(arreglo)"
   ]
  },
  {
   "cell_type": "code",
   "execution_count": 6,
   "metadata": {},
   "outputs": [],
   "source": [
    "np?"
   ]
  },
  {
   "cell_type": "code",
   "execution_count": 7,
   "metadata": {},
   "outputs": [
    {
     "name": "stdout",
     "output_type": "stream",
     "text": [
      "3\n"
     ]
    }
   ],
   "source": [
    "#Dimensionamiento de arreglos:\n",
    "#una dimension de un arreglo es el nivel de profundidad del arreglo (anidamiento)\n",
    "#Escalares de 0-D\n",
    "arreglo = np.array(3)\n",
    "print(arreglo)"
   ]
  },
  {
   "cell_type": "code",
   "execution_count": 8,
   "metadata": {},
   "outputs": [
    {
     "name": "stdout",
     "output_type": "stream",
     "text": [
      "0\n",
      "1\n",
      "2\n",
      "3\n"
     ]
    }
   ],
   "source": [
    "# Numpy tiene un atributo_ ndim que regresa el numero de dimensiones\n",
    "cero = np.array(17)\n",
    "uno = np.array([1, 2, 3, 4, 5])\n",
    "dos = np.array([[1, 2, 3], [4, 5, 6]])\n",
    "tres = np.array([[[1, 2, 3], [4, 5, 6]],[[1, 2, 3], [4, 5, 6]]])\n",
    "\n",
    "print(cero.ndim)\n",
    "print(uno.ndim)\n",
    "print(dos.ndim)\n",
    "print(tres.ndim)"
   ]
  },
  {
   "cell_type": "code",
   "execution_count": 9,
   "metadata": {},
   "outputs": [
    {
     "data": {
      "text/plain": [
       "numpy.ndarray"
      ]
     },
     "execution_count": 9,
     "metadata": {},
     "output_type": "execute_result"
    }
   ],
   "source": [
    "type(tres)"
   ]
  },
  {
   "cell_type": "code",
   "execution_count": 10,
   "metadata": {},
   "outputs": [
    {
     "name": "stdout",
     "output_type": "stream",
     "text": [
      "[[[[1 2 3]]]]\n",
      "Dim : 4\n"
     ]
    }
   ],
   "source": [
    "#Otro atributo, sólo que este es cuando se crea el arreglo\n",
    "arreglo = np.array([1, 2, 3], ndmin = 4)\n",
    "print(arreglo)\n",
    "print(\"Dim :\", arreglo.ndim)"
   ]
  },
  {
   "cell_type": "code",
   "execution_count": 11,
   "metadata": {},
   "outputs": [
    {
     "name": "stdout",
     "output_type": "stream",
     "text": [
      "1\n",
      "2\n"
     ]
    }
   ],
   "source": [
    "#Elementos de un arreglo\n",
    "arreglo = np.array([1, 2, 3])\n",
    "print(arreglo[0])\n",
    "print(arreglo[0] * arreglo[1])"
   ]
  },
  {
   "cell_type": "code",
   "execution_count": 12,
   "metadata": {},
   "outputs": [
    {
     "name": "stdout",
     "output_type": "stream",
     "text": [
      "2\n",
      "6\n",
      "12\n"
     ]
    }
   ],
   "source": [
    "#Ahora con dimensiones\n",
    "dos = np.array([[1, 2, 3], [4, 5, 6]])\n",
    "tres = np.array([[[1, 2, 3], [4, 5, 6]],[[7, 8, 9], [10, 11, 12]]])\n",
    "print(dos[0,1]) #en la dim 1 el segundpo elemento\n",
    "print(dos[1,2]) #en la dim 2 el tercer elemento\n",
    "print(tres[1, 1, 2]) #en la dim 1 [[1, 2, 3], [4, 5, 6]], [[7, 8, 9], [10, 11, 12]]\n",
    "#Dim 1: [10, 11, 12], elemento 2 : 12"
   ]
  },
  {
   "cell_type": "code",
   "execution_count": 13,
   "metadata": {},
   "outputs": [
    {
     "name": "stdout",
     "output_type": "stream",
     "text": [
      "[1 2 3]\n",
      "[1]\n",
      "[1 2]\n",
      "[]\n",
      "[3 6 9]\n",
      "[1 3 5 7 9]\n",
      "[5 6]\n",
      "[2 5]\n",
      "[[2 3]\n",
      " [5 6]]\n"
     ]
    }
   ],
   "source": [
    "#Se incluye el limite inferior pero no el superior\n",
    "arreglo = np.array([1, 2, 3])\n",
    "print(arreglo[0:3])\n",
    "print(arreglo[0:1])\n",
    "print(arreglo[:2])\n",
    "print(arreglo[-1:-2])\n",
    "#Saltos o pasos en un arreglo\n",
    "arreglo = np.array([1, 2, 3, 4, 5, 6, 7, 8, 9, 10])\n",
    "print(arreglo[2:9:3])\n",
    "print(arreglo[::2])\n",
    "dos = np.array([[1, 2, 3], [4, 5, 6]])\n",
    "print(dos[1, 1:3])\n",
    "print(dos[0:2, 1])\n",
    "print(dos[0:2, 1:3])"
   ]
  },
  {
   "cell_type": "code",
   "execution_count": 14,
   "metadata": {},
   "outputs": [
    {
     "name": "stdout",
     "output_type": "stream",
     "text": [
      "int32\n",
      "float64\n"
     ]
    }
   ],
   "source": [
    "arreglo = np.array([1, 2, 3])\n",
    "print(arreglo.dtype)\n",
    "arreglo = np.array([2.5, 70.45, 100.0])\n",
    "print(arreglo.dtype)"
   ]
  },
  {
   "cell_type": "code",
   "execution_count": 15,
   "metadata": {},
   "outputs": [
    {
     "name": "stdout",
     "output_type": "stream",
     "text": [
      "[1 2 3]\n",
      "int32\n"
     ]
    }
   ],
   "source": [
    "arreglo = np.array([1, 2, 3], dtype = \"i4\")\n",
    "print(arreglo)\n",
    "print(arreglo.dtype)"
   ]
  },
  {
   "cell_type": "code",
   "execution_count": 16,
   "metadata": {},
   "outputs": [],
   "source": [
    "#arreglo = np.array([\"Hugo\", 2, \"Luis\"], dtype = \"i\")"
   ]
  },
  {
   "cell_type": "code",
   "execution_count": 17,
   "metadata": {},
   "outputs": [
    {
     "name": "stdout",
     "output_type": "stream",
     "text": [
      "[  2  70 100]\n",
      "int32\n",
      "[ True  True  True]\n",
      "bool\n"
     ]
    }
   ],
   "source": [
    "arreglo = np.array([2.5, 70.45, 100.0])\n",
    "#crea una copia del arreglo y convierte el tipo de dato\n",
    "nuevo = arreglo.astype(\"i\") #o int\n",
    "print(nuevo)\n",
    "print(nuevo.dtype)\n",
    "nnuevo = nuevo.astype(bool)\n",
    "print(nnuevo)\n",
    "print(nnuevo.dtype)"
   ]
  },
  {
   "cell_type": "code",
   "execution_count": 18,
   "metadata": {},
   "outputs": [
    {
     "name": "stdout",
     "output_type": "stream",
     "text": [
      "[10  2  3]\n",
      "[ 1 20  3]\n"
     ]
    }
   ],
   "source": [
    "import numpy as np\n",
    "#Copiar arreglos: copia arreglo original, no modifica\n",
    "#los elementos del arreglo original\n",
    "arreglo = np.array([1, 2, 3])\n",
    "nuevo = arreglo.copy()\n",
    "arreglo[0] = 10\n",
    "nuevo[1] = 20\n",
    "print(arreglo)\n",
    "print(nuevo)"
   ]
  },
  {
   "cell_type": "code",
   "execution_count": 19,
   "metadata": {},
   "outputs": [
    {
     "name": "stdout",
     "output_type": "stream",
     "text": [
      "[10 20  3]\n",
      "[10 20  3]\n"
     ]
    }
   ],
   "source": [
    "#Vista : copia el arreglo original y las modificaciones que se realicen\n",
    "#modifican el arreglo original\n",
    "arreglo = np.array([1, 2, 3])\n",
    "nuevo = arreglo.view()\n",
    "arreglo[0] = 10\n",
    "nuevo[1] = 20\n",
    "print(arreglo)\n",
    "print(nuevo)"
   ]
  },
  {
   "cell_type": "code",
   "execution_count": 20,
   "metadata": {},
   "outputs": [
    {
     "name": "stdout",
     "output_type": "stream",
     "text": [
      "None\n",
      "[1 2 3]\n"
     ]
    }
   ],
   "source": [
    "#Atributo: base.\n",
    "arreglo = np.array([1, 2, 3])\n",
    "copia = arreglo.copy() # None\n",
    "vista = arreglo.view()\n",
    "\n",
    "print(copia.base) #None tiene su propia información\n",
    "print(vista.base)"
   ]
  },
  {
   "cell_type": "code",
   "execution_count": 21,
   "metadata": {},
   "outputs": [
    {
     "name": "stdout",
     "output_type": "stream",
     "text": [
      "(2, 3)\n"
     ]
    }
   ],
   "source": [
    "#shape: regresa una tupla con el \n",
    "#numero de elementos en cada dimenssion\n",
    "dos = np.array([[1, 2, 3], [4, 5, 6]])\n",
    "print(dos.shape)"
   ]
  },
  {
   "cell_type": "code",
   "execution_count": 22,
   "metadata": {},
   "outputs": [
    {
     "name": "stdout",
     "output_type": "stream",
     "text": [
      "[[1 2 3]]\n",
      "(1, 3)\n"
     ]
    }
   ],
   "source": [
    "cinco = np.array([1, 2, 3], ndmin = 2)\n",
    "print(cinco)\n",
    "print(cinco.shape)"
   ]
  },
  {
   "cell_type": "code",
   "execution_count": 23,
   "metadata": {},
   "outputs": [
    {
     "name": "stdout",
     "output_type": "stream",
     "text": [
      "[[ 1  2  3  4  5]\n",
      " [ 6  7  8  9 10]]\n"
     ]
    }
   ],
   "source": [
    "#reshape: convierte un arreglo de una dimension a otra dimension\n",
    "#numero de arreglo, numero de lementos\n",
    "arreglo = np.array([1, 2, 3, 4, 5, 6, 7, 8, 9, 10])\n",
    "#dos arreglos, de 5 elemetos cada arreglo\n",
    "nuevo = arreglo.reshape(2, 5)\n",
    "print(nuevo)"
   ]
  },
  {
   "cell_type": "code",
   "execution_count": 24,
   "metadata": {},
   "outputs": [
    {
     "name": "stdout",
     "output_type": "stream",
     "text": [
      "[[[ 1  2]\n",
      "  [ 3  4]\n",
      "  [ 5  6]]\n",
      "\n",
      " [[ 7  8]\n",
      "  [ 9 10]\n",
      "  [11 12]]]\n"
     ]
    }
   ],
   "source": [
    "arreglo = np.array([1, 2, 3, 4, 5, 6, 7, 8, 9, 10, 11, 12])\n",
    "nuevo = arreglo.reshape(2, 3, 2)\n",
    "print(nuevo)"
   ]
  },
  {
   "cell_type": "code",
   "execution_count": 25,
   "metadata": {},
   "outputs": [],
   "source": [
    "#arreglo = np.array([1, 2, 3, 4, 5, 6, 7, 8, 9, 10])\n",
    "#nuevo = arreglo.reshape(2, 3)\n",
    "#print(nuevo)"
   ]
  },
  {
   "cell_type": "code",
   "execution_count": 26,
   "metadata": {},
   "outputs": [
    {
     "name": "stdout",
     "output_type": "stream",
     "text": [
      "[[[ 1]\n",
      "  [ 2]\n",
      "  [ 3]\n",
      "  [ 4]\n",
      "  [ 5]]\n",
      "\n",
      " [[ 6]\n",
      "  [ 7]\n",
      "  [ 8]\n",
      "  [ 9]\n",
      "  [10]]]\n"
     ]
    }
   ],
   "source": [
    "arreglo = np.array([1, 2, 3, 4, 5, 6, 7, 8, 9, 10])\n",
    "nuevo = arreglo.reshape(2, 5, -1) #-1, Numpy calcula este numero\n",
    "#sólo se puede utilizar en una dimensión\n",
    "print(nuevo)"
   ]
  },
  {
   "cell_type": "code",
   "execution_count": 27,
   "metadata": {},
   "outputs": [
    {
     "name": "stdout",
     "output_type": "stream",
     "text": [
      "[ 1  2  3  4  5  6  7  8  9 10]\n"
     ]
    }
   ],
   "source": [
    "#Convierte un arreglo multidimensional a una dimension\n",
    "n = nuevo.reshape(-1)\n",
    "print(n)"
   ]
  },
  {
   "cell_type": "code",
   "execution_count": 28,
   "metadata": {},
   "outputs": [
    {
     "name": "stdout",
     "output_type": "stream",
     "text": [
      "1\n",
      "2\n",
      "3\n"
     ]
    }
   ],
   "source": [
    "arreglo = np.array([1, 2, 3])\n",
    "for i in arreglo:\n",
    "    print(i)"
   ]
  },
  {
   "cell_type": "code",
   "execution_count": 29,
   "metadata": {},
   "outputs": [
    {
     "name": "stdout",
     "output_type": "stream",
     "text": [
      "[1 2 3]\n",
      "[4 5 6]\n"
     ]
    }
   ],
   "source": [
    "dos = np.array([[1, 2, 3], [4, 5, 6]])\n",
    "for i in dos:\n",
    "    print(i)"
   ]
  },
  {
   "cell_type": "code",
   "execution_count": 30,
   "metadata": {},
   "outputs": [
    {
     "name": "stdout",
     "output_type": "stream",
     "text": [
      "1\n",
      "2\n",
      "3\n",
      "4\n",
      "5\n",
      "6\n"
     ]
    }
   ],
   "source": [
    "#dos dimensiones\n",
    "dos = np.array([[1, 2, 3], [4, 5, 6]])\n",
    "for i in dos:\n",
    "    for j in i:\n",
    "        print(j)"
   ]
  },
  {
   "cell_type": "code",
   "execution_count": 31,
   "metadata": {},
   "outputs": [
    {
     "name": "stdout",
     "output_type": "stream",
     "text": [
      "[[1 2 3]\n",
      " [4 5 6]]\n",
      "[[ 7  8  9]\n",
      " [10 11 12]]\n"
     ]
    }
   ],
   "source": [
    "tres = np.array([[[1, 2, 3], [4, 5, 6]], [[7, 8, 9], [10, 11, 12]]])\n",
    "for i in tres:\n",
    "    print(i)"
   ]
  },
  {
   "cell_type": "code",
   "execution_count": 32,
   "metadata": {},
   "outputs": [
    {
     "name": "stdout",
     "output_type": "stream",
     "text": [
      "1\n",
      "2\n",
      "3\n",
      "4\n",
      "5\n",
      "6\n",
      "7\n",
      "8\n",
      "9\n",
      "10\n",
      "11\n",
      "12\n"
     ]
    }
   ],
   "source": [
    "#Iteraciones sencillas -> complejas\n",
    "#nditer()\n",
    "#iteracion sencilla\n",
    "for i in np.nditer(tres):\n",
    "    print(i)"
   ]
  },
  {
   "cell_type": "code",
   "execution_count": 33,
   "metadata": {},
   "outputs": [
    {
     "name": "stdout",
     "output_type": "stream",
     "text": [
      "b'1'\n",
      "b'2'\n",
      "b'3'\n"
     ]
    }
   ],
   "source": [
    "arreglo = np.array([1, 2, 3])\n",
    "#No se cambia el tipo de dato\n",
    "#Crea un buffer para realizar la accion que se solicita\n",
    "for i in np.nditer(arreglo, flags=[\"buffered\"], op_dtypes=[\"S\"]):\n",
    "    print(i)"
   ]
  },
  {
   "cell_type": "code",
   "execution_count": 34,
   "metadata": {},
   "outputs": [
    {
     "name": "stdout",
     "output_type": "stream",
     "text": [
      "1\n",
      "3\n",
      "4\n",
      "6\n"
     ]
    }
   ],
   "source": [
    "dos = np.array([[1, 2, 3], [4, 5, 6]])\n",
    "for i in np.nditer(dos[:, ::2]): #se salta un elemento en cada dimension\n",
    "    print(i)"
   ]
  },
  {
   "cell_type": "code",
   "execution_count": 35,
   "metadata": {},
   "outputs": [
    {
     "name": "stdout",
     "output_type": "stream",
     "text": [
      "(0,) 1\n",
      "(1,) 2\n",
      "(2,) 3\n"
     ]
    }
   ],
   "source": [
    "#ndenumerate: es un indice durante la iteracion\n",
    "arreglo = np.array([1, 2, 3])\n",
    "for i, j in np.ndenumerate(arreglo):\n",
    "    print(i, j)"
   ]
  },
  {
   "cell_type": "code",
   "execution_count": 37,
   "metadata": {},
   "outputs": [
    {
     "name": "stdout",
     "output_type": "stream",
     "text": [
      "(0, 0) 1\n",
      "(0, 1) 2\n",
      "(0, 2) 3\n",
      "(1, 0) 4\n",
      "(1, 1) 5\n",
      "(1, 2) 6\n"
     ]
    }
   ],
   "source": [
    "dos = np.array([[1, 2, 3], [4, 5, 6]])\n",
    "for i, j in np.ndenumerate(dos):\n",
    "    print(i, j)"
   ]
  },
  {
   "cell_type": "code",
   "execution_count": 38,
   "metadata": {},
   "outputs": [
    {
     "name": "stdout",
     "output_type": "stream",
     "text": [
      "[1 2 3 4 5 6]\n"
     ]
    }
   ],
   "source": [
    "#Concatenate()\n",
    "a = np.array([1, 2, 3])\n",
    "b = np.array([4, 5, 6])\n",
    "#arreglo = np.array((a, b))\n",
    "arreglo = np.concatenate((a, b))\n",
    "print(arreglo)"
   ]
  },
  {
   "cell_type": "code",
   "execution_count": 39,
   "metadata": {},
   "outputs": [
    {
     "name": "stdout",
     "output_type": "stream",
     "text": [
      "[[1 2]\n",
      " [3 4]\n",
      " [5 6]\n",
      " [7 8]]\n"
     ]
    }
   ],
   "source": [
    "a = np.array([[1, 2], [3, 4]])\n",
    "b = np.array([[5, 6], [7, 8]])\n",
    "arreglo = np.concatenate((a, b))\n",
    "print(arreglo)"
   ]
  },
  {
   "cell_type": "code",
   "execution_count": 40,
   "metadata": {},
   "outputs": [
    {
     "name": "stdout",
     "output_type": "stream",
     "text": [
      "[[1 4]\n",
      " [2 5]\n",
      " [3 6]]\n",
      "[1 2 3 4 5 6]\n",
      "[[1 2 3]\n",
      " [4 5 6]]\n",
      "[[[1 4]\n",
      "  [2 5]\n",
      "  [3 6]]]\n"
     ]
    }
   ],
   "source": [
    "#Stack(): concatena pero se le indica la manera con axis\n",
    "a = np.array([1, 2, 3])\n",
    "b = np.array([4, 5, 6])\n",
    "#arreglo = np.array((a, b))\n",
    "arreglo = np.stack((a, b), axis = 1)\n",
    "arregloH = np.hstack((a, b)) #renglones\n",
    "arregloV = np.vstack((a, b)) #columnas\n",
    "arregloD = np.dstack((a, b)) #altura(profundidad)\n",
    "print(arreglo)\n",
    "print(arregloH)\n",
    "print(arregloV)\n",
    "print(arregloD)"
   ]
  },
  {
   "cell_type": "code",
   "execution_count": 41,
   "metadata": {},
   "outputs": [
    {
     "name": "stdout",
     "output_type": "stream",
     "text": [
      "Arreglo:  [array([1, 2, 3, 4]), array([5, 6, 7]), array([ 8,  9, 10])]\n",
      "Arreglo 1 :  [1 2 3 4]\n",
      "Arreglo 2 :  [5 6 7]\n",
      "Arreglo 3 :  [ 8  9 10]\n",
      "Imprime a:  [1 2 3 4]\n",
      "Imprime b:  [5 6 7]\n",
      "Imprime c:  [ 8  9 10]\n"
     ]
    }
   ],
   "source": [
    "uno = np.array([1, 2, 3, 4, 5, 6, 7, 8, 9, 10])\n",
    "arreglo = np.array_split(uno, 3) #divide en 3 arreglos\n",
    "a, b, c = np.array_split(uno, 3)\n",
    "print(\"Arreglo: \", arreglo)\n",
    "print(\"Arreglo 1 : \", arreglo[0])\n",
    "print(\"Arreglo 2 : \", arreglo[1])\n",
    "print(\"Arreglo 3 : \", arreglo[2])\n",
    "print(\"Imprime a: \", a)\n",
    "print(\"Imprime b: \", b)\n",
    "print(\"Imprime c: \", c)"
   ]
  },
  {
   "cell_type": "code",
   "execution_count": 44,
   "metadata": {},
   "outputs": [
    {
     "name": "stdout",
     "output_type": "stream",
     "text": [
      "Busqueda en uno :  (array([7], dtype=int64),)\n",
      "Pares en uno :  (array([1, 3, 5, 7, 9], dtype=int64),)\n"
     ]
    }
   ],
   "source": [
    "uno = np.array([1, 2, 3, 4, 5, 6, 7, 8, 9, 10])\n",
    "#Busqueda en un arreglo, devuelve una tupla\n",
    "print(\"Busqueda en uno : \", np.where(uno == 8))\n",
    "print(\"Pares en uno : \", np.where(uno%2 == 0))"
   ]
  },
  {
   "cell_type": "code",
   "execution_count": 45,
   "metadata": {},
   "outputs": [
    {
     "name": "stdout",
     "output_type": "stream",
     "text": [
      "Ordenando uno:  [ 1  2  6  8 10]\n",
      "Ordenando dos:  [[ 2  6 10]\n",
      " [ 1  8  9]]\n"
     ]
    }
   ],
   "source": [
    "#ordenando\n",
    "uno = np.array([10, 6, 2, 8, 1])\n",
    "dos = np.array([[10, 6, 2], [8, 1, 9]])\n",
    "print(\"Ordenando uno: \", np.sort(uno))\n",
    "print(\"Ordenando dos: \", np.sort(dos))"
   ]
  },
  {
   "cell_type": "code",
   "execution_count": 46,
   "metadata": {},
   "outputs": [
    {
     "name": "stdout",
     "output_type": "stream",
     "text": [
      "[2]\n"
     ]
    }
   ],
   "source": [
    "#Comparación a manera de filtrado\n",
    "arreglo = np.array([1, 2, 3])\n",
    "val = [False, True, False]\n",
    "nuevo = arreglo[val]\n",
    "print(nuevo)"
   ]
  },
  {
   "cell_type": "code",
   "execution_count": 47,
   "metadata": {},
   "outputs": [
    {
     "name": "stdout",
     "output_type": "stream",
     "text": [
      "[False, False, True]\n",
      "[3]\n"
     ]
    }
   ],
   "source": [
    "arreglo = np.array([1, 2, 3])\n",
    "val = []\n",
    "for i in arreglo:\n",
    "    if i > 2:\n",
    "        val.append(True)\n",
    "    else:\n",
    "        val.append(False)\n",
    "nuevo = arreglo[val]\n",
    "print(val)\n",
    "print(nuevo)"
   ]
  },
  {
   "cell_type": "code",
   "execution_count": 48,
   "metadata": {},
   "outputs": [
    {
     "name": "stdout",
     "output_type": "stream",
     "text": [
      "[False False  True]\n",
      "[3]\n"
     ]
    }
   ],
   "source": [
    "#otra manera de filtrar, más directa\n",
    "arreglo = np.array([1, 2, 3])\n",
    "val = arreglo > 2\n",
    "nuevo = arreglo[val]\n",
    "print(val)\n",
    "print(nuevo)"
   ]
  },
  {
   "cell_type": "code",
   "execution_count": 3,
   "metadata": {},
   "outputs": [
    {
     "name": "stdout",
     "output_type": "stream",
     "text": [
      "Aleatorio :  48\n",
      "Aleatorio rand():  <built-in method rand of numpy.random.mtrand.RandomState object at 0x00000211F86B1740>\n",
      "Aleatorio rand(3):  [0.19195756 0.79712279 0.85744592]\n",
      "Aleatorio :  [21  2 38]\n",
      "Aleatorio :  [[ 6 17 93 52 51]\n",
      " [89 65 95  7 56]\n",
      " [51 16 75 89 80]]\n",
      "Aleatorio rand(3,5):  [[0.13776178 0.60069853 0.3595091  0.83783112 0.54619671]\n",
      " [0.41004418 0.45364582 0.45494018 0.34309871 0.82940391]\n",
      " [0.76062058 0.18144662 0.90718719 0.44303429 0.97490518]]\n",
      "Aleatorio choice:  4\n",
      "Aleatorio choice size:  [[3 2 1 3 5]\n",
      " [2 3 3 2 4]\n",
      " [1 5 2 5 5]]\n"
     ]
    }
   ],
   "source": [
    "#Pseudoaleatorios\n",
    "from numpy import random\n",
    "alea = random.randint(100) #un numero entero entre 0-100\n",
    "print(\"Aleatorio : \", alea)\n",
    "alea = random.rand #un numero entre 0-1\n",
    "print(\"Aleatorio rand(): \", alea)\n",
    "alea = random.rand(3)\n",
    "print(\"Aleatorio rand(3): \", alea)\n",
    "alea = random.randint(100, size = 3)\n",
    "print(\"Aleatorio : \", alea)\n",
    "alea = random.randint(100, size = (3, 5))\n",
    "print(\"Aleatorio : \", alea)\n",
    "alea = random.rand(3, 5)\n",
    "print(\"Aleatorio rand(3,5): \", alea)\n",
    "alea = random.choice([1, 2, 3, 4, 5]) #selecciona un valor del arreglo\n",
    "print(\"Aleatorio choice: \", alea)\n",
    "alea = random.choice([1, 2, 3, 4, 5], size = (3, 5))\n",
    "print(\"Aleatorio choice size: \", alea)"
   ]
  },
  {
   "cell_type": "code",
   "execution_count": 4,
   "metadata": {},
   "outputs": [
    {
     "name": "stdout",
     "output_type": "stream",
     "text": [
      "Shuffle :  [2 1 3]\n",
      "Permutation :  [2 1 3]\n",
      "Original :  [2 1 3]\n"
     ]
    }
   ],
   "source": [
    "#Shuffle y permutation\n",
    "from numpy import random\n",
    "import numpy as np\n",
    "arreglo = np.array([1, 2, 3])\n",
    "random.shuffle(arreglo) #Modifica el arreglo original\n",
    "print(\"Shuffle : \", arreglo)\n",
    "print(\"Permutation : \", arreglo)\n",
    "print(\"Original : \", arreglo)"
   ]
  },
  {
   "cell_type": "code",
   "execution_count": 5,
   "metadata": {},
   "outputs": [],
   "source": [
    "import matplotlib.pyplot as plt\n",
    "import seaborn as sns\n",
    "#Seaborn es una libreria (de alto nivel) basado en matplotlib\n",
    "#para la visualación de datos.\n",
    "#Proporciona gráficas estadísticas"
   ]
  },
  {
   "cell_type": "code",
   "execution_count": 10,
   "metadata": {},
   "outputs": [
    {
     "name": "stderr",
     "output_type": "stream",
     "text": [
      "C:\\Users\\jmas_\\anaconda3\\lib\\site-packages\\seaborn\\distributions.py:2551: FutureWarning: `distplot` is a deprecated function and will be removed in a future version. Please adapt your code to use either `displot` (a figure-level function with similar flexibility) or `histplot` (an axes-level function for histograms).\n",
      "  warnings.warn(msg, FutureWarning)\n"
     ]
    },
    {
     "data": {
      "image/png": "[encoded data removed]",
      "text/plain": [
       "<Figure size 432x288 with 1 Axes>"
      ]
     },
     "metadata": {
      "needs_background": "light"
     },
     "output_type": "display_data"
    }
   ],
   "source": [
    "#Distribucion\n",
    "sns.distplot([0, 1, 2, 3, 4, 5]) #version = displot\n",
    "#sns.distplot([0, 1, 2, 3, 4, 5], hist = False)\n",
    "plt.show()"
   ]
  },
  {
   "cell_type": "code",
   "execution_count": 11,
   "metadata": {},
   "outputs": [
    {
     "name": "stdout",
     "output_type": "stream",
     "text": [
      "[[ 0.7528276  -0.96448882 -0.56961773]\n",
      " [ 2.2477047   0.18942916  1.28857306]]\n"
     ]
    }
   ],
   "source": [
    "#Distribución normal o Gaussiana\n",
    "#random.normal() tiene tres parametros\n",
    "# loc - Mean (media aritmetica), es el pico de la curva\n",
    "# scale - desviacion estandar\n",
    "# size - tamañno del arreglo\n",
    "dist = random.normal(size=(2, 3))\n",
    "print(dist)"
   ]
  },
  {
   "cell_type": "code",
   "execution_count": 12,
   "metadata": {},
   "outputs": [
    {
     "name": "stdout",
     "output_type": "stream",
     "text": [
      "[[ 1.52500728 -1.75259932 -4.72877948]\n",
      " [-3.64932525  1.63438691  4.95121379]]\n"
     ]
    }
   ],
   "source": [
    "#Crea una distribución con la media a 1 y la desviacion estandar a 2\n",
    "dist = random.normal(loc = 1, scale = 2, size = (2, 3))\n",
    "print(dist)"
   ]
  },
  {
   "cell_type": "code",
   "execution_count": 14,
   "metadata": {},
   "outputs": [
    {
     "name": "stderr",
     "output_type": "stream",
     "text": [
      "C:\\Users\\jmas_\\anaconda3\\lib\\site-packages\\seaborn\\distributions.py:2551: FutureWarning: `distplot` is a deprecated function and will be removed in a future version. Please adapt your code to use either `displot` (a figure-level function with similar flexibility) or `histplot` (an axes-level function for histograms).\n",
      "  warnings.warn(msg, FutureWarning)\n"
     ]
    },
    {
     "data": {
      "image/png": "[encoded data removed]",
      "text/plain": [
       "<Figure size 432x288 with 1 Axes>"
      ]
     },
     "metadata": {
      "needs_background": "light"
     },
     "output_type": "display_data"
    }
   ],
   "source": [
    "sns.distplot(random.normal(size=100))\n",
    "plt.show()"
   ]
  },
  {
   "cell_type": "code",
   "execution_count": null,
   "metadata": {},
   "outputs": [],
   "source": []
  },
  {
   "cell_type": "code",
   "execution_count": null,
   "metadata": {},
   "outputs": [],
   "source": []
  }
 ],
 "metadata": {
  "kernelspec": {
   "display_name": "Python 3",
   "language": "python",
   "name": "python3"
  },
  "language_info": {
   "codemirror_mode": {
    "name": "ipython",
    "version": 3
   },
   "file_extension": ".py",
   "mimetype": "text/x-python",
   "name": "python",
   "nbconvert_exporter": "python",
   "pygments_lexer": "ipython3",
   "version": "3.8.5"
  }
 },
 "nbformat": 4,
 "nbformat_minor": 4
}
