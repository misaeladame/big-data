{
 "cells": [
  {
   "cell_type": "code",
   "execution_count": 1,
   "metadata": {},
   "outputs": [],
   "source": [
    "import numpy"
   ]
  },
  {
   "cell_type": "code",
   "execution_count": 2,
   "metadata": {},
   "outputs": [
    {
     "name": "stdout",
     "output_type": "stream",
     "text": [
      "[1 2 3]\n"
     ]
    }
   ],
   "source": [
    "arreglo = numpy.array([1, 2, 3])\n",
    "print(arreglo)"
   ]
  },
  {
   "cell_type": "code",
   "execution_count": 3,
   "metadata": {},
   "outputs": [],
   "source": [
    "import numpy as np"
   ]
  },
  {
   "cell_type": "code",
   "execution_count": 4,
   "metadata": {},
   "outputs": [
    {
     "name": "stdout",
     "output_type": "stream",
     "text": [
      "[1 2 3]\n"
     ]
    }
   ],
   "source": [
    "arreglo = np.array([1, 2, 3])\n",
    "print(arreglo)"
   ]
  },
  {
   "cell_type": "code",
   "execution_count": 5,
   "metadata": {},
   "outputs": [],
   "source": [
    "np?"
   ]
  },
  {
   "cell_type": "code",
   "execution_count": 6,
   "metadata": {},
   "outputs": [
    {
     "name": "stdout",
     "output_type": "stream",
     "text": [
      "3\n"
     ]
    }
   ],
   "source": [
    "#Dimensionamiento de arreglos:\n",
    "#una dimension de un arreglo es el nivel de profundidad del arreglo (anidamiento)\n",
    "#Escalares de 0-D\n",
    "arreglo = np.array(3)\n",
    "print(arreglo)"
   ]
  },
  {
   "cell_type": "code",
   "execution_count": 7,
   "metadata": {},
   "outputs": [
    {
     "name": "stdout",
     "output_type": "stream",
     "text": [
      "0\n",
      "1\n",
      "2\n",
      "3\n"
     ]
    }
   ],
   "source": [
    "# Numpy tiene un atributo_ ndim que regresa el numero de dimensiones\n",
    "cero = np.array(17)\n",
    "uno = np.array([1, 2, 3, 4, 5])\n",
    "dos = np.array([[1, 2, 3], [4, 5, 6]])\n",
    "tres = np.array([[[1, 2, 3], [4, 5, 6]],[[1, 2, 3], [4, 5, 6]]])\n",
    "\n",
    "print(cero.ndim)\n",
    "print(uno.ndim)\n",
    "print(dos.ndim)\n",
    "print(tres.ndim)"
   ]
  },
  {
   "cell_type": "code",
   "execution_count": 8,
   "metadata": {},
   "outputs": [
    {
     "data": {
      "text/plain": [
       "numpy.ndarray"
      ]
     },
     "execution_count": 8,
     "metadata": {},
     "output_type": "execute_result"
    }
   ],
   "source": [
    "type(tres)"
   ]
  },
  {
   "cell_type": "code",
   "execution_count": 9,
   "metadata": {},
   "outputs": [
    {
     "name": "stdout",
     "output_type": "stream",
     "text": [
      "[[[[1 2 3]]]]\n",
      "Dim : 4\n"
     ]
    }
   ],
   "source": [
    "#Otro atributo, sólo que este es cuando se crea el arreglo\n",
    "arreglo = np.array([1, 2, 3], ndmin = 4)\n",
    "print(arreglo)\n",
    "print(\"Dim :\", arreglo.ndim)"
   ]
  },
  {
   "cell_type": "code",
   "execution_count": 10,
   "metadata": {},
   "outputs": [
    {
     "name": "stdout",
     "output_type": "stream",
     "text": [
      "1\n",
      "2\n"
     ]
    }
   ],
   "source": [
    "#Elementos de un arreglo\n",
    "arreglo = np.array([1, 2, 3])\n",
    "print(arreglo[0])\n",
    "print(arreglo[0] * arreglo[1])"
   ]
  },
  {
   "cell_type": "code",
   "execution_count": 11,
   "metadata": {},
   "outputs": [
    {
     "name": "stdout",
     "output_type": "stream",
     "text": [
      "2\n",
      "6\n",
      "12\n"
     ]
    }
   ],
   "source": [
    "#Ahora con dimensiones\n",
    "dos = np.array([[1, 2, 3], [4, 5, 6]])\n",
    "tres = np.array([[[1, 2, 3], [4, 5, 6]],[[7, 8, 9], [10, 11, 12]]])\n",
    "print(dos[0,1]) #en la dim 1 el segundpo elemento\n",
    "print(dos[1,2]) #en la dim 2 el tercer elemento\n",
    "print(tres[1, 1, 2]) #en la dim 1 [[1, 2, 3], [4, 5, 6]], [[7, 8, 9], [10, 11, 12]]\n",
    "#Dim 1: [10, 11, 12], elemento 2 : 12"
   ]
  },
  {
   "cell_type": "code",
   "execution_count": 12,
   "metadata": {},
   "outputs": [
    {
     "name": "stdout",
     "output_type": "stream",
     "text": [
      "[1 2 3]\n",
      "[1]\n",
      "[1 2]\n",
      "[]\n",
      "[3 6 9]\n",
      "[1 3 5 7 9]\n",
      "[5 6]\n",
      "[2 5]\n",
      "[[2 3]\n",
      " [5 6]]\n"
     ]
    }
   ],
   "source": [
    "#Se incluye el limite inferior pero no el superior\n",
    "arreglo = np.array([1, 2, 3])\n",
    "print(arreglo[0:3])\n",
    "print(arreglo[0:1])\n",
    "print(arreglo[:2])\n",
    "print(arreglo[-1:-2])\n",
    "#Saltos o pasos en un arreglo\n",
    "arreglo = np.array([1, 2, 3, 4, 5, 6, 7, 8, 9, 10])\n",
    "print(arreglo[2:9:3])\n",
    "print(arreglo[::2])\n",
    "dos = np.array([[1, 2, 3], [4, 5, 6]])\n",
    "print(dos[1, 1:3])\n",
    "print(dos[0:2, 1])\n",
    "print(dos[0:2, 1:3])"
   ]
  },
  {
   "cell_type": "code",
   "execution_count": 13,
   "metadata": {},
   "outputs": [
    {
     "name": "stdout",
     "output_type": "stream",
     "text": [
      "int32\n",
      "float64\n"
     ]
    }
   ],
   "source": [
    "arreglo = np.array([1, 2, 3])\n",
    "print(arreglo.dtype)\n",
    "arreglo = np.array([2.5, 70.45, 100.0])\n",
    "print(arreglo.dtype)"
   ]
  },
  {
   "cell_type": "code",
   "execution_count": 16,
   "metadata": {},
   "outputs": [
    {
     "name": "stdout",
     "output_type": "stream",
     "text": [
      "[1 2 3]\n",
      "int32\n"
     ]
    }
   ],
   "source": [
    "arreglo = np.array([1, 2, 3], dtype = \"i4\")\n",
    "print(arreglo)\n",
    "print(arreglo.dtype)"
   ]
  },
  {
   "cell_type": "code",
   "execution_count": 17,
   "metadata": {},
   "outputs": [
    {
     "ename": "ValueError",
     "evalue": "invalid literal for int() with base 10: 'Hugo'",
     "output_type": "error",
     "traceback": [
      "\u001b[1;31m---------------------------------------------------------------------------\u001b[0m",
      "\u001b[1;31mValueError\u001b[0m                                Traceback (most recent call last)",
      "\u001b[1;32m<ipython-input-17-75804cc1cf35>\u001b[0m in \u001b[0;36m<module>\u001b[1;34m\u001b[0m\n\u001b[1;32m----> 1\u001b[1;33m \u001b[0marreglo\u001b[0m \u001b[1;33m=\u001b[0m \u001b[0mnp\u001b[0m\u001b[1;33m.\u001b[0m\u001b[0marray\u001b[0m\u001b[1;33m(\u001b[0m\u001b[1;33m[\u001b[0m\u001b[1;34m\"Hugo\"\u001b[0m\u001b[1;33m,\u001b[0m \u001b[1;36m2\u001b[0m\u001b[1;33m,\u001b[0m \u001b[1;34m\"Luis\"\u001b[0m\u001b[1;33m]\u001b[0m\u001b[1;33m,\u001b[0m \u001b[0mdtype\u001b[0m \u001b[1;33m=\u001b[0m \u001b[1;34m\"i\"\u001b[0m\u001b[1;33m)\u001b[0m\u001b[1;33m\u001b[0m\u001b[1;33m\u001b[0m\u001b[0m\n\u001b[0m",
      "\u001b[1;31mValueError\u001b[0m: invalid literal for int() with base 10: 'Hugo'"
     ]
    }
   ],
   "source": [
    "#arreglo = np.array([\"Hugo\", 2, \"Luis\"], dtype = \"i\")"
   ]
  },
  {
   "cell_type": "code",
   "execution_count": 20,
   "metadata": {},
   "outputs": [
    {
     "name": "stdout",
     "output_type": "stream",
     "text": [
      "[  2  70 100]\n",
      "int32\n",
      "[ True  True  True]\n",
      "bool\n"
     ]
    }
   ],
   "source": [
    "arreglo = np.array([2.5, 70.45, 100.0])\n",
    "#crea una copia del arreglo y convierte el tipo de dato\n",
    "nuevo = arreglo.astype(\"i\") #o int\n",
    "print(nuevo)\n",
    "print(nuevo.dtype)\n",
    "nnuevo = nuevo.astype(bool)\n",
    "print(nnuevo)\n",
    "print(nnuevo.dtype)"
   ]
  },
  {
   "cell_type": "code",
   "execution_count": 21,
   "metadata": {},
   "outputs": [
    {
     "name": "stdout",
     "output_type": "stream",
     "text": [
      "[10  2  3]\n",
      "[ 1 20  3]\n"
     ]
    }
   ],
   "source": [
    "import numpy as np\n",
    "#Copiar arreglos: copia arreglo original, no modifica\n",
    "#los elementos del arreglo original\n",
    "arreglo = np.array([1, 2, 3])\n",
    "nuevo = arreglo.copy()\n",
    "arreglo[0] = 10\n",
    "nuevo[1] = 20\n",
    "print(arreglo)\n",
    "print(nuevo)"
   ]
  },
  {
   "cell_type": "code",
   "execution_count": 22,
   "metadata": {},
   "outputs": [
    {
     "name": "stdout",
     "output_type": "stream",
     "text": [
      "[10 20  3]\n",
      "[10 20  3]\n"
     ]
    }
   ],
   "source": [
    "#Vista : copia el arreglo original y las modificaciones que se realicen\n",
    "#modifican el arreglo original\n",
    "arreglo = np.array([1, 2, 3])\n",
    "nuevo = arreglo.view()\n",
    "arreglo[0] = 10\n",
    "nuevo[1] = 20\n",
    "print(arreglo)\n",
    "print(nuevo)"
   ]
  },
  {
   "cell_type": "code",
   "execution_count": 23,
   "metadata": {},
   "outputs": [
    {
     "name": "stdout",
     "output_type": "stream",
     "text": [
      "None\n",
      "[1 2 3]\n"
     ]
    }
   ],
   "source": [
    "#Atributo: base.\n",
    "arreglo = np.array([1, 2, 3])\n",
    "copia = arreglo.copy() # None\n",
    "vista = arreglo.view()\n",
    "\n",
    "print(copia.base) #None tiene su propia información\n",
    "print(vista.base)"
   ]
  },
  {
   "cell_type": "code",
   "execution_count": null,
   "metadata": {},
   "outputs": [],
   "source": []
  }
 ],
 "metadata": {
  "kernelspec": {
   "display_name": "Python 3",
   "language": "python",
   "name": "python3"
  },
  "language_info": {
   "codemirror_mode": {
    "name": "ipython",
    "version": 3
   },
   "file_extension": ".py",
   "mimetype": "text/x-python",
   "name": "python",
   "nbconvert_exporter": "python",
   "pygments_lexer": "ipython3",
   "version": "3.8.5"
  }
 },
 "nbformat": 4,
 "nbformat_minor": 4
}
