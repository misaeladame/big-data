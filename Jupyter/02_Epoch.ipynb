{
 "cells": [
  {
   "cell_type": "markdown",
   "metadata": {},
   "source": [
    "Epoch\n",
    "\n",
    "Es un contador desde una fecha que indica su inicio la medianoche (12:00AM) del jueves 1ro de Enero de 1970 (sistemas Linux/UNIX).\n",
    "Es representada por una tupla de fecha y hora\n",
    "(<Año en cuatro cifras>, <número de mes de 1 a 12>, <número de día del mes de 0 a 31>, <hora del día de 0 a 23>, <minutos de 0 a 60>, <segundos de 0 a 61>, <dia de la semana de 0(lunes) a 6(domingo)>, <dia del año de 1 a 366>, <valor entero de -1 a 1 para indicar si se apega a un esquema de ahorro de energía>)\n",
    "\n",
    "El horario de ahorro de energía (horario de verano como lo conocemos) se configura de la siguiente manera:\n",
    "El ultimo elemento de la tupla indica si se está haciendo uso del horario de ahorro de energia.\n",
    "\n",
    "    0 para cuando no está implementado \n",
    "    1 para cuando está implementado\n",
    "    -1 para cuando se desconoce si está implementado"
   ]
  },
  {
   "cell_type": "code",
   "execution_count": 1,
   "metadata": {},
   "outputs": [
    {
     "data": {
      "text/plain": [
       "1618977456.7195625"
      ]
     },
     "execution_count": 1,
     "metadata": {},
     "output_type": "execute_result"
    }
   ],
   "source": [
    "import time\n",
    "#time() devuelve la cantidad de segundos desde epoch\n",
    "time.time()"
   ]
  },
  {
   "cell_type": "code",
   "execution_count": 2,
   "metadata": {},
   "outputs": [
    {
     "data": {
      "text/plain": [
       "'Tue Apr 20 22:58:11 2021'"
      ]
     },
     "execution_count": 2,
     "metadata": {},
     "output_type": "execute_result"
    }
   ],
   "source": [
    "#ctime() convierte la cantidad de segundos a una fecha razonable\n",
    "time.ctime(time.time())\n",
    "#time.ctime()"
   ]
  },
  {
   "cell_type": "code",
   "execution_count": 3,
   "metadata": {},
   "outputs": [
    {
     "data": {
      "text/plain": [
       "time.struct_time(tm_year=2021, tm_mon=4, tm_mday=21, tm_hour=3, tm_min=58, tm_sec=47, tm_wday=2, tm_yday=111, tm_isdst=0)"
      ]
     },
     "execution_count": 3,
     "metadata": {},
     "output_type": "execute_result"
    }
   ],
   "source": [
    "#estructura de tupla de tiempo con la hora del Meridiano de Greenwich (GMT)\n",
    "time.gmtime()"
   ]
  },
  {
   "cell_type": "code",
   "execution_count": 4,
   "metadata": {},
   "outputs": [
    {
     "data": {
      "text/plain": [
       "2021"
      ]
     },
     "execution_count": 4,
     "metadata": {},
     "output_type": "execute_result"
    }
   ],
   "source": [
    "obj = time.gmtime()\n",
    "obj.tm_year"
   ]
  },
  {
   "cell_type": "code",
   "execution_count": 5,
   "metadata": {},
   "outputs": [],
   "source": [
    "#help(time.gmtime())"
   ]
  },
  {
   "cell_type": "code",
   "execution_count": 6,
   "metadata": {},
   "outputs": [
    {
     "data": {
      "text/plain": [
       "time.struct_time(tm_year=2021, tm_mon=4, tm_mday=20, tm_hour=22, tm_min=59, tm_sec=24, tm_wday=1, tm_yday=110, tm_isdst=1)"
      ]
     },
     "execution_count": 6,
     "metadata": {},
     "output_type": "execute_result"
    }
   ],
   "source": [
    "time.localtime()"
   ]
  },
  {
   "cell_type": "code",
   "execution_count": null,
   "metadata": {},
   "outputs": [],
   "source": []
  }
 ],
 "metadata": {
  "kernelspec": {
   "display_name": "Python 3",
   "language": "python",
   "name": "python3"
  },
  "language_info": {
   "codemirror_mode": {
    "name": "ipython",
    "version": 3
   },
   "file_extension": ".py",
   "mimetype": "text/x-python",
   "name": "python",
   "nbconvert_exporter": "python",
   "pygments_lexer": "ipython3",
   "version": "3.8.5"
  }
 },
 "nbformat": 4,
 "nbformat_minor": 4
}
