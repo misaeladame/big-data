{
 "cells": [
  {
   "cell_type": "markdown",
   "metadata": {},
   "source": [
    "# Apache Spark\n",
    "\n",
    "Sistema diseñado para procesar datos de manera distribuida sobre clusters. Spark puede procesar cantidades de datos en el orden de terabytes incluso petabytes.\n",
    "\n",
    "El concepto de Spark es imaginar un cluster como una memoria gigante, la memoria resultante de combinar las memorias de todos los clusters. Se prioriza el uso de memoria y consigue ser muy rápido el procesamiento de la inforamción, mayor que si utilizara MapReduce (Google).\n",
    "\n",
    "Spark utiliza MapReduce para algunas ateas de clasificación mediante regresión. Apache Spark esta implementado en Scala que es ejecutado en la máquina virtual de Java. Además de Spark ofrece interfaces de programación para Java, Python y R.\n",
    "\n",
    "## Caracteristicas\n",
    "\n",
    "* Velocidad de procesamiento\n",
    "* Soporte multilenguaje\n",
    "* Análisis avanzado\n",
    "\n",
    "Se puede desarrollar en tres maneras:\n",
    "1. solo : standalone. Utiliza como base HDFS y encima se encuentra spark.\n",
    "2. Hadoop (Yarn, adminsitrador de recursos) : Base HDFS -> Yarn/Mesos(kernel administrador del cluster) -> Spark\n",
    "3. Spark con MapReduce (Spark In MapReduce, SIMR) : Base HDFS -> MapReduce y dentro se encuentra Spark\n",
    "\n",
    "![apache-spark.jpg](img/apache-spark.jpg)"
   ]
  },
  {
   "cell_type": "markdown",
   "metadata": {},
   "source": [
    "## Componentes de Spark\n",
    "\n",
    "![apache-spark-core.jpg](img/apache-spark-core.jpg)\n",
    "\n",
    "Cuando se ejecuta Spark en un ambiente distribuida se distinguen dos tipos de procesos: driver y executor. Un proceso driver conectado a 3 procesos excutor localizados en dos nodos del cluster:\n",
    "\n",
    "![gestor-cluster.png](img/gestor-cluster.png)\n",
    "\n",
    "driver: proceso principal. Este proceso tiene un objeto SparkContext que te permite conectar con el gestor del cluster y reservar procesos executor en los distintos nodos del cluster. Cada uno de los nodos del cluster (tambien se conocen como worker) pordrá ejecutar uno o varios procesos executor que almaenará fragmentos de los datos del programa y realizará operaciones sobre ellos. Durante la ejecución irá enviando peticiones a los distintos procesos executor que pueden contactar enre ellos para realizar tareas y comunicar con el proceso driver para devolver resultados."
   ]
  },
  {
   "cell_type": "markdown",
   "metadata": {},
   "source": [
    "## RDD (Resilient Distributed Datasets)\n",
    "\n",
    "Tipo de datos básicos. Estos datos almacenan información de manera distribuida entre todos los equipos del cluster. Durante la ejecución de un programa Sparck se construyen varios RDDs que se dividen en distintos fragmentos y son almacenados en la memoria de los equipos del cluster.\n",
    "\n",
    "### Caracteristicas\n",
    "\n",
    "Están formados por un conjunto de registros, también llamados elementos, todos del mismo tipo. Por ejemplo, si cargamos un RDD a partir de un archivo plano se creará un RDD de cadenas de texto, una por cada linea del archivo.\n",
    "\n",
    "En Scala o Java, al declarar un RDD se debe definir el tipo de los registros:\n",
    "* Lenguajes estáticos : RDD[String] en Scala y JavaRDD en Java.\n",
    "* Lenguajes dinámicos : Python se pueden mezclar los tipos de datos.\n",
    "\n",
    "RDDs han sido diseñados desde el inicio para ser distribuidos: Los registros que lo componen se repartirán entre los clúster.\n",
    "\n",
    "Para realizar esta distribución: los RDDs se dividen en particiones. Cada partición se almacena únciamente en un proceso executor dentro de un nodo del clúster, aunque un proceso executor puede albergar distintas particiones de distintos RDDs. El número de particiones en las que dividir un RDD se puede configurar e incluso cambiar a lo largo de la ejecución, por default es el número de núcleos de procesamiento disponibles en el clúster.\n",
    "\n",
    "Para decidir qué registros forman parte de cada partición, Spark utiliza particionadores, que son funciones que toman un registro y devuelven el número de la partición a la que pertenecen. Estos particionadores se puede configurar si se desea mejorar el rendimiento o dejar el default.\n",
    "\n",
    "Los RDDs son inmutables: no se puede modificar ni actualizar. Una vez creado, así permanece hasta que se termina la ejecución del programa.\n",
    "\n",
    "### Ejemplo\n",
    "\n",
    "Cómo se pordría particionar un RDD de 13 parejas (int, str) sobre 3 procesos executor utilizando el rango de valores del primer elemento de la pareja.\n",
    "\n",
    "![particionandoRDD.png](img/particionandoRDD.png)"
   ]
  },
  {
   "cell_type": "markdown",
   "metadata": {},
   "source": [
    "## Operaciones que admite los RDDs\n",
    "Transformaciones y acciones pero ninguna de ellas modifica el RDD.\n",
    "\n",
    "### Transformaciones\n",
    "Son operaciones que toman un RDD de partida y crean un nuevo RDD, dejando el original intacto.\n",
    "\n",
    "Ejemplos: son aplicar una función a todos los registros del RDD (por ejemplo, sumar una cierta cantidad), filtrar únicamente aquellos registros que cumplan una cierta condición u ordenarlos mediante algún campo.\n",
    "\n",
    "### Acciones\n",
    "\n",
    "Son operaciones que realizan algún cómputo sobre el RDD y devuelven un valor, dejando también el RDD original inalterado.\n",
    "\n",
    "Ejemplos: sumar todos los elementos almacenados en un RDD de números, generando un valor final, o \"vaciar\" un RDD a un archivo de texto."
   ]
  },
  {
   "cell_type": "markdown",
   "metadata": {},
   "source": [
    "## Concepto importante del RDD: Resilencia\n",
    "\n",
    "Tienen la capacidad de recuperar su estado inicial cuando exista algún problema. Esto se debe a que los RDDs son particionados y cada particion ha sido almacenada en un proceso executor. Por lo que apartir de su estado inicial, repite las transformaciones que tiene programadas. De esta manera, regenera las particiones perdidas."
   ]
  },
  {
   "cell_type": "markdown",
   "metadata": {},
   "source": [
    "## SparkContext\n",
    "\n",
    "método inicial para trabajar con PySpark"
   ]
  },
  {
   "cell_type": "code",
   "execution_count": 1,
   "metadata": {},
   "outputs": [
    {
     "data": {
      "text/plain": [
       "'D:\\\\spark'"
      ]
     },
     "execution_count": 1,
     "metadata": {},
     "output_type": "execute_result"
    }
   ],
   "source": [
    "#conda install -c conda-forge findspark\n",
    "import findspark\n",
    "findspark.init()\n",
    "findspark.find()"
   ]
  },
  {
   "cell_type": "code",
   "execution_count": 2,
   "metadata": {},
   "outputs": [],
   "source": [
    "import pyspark"
   ]
  },
  {
   "cell_type": "code",
   "execution_count": 3,
   "metadata": {},
   "outputs": [],
   "source": [
    "sc = pyspark.SparkContext(appName=\"Prueba\") # sc objeto que apunta a SC al cluster local"
   ]
  },
  {
   "cell_type": "code",
   "execution_count": 4,
   "metadata": {},
   "outputs": [
    {
     "data": {
      "text/plain": [
       "pyspark.context.SparkContext"
      ]
     },
     "execution_count": 4,
     "metadata": {},
     "output_type": "execute_result"
    }
   ],
   "source": [
    "type(sc)"
   ]
  },
  {
   "cell_type": "code",
   "execution_count": 5,
   "metadata": {},
   "outputs": [
    {
     "data": {
      "text/plain": [
       "'local[*]'"
      ]
     },
     "execution_count": 5,
     "metadata": {},
     "output_type": "execute_result"
    }
   ],
   "source": [
    "sc.master"
   ]
  },
  {
   "cell_type": "code",
   "execution_count": 6,
   "metadata": {},
   "outputs": [
    {
     "data": {
      "text/plain": [
       "'Prueba'"
      ]
     },
     "execution_count": 6,
     "metadata": {},
     "output_type": "execute_result"
    }
   ],
   "source": [
    "sc.appName"
   ]
  },
  {
   "cell_type": "code",
   "execution_count": 7,
   "metadata": {},
   "outputs": [],
   "source": [
    "import random"
   ]
  },
  {
   "cell_type": "code",
   "execution_count": 8,
   "metadata": {},
   "outputs": [
    {
     "data": {
      "text/plain": [
       "pyspark.rdd.RDD"
      ]
     },
     "execution_count": 8,
     "metadata": {},
     "output_type": "execute_result"
    }
   ],
   "source": [
    "# Crando un RDD de 5 enteros: se crea en la memoria del proceso driver\n",
    "r = sc.parallelize([1,2,3,4,5])\n",
    "type(r)"
   ]
  },
  {
   "cell_type": "code",
   "execution_count": 9,
   "metadata": {},
   "outputs": [],
   "source": [
    "#sc.stop()"
   ]
  },
  {
   "cell_type": "code",
   "execution_count": 10,
   "metadata": {},
   "outputs": [
    {
     "data": {
      "text/plain": [
       "pyspark.rdd.RDD"
      ]
     },
     "execution_count": 10,
     "metadata": {},
     "output_type": "execute_result"
    }
   ],
   "source": [
    "# Creando un RDD de 3 cadenas de texto\n",
    "r = sc.parallelize([\"hola\", \"hi\", \"ciso\"])\n",
    "type(r)"
   ]
  },
  {
   "cell_type": "code",
   "execution_count": 11,
   "metadata": {},
   "outputs": [
    {
     "name": "stdout",
     "output_type": "stream",
     "text": [
      "C:\\Users\\jmas_\\Jupyter\\Datasets\\titanic.csv MapPartitionsRDD[3] at textFile at NativeMethodAccessorImpl.java:0\n"
     ]
    }
   ],
   "source": [
    "#Al crear RDDs a partir de colecciones en memoria del proceso driver estamos limitados a la memoria que este proceso\n",
    "#tenga disponible. Por eso, es mejor generar RDDs a partir de archivos.\n",
    "#Spark proporciona el método textFile, que caarga el arch de texto y genera un RDD de cadenas de texto\n",
    "#en un sistema distribuido : \"hdfs://node:port/data/file.txt, Amazon S3 \"s3n://nucket/file.txt\"\n",
    "#Spark cuenta con métodos para abrir archivos en formato hadoop sc.hadoopFile\n",
    "r = sc.textFile(\"C:\\\\Users\\\\jmas_\\\\Jupyter\\\\Datasets\\\\titanic.csv\")\n",
    "print(r)"
   ]
  },
  {
   "cell_type": "code",
   "execution_count": 12,
   "metadata": {},
   "outputs": [
    {
     "name": "stdout",
     "output_type": "stream",
     "text": [
      "['survived,pclass,sex,age,sibsp,parch,fare,embarked,class,who,adult_male,deck,embark_town,alive,alone', '0,3,male,22.0,1,0,7.25,S,Third,man,True,,Southampton,no,False', '1,1,female,38.0,1,0,71.2833,C,First,woman,False,C,Cherbourg,yes,False', '1,3,female,26.0,0,0,7.925,S,Third,woman,False,,Southampton,yes,True', '1,1,female,35.0,1,0,53.1,S,First,woman,False,C,Southampton,yes,False', '0,3,male,35.0,0,0,8.05,S,Third,man,True,,Southampton,no,True', '0,3,male,,0,0,8.4583,Q,Third,man,True,,Queenstown,no,True', '0,1,male,54.0,0,0,51.8625,S,First,man,True,E,Southampton,no,True', '0,3,male,2.0,3,1,21.075,S,Third,child,False,,Southampton,no,False', '1,3,female,27.0,0,2,11.1333,S,Third,woman,False,,Southampton,yes,False', '1,2,female,14.0,1,0,30.0708,C,Second,child,False,,Cherbourg,yes,False', '1,3,female,4.0,1,1,16.7,S,Third,child,False,G,Southampton,yes,False', '1,1,female,58.0,0,0,26.55,S,First,woman,False,C,Southampton,yes,True', '0,3,male,20.0,0,0,8.05,S,Third,man,True,,Southampton,no,True', '0,3,male,39.0,1,5,31.275,S,Third,man,True,,Southampton,no,False', '0,3,female,14.0,0,0,7.8542,S,Third,child,False,,Southampton,no,True', '1,2,female,55.0,0,0,16.0,S,Second,woman,False,,Southampton,yes,True', '0,3,male,2.0,4,1,29.125,Q,Third,child,False,,Queenstown,no,False', '1,2,male,,0,0,13.0,S,Second,man,True,,Southampton,yes,True', '0,3,female,31.0,1,0,18.0,S,Third,woman,False,,Southampton,no,False', '1,3,female,,0,0,7.225,C,Third,woman,False,,Cherbourg,yes,True', '0,2,male,35.0,0,0,26.0,S,Second,man,True,,Southampton,no,True', '1,2,male,34.0,0,0,13.0,S,Second,man,True,D,Southampton,yes,True', '1,3,female,15.0,0,0,8.0292,Q,Third,child,False,,Queenstown,yes,True', '1,1,male,28.0,0,0,35.5,S,First,man,True,A,Southampton,yes,True', '0,3,female,8.0,3,1,21.075,S,Third,child,False,,Southampton,no,False', '1,3,female,38.0,1,5,31.3875,S,Third,woman,False,,Southampton,yes,False', '0,3,male,,0,0,7.225,C,Third,man,True,,Cherbourg,no,True', '0,1,male,19.0,3,2,263.0,S,First,man,True,C,Southampton,no,False', '1,3,female,,0,0,7.8792,Q,Third,woman,False,,Queenstown,yes,True', '0,3,male,,0,0,7.8958,S,Third,man,True,,Southampton,no,True', '0,1,male,40.0,0,0,27.7208,C,First,man,True,,Cherbourg,no,True', '1,1,female,,1,0,146.5208,C,First,woman,False,B,Cherbourg,yes,False', '1,3,female,,0,0,7.75,Q,Third,woman,False,,Queenstown,yes,True', '0,2,male,66.0,0,0,10.5,S,Second,man,True,,Southampton,no,True', '0,1,male,28.0,1,0,82.1708,C,First,man,True,,Cherbourg,no,False', '0,1,male,42.0,1,0,52.0,S,First,man,True,,Southampton,no,False', '1,3,male,,0,0,7.2292,C,Third,man,True,,Cherbourg,yes,True', '0,3,male,21.0,0,0,8.05,S,Third,man,True,,Southampton,no,True', '0,3,female,18.0,2,0,18.0,S,Third,woman,False,,Southampton,no,False', '1,3,female,14.0,1,0,11.2417,C,Third,child,False,,Cherbourg,yes,False', '0,3,female,40.0,1,0,9.475,S,Third,woman,False,,Southampton,no,False', '0,2,female,27.0,1,0,21.0,S,Second,woman,False,,Southampton,no,False', '0,3,male,,0,0,7.8958,C,Third,man,True,,Cherbourg,no,True', '1,2,female,3.0,1,2,41.5792,C,Second,child,False,,Cherbourg,yes,False', '1,3,female,19.0,0,0,7.8792,Q,Third,woman,False,,Queenstown,yes,True', '0,3,male,,0,0,8.05,S,Third,man,True,,Southampton,no,True', '0,3,male,,1,0,15.5,Q,Third,man,True,,Queenstown,no,False', '1,3,female,,0,0,7.75,Q,Third,woman,False,,Queenstown,yes,True', '0,3,male,,2,0,21.6792,C,Third,man,True,,Cherbourg,no,False', '0,3,female,18.0,1,0,17.8,S,Third,woman,False,,Southampton,no,False', '0,3,male,7.0,4,1,39.6875,S,Third,child,False,,Southampton,no,False', '0,3,male,21.0,0,0,7.8,S,Third,man,True,,Southampton,no,True', '1,1,female,49.0,1,0,76.7292,C,First,woman,False,D,Cherbourg,yes,False', '1,2,female,29.0,1,0,26.0,S,Second,woman,False,,Southampton,yes,False', '0,1,male,65.0,0,1,61.9792,C,First,man,True,B,Cherbourg,no,False', '1,1,male,,0,0,35.5,S,First,man,True,C,Southampton,yes,True', '1,2,female,21.0,0,0,10.5,S,Second,woman,False,,Southampton,yes,True', '0,3,male,28.5,0,0,7.2292,C,Third,man,True,,Cherbourg,no,True', '1,2,female,5.0,1,2,27.75,S,Second,child,False,,Southampton,yes,False', '0,3,male,11.0,5,2,46.9,S,Third,child,False,,Southampton,no,False', '0,3,male,22.0,0,0,7.2292,C,Third,man,True,,Cherbourg,no,True', '1,1,female,38.0,0,0,80.0,,First,woman,False,B,,yes,True', '0,1,male,45.0,1,0,83.475,S,First,man,True,C,Southampton,no,False', '0,3,male,4.0,3,2,27.9,S,Third,child,False,,Southampton,no,False', '0,1,male,,0,0,27.7208,C,First,man,True,,Cherbourg,no,True', '1,3,male,,1,1,15.2458,C,Third,man,True,,Cherbourg,yes,False', '1,2,female,29.0,0,0,10.5,S,Second,woman,False,F,Southampton,yes,True', '0,3,male,19.0,0,0,8.1583,S,Third,man,True,,Southampton,no,True', '1,3,female,17.0,4,2,7.925,S,Third,woman,False,,Southampton,yes,False', '0,3,male,26.0,2,0,8.6625,S,Third,man,True,,Southampton,no,False', '0,2,male,32.0,0,0,10.5,S,Second,man,True,,Southampton,no,True', '0,3,female,16.0,5,2,46.9,S,Third,woman,False,,Southampton,no,False', '0,2,male,21.0,0,0,73.5,S,Second,man,True,,Southampton,no,True', '0,3,male,26.0,1,0,14.4542,C,Third,man,True,,Cherbourg,no,False', '1,3,male,32.0,0,0,56.4958,S,Third,man,True,,Southampton,yes,True', '0,3,male,25.0,0,0,7.65,S,Third,man,True,F,Southampton,no,True', '0,3,male,,0,0,7.8958,S,Third,man,True,,Southampton,no,True', '0,3,male,,0,0,8.05,S,Third,man,True,,Southampton,no,True', '1,2,male,0.83,0,2,29.0,S,Second,child,False,,Southampton,yes,False', '1,3,female,30.0,0,0,12.475,S,Third,woman,False,,Southampton,yes,True', '0,3,male,22.0,0,0,9.0,S,Third,man,True,,Southampton,no,True', '1,3,male,29.0,0,0,9.5,S,Third,man,True,,Southampton,yes,True', '1,3,female,,0,0,7.7875,Q,Third,woman,False,,Queenstown,yes,True', '0,1,male,28.0,0,0,47.1,S,First,man,True,,Southampton,no,True', '1,2,female,17.0,0,0,10.5,S,Second,woman,False,,Southampton,yes,True', '1,3,female,33.0,3,0,15.85,S,Third,woman,False,,Southampton,yes,False', '0,3,male,16.0,1,3,34.375,S,Third,man,True,,Southampton,no,False', '0,3,male,,0,0,8.05,S,Third,man,True,,Southampton,no,True', '1,1,female,23.0,3,2,263.0,S,First,woman,False,C,Southampton,yes,False', '0,3,male,24.0,0,0,8.05,S,Third,man,True,,Southampton,no,True', '0,3,male,29.0,0,0,8.05,S,Third,man,True,,Southampton,no,True', '0,3,male,20.0,0,0,7.8542,S,Third,man,True,,Southampton,no,True', '0,1,male,46.0,1,0,61.175,S,First,man,True,E,Southampton,no,False', '0,3,male,26.0,1,2,20.575,S,Third,man,True,,Southampton,no,False', '0,3,male,59.0,0,0,7.25,S,Third,man,True,,Southampton,no,True', '0,3,male,,0,0,8.05,S,Third,man,True,,Southampton,no,True', '0,1,male,71.0,0,0,34.6542,C,First,man,True,A,Cherbourg,no,True', '1,1,male,23.0,0,1,63.3583,C,First,man,True,D,Cherbourg,yes,False', '1,2,female,34.0,0,1,23.0,S,Second,woman,False,,Southampton,yes,False', '0,2,male,34.0,1,0,26.0,S,Second,man,True,,Southampton,no,False', '0,3,female,28.0,0,0,7.8958,S,Third,woman,False,,Southampton,no,True', '0,3,male,,0,0,7.8958,S,Third,man,True,,Southampton,no,True', '0,1,male,21.0,0,1,77.2875,S,First,man,True,D,Southampton,no,False', '0,3,male,33.0,0,0,8.6542,S,Third,man,True,,Southampton,no,True', '0,3,male,37.0,2,0,7.925,S,Third,man,True,,Southampton,no,False', '0,3,male,28.0,0,0,7.8958,S,Third,man,True,,Southampton,no,True', '1,3,female,21.0,0,0,7.65,S,Third,woman,False,,Southampton,yes,True', '1,3,male,,0,0,7.775,S,Third,man,True,,Southampton,yes,True', '0,3,male,38.0,0,0,7.8958,S,Third,man,True,,Southampton,no,True', '1,3,female,,1,0,24.15,Q,Third,woman,False,,Queenstown,yes,False', '0,1,male,47.0,0,0,52.0,S,First,man,True,C,Southampton,no,True', '0,3,female,14.5,1,0,14.4542,C,Third,child,False,,Cherbourg,no,False', '0,3,male,22.0,0,0,8.05,S,Third,man,True,,Southampton,no,True', '0,3,female,20.0,1,0,9.825,S,Third,woman,False,,Southampton,no,False', '0,3,female,17.0,0,0,14.4583,C,Third,woman,False,,Cherbourg,no,True', '0,3,male,21.0,0,0,7.925,S,Third,man,True,,Southampton,no,True', '0,3,male,70.5,0,0,7.75,Q,Third,man,True,,Queenstown,no,True', '0,2,male,29.0,1,0,21.0,S,Second,man,True,,Southampton,no,False', '0,1,male,24.0,0,1,247.5208,C,First,man,True,B,Cherbourg,no,False', '0,3,female,2.0,4,2,31.275,S,Third,child,False,,Southampton,no,False', '0,2,male,21.0,2,0,73.5,S,Second,man,True,,Southampton,no,False', '0,3,male,,0,0,8.05,S,Third,man,True,,Southampton,no,True', '0,2,male,32.5,1,0,30.0708,C,Second,man,True,,Cherbourg,no,False', '1,2,female,32.5,0,0,13.0,S,Second,woman,False,E,Southampton,yes,True', '0,1,male,54.0,0,1,77.2875,S,First,man,True,D,Southampton,no,False', '1,3,male,12.0,1,0,11.2417,C,Third,child,False,,Cherbourg,yes,False', '0,3,male,,0,0,7.75,Q,Third,man,True,,Queenstown,no,True', '1,3,male,24.0,0,0,7.1417,S,Third,man,True,,Southampton,yes,True', '1,3,female,,1,1,22.3583,C,Third,woman,False,F,Cherbourg,yes,False', '0,3,male,45.0,0,0,6.975,S,Third,man,True,,Southampton,no,True', '0,3,male,33.0,0,0,7.8958,C,Third,man,True,,Cherbourg,no,True', '0,3,male,20.0,0,0,7.05,S,Third,man,True,,Southampton,no,True', '0,3,female,47.0,1,0,14.5,S,Third,woman,False,,Southampton,no,False', '1,2,female,29.0,1,0,26.0,S,Second,woman,False,,Southampton,yes,False', '0,2,male,25.0,0,0,13.0,S,Second,man,True,,Southampton,no,True', '0,2,male,23.0,0,0,15.0458,C,Second,man,True,,Cherbourg,no,True', '1,1,female,19.0,0,2,26.2833,S,First,woman,False,D,Southampton,yes,False', '0,1,male,37.0,1,0,53.1,S,First,man,True,C,Southampton,no,False', '0,3,male,16.0,0,0,9.2167,S,Third,man,True,,Southampton,no,True', '0,1,male,24.0,0,0,79.2,C,First,man,True,B,Cherbourg,no,True', '0,3,female,,0,2,15.2458,C,Third,woman,False,,Cherbourg,no,False', '1,3,female,22.0,0,0,7.75,S,Third,woman,False,,Southampton,yes,True', '1,3,female,24.0,1,0,15.85,S,Third,woman,False,,Southampton,yes,False', '0,3,male,19.0,0,0,6.75,Q,Third,man,True,,Queenstown,no,True', '0,2,male,18.0,0,0,11.5,S,Second,man,True,,Southampton,no,True', '0,2,male,19.0,1,1,36.75,S,Second,man,True,,Southampton,no,False', '1,3,male,27.0,0,0,7.7958,S,Third,man,True,,Southampton,yes,True', '0,3,female,9.0,2,2,34.375,S,Third,child,False,,Southampton,no,False', '0,2,male,36.5,0,2,26.0,S,Second,man,True,F,Southampton,no,False', '0,2,male,42.0,0,0,13.0,S,Second,man,True,,Southampton,no,True', '0,2,male,51.0,0,0,12.525,S,Second,man,True,,Southampton,no,True', '1,1,female,22.0,1,0,66.6,S,First,woman,False,C,Southampton,yes,False', '0,3,male,55.5,0,0,8.05,S,Third,man,True,,Southampton,no,True', '0,3,male,40.5,0,2,14.5,S,Third,man,True,,Southampton,no,False', '0,3,male,,0,0,7.3125,S,Third,man,True,,Southampton,no,True', '0,1,male,51.0,0,1,61.3792,C,First,man,True,,Cherbourg,no,False', '1,3,female,16.0,0,0,7.7333,Q,Third,woman,False,,Queenstown,yes,True', '0,3,male,30.0,0,0,8.05,S,Third,man,True,,Southampton,no,True', '0,3,male,,0,0,8.6625,S,Third,man,True,,Southampton,no,True', '0,3,male,,8,2,69.55,S,Third,man,True,,Southampton,no,False', '0,3,male,44.0,0,1,16.1,S,Third,man,True,,Southampton,no,False', '1,2,female,40.0,0,0,15.75,S,Second,woman,False,,Southampton,yes,True', '0,3,male,26.0,0,0,7.775,S,Third,man,True,,Southampton,no,True', '0,3,male,17.0,0,0,8.6625,S,Third,man,True,,Southampton,no,True', '0,3,male,1.0,4,1,39.6875,S,Third,child,False,,Southampton,no,False', '1,3,male,9.0,0,2,20.525,S,Third,child,False,,Southampton,yes,False', '1,1,female,,0,1,55.0,S,First,woman,False,E,Southampton,yes,False', '0,3,female,45.0,1,4,27.9,S,Third,woman,False,,Southampton,no,False', '0,1,male,,0,0,25.925,S,First,man,True,,Southampton,no,True', '0,3,male,28.0,0,0,56.4958,S,Third,man,True,,Southampton,no,True', '0,1,male,61.0,0,0,33.5,S,First,man,True,B,Southampton,no,True', '0,3,male,4.0,4,1,29.125,Q,Third,child,False,,Queenstown,no,False', '1,3,female,1.0,1,1,11.1333,S,Third,child,False,,Southampton,yes,False', '0,3,male,21.0,0,0,7.925,S,Third,man,True,,Southampton,no,True', '0,1,male,56.0,0,0,30.6958,C,First,man,True,A,Cherbourg,no,True', '0,3,male,18.0,1,1,7.8542,S,Third,man,True,,Southampton,no,False', '0,3,male,,3,1,25.4667,S,Third,man,True,,Southampton,no,False', '0,1,female,50.0,0,0,28.7125,C,First,woman,False,C,Cherbourg,no,True', '0,2,male,30.0,0,0,13.0,S,Second,man,True,,Southampton,no,True', '0,3,male,36.0,0,0,0.0,S,Third,man,True,,Southampton,no,True', '0,3,female,,8,2,69.55,S,Third,woman,False,,Southampton,no,False', '0,2,male,,0,0,15.05,C,Second,man,True,,Cherbourg,no,True', '0,3,male,9.0,4,2,31.3875,S,Third,child,False,,Southampton,no,False', '1,2,male,1.0,2,1,39.0,S,Second,child,False,F,Southampton,yes,False', '1,3,female,4.0,0,2,22.025,S,Third,child,False,,Southampton,yes,False', '0,1,male,,0,0,50.0,S,First,man,True,A,Southampton,no,True', '1,3,female,,1,0,15.5,Q,Third,woman,False,,Queenstown,yes,False', '1,1,male,45.0,0,0,26.55,S,First,man,True,,Southampton,yes,True', '0,3,male,40.0,1,1,15.5,Q,Third,man,True,,Queenstown,no,False', '0,3,male,36.0,0,0,7.8958,S,Third,man,True,,Southampton,no,True', '1,2,female,32.0,0,0,13.0,S,Second,woman,False,,Southampton,yes,True', '0,2,male,19.0,0,0,13.0,S,Second,man,True,,Southampton,no,True', '1,3,female,19.0,1,0,7.8542,S,Third,woman,False,,Southampton,yes,False', '1,2,male,3.0,1,1,26.0,S,Second,child,False,F,Southampton,yes,False', '1,1,female,44.0,0,0,27.7208,C,First,woman,False,B,Cherbourg,yes,True', '1,1,female,58.0,0,0,146.5208,C,First,woman,False,B,Cherbourg,yes,True', '0,3,male,,0,0,7.75,Q,Third,man,True,,Queenstown,no,True', '0,3,male,42.0,0,1,8.4042,S,Third,man,True,,Southampton,no,False', '1,3,female,,0,0,7.75,Q,Third,woman,False,,Queenstown,yes,True', '0,2,female,24.0,0,0,13.0,S,Second,woman,False,,Southampton,no,True', '0,3,male,28.0,0,0,9.5,S,Third,man,True,,Southampton,no,True', '0,3,male,,8,2,69.55,S,Third,man,True,,Southampton,no,False', '0,3,male,34.0,0,0,6.4958,S,Third,man,True,,Southampton,no,True', '0,3,male,45.5,0,0,7.225,C,Third,man,True,,Cherbourg,no,True', '1,3,male,18.0,0,0,8.05,S,Third,man,True,,Southampton,yes,True', '0,3,female,2.0,0,1,10.4625,S,Third,child,False,G,Southampton,no,False', '0,3,male,32.0,1,0,15.85,S,Third,man,True,,Southampton,no,False', '1,3,male,26.0,0,0,18.7875,C,Third,man,True,,Cherbourg,yes,True', '1,3,female,16.0,0,0,7.75,Q,Third,woman,False,,Queenstown,yes,True', '1,1,male,40.0,0,0,31.0,C,First,man,True,A,Cherbourg,yes,True', '0,3,male,24.0,0,0,7.05,S,Third,man,True,,Southampton,no,True', '1,2,female,35.0,0,0,21.0,S,Second,woman,False,,Southampton,yes,True', '0,3,male,22.0,0,0,7.25,S,Third,man,True,,Southampton,no,True', '0,2,male,30.0,0,0,13.0,S,Second,man,True,,Southampton,no,True', '0,3,male,,1,0,7.75,Q,Third,man,True,,Queenstown,no,False', '1,1,female,31.0,1,0,113.275,C,First,woman,False,D,Cherbourg,yes,False', '1,3,female,27.0,0,0,7.925,S,Third,woman,False,,Southampton,yes,True', '0,2,male,42.0,1,0,27.0,S,Second,man,True,,Southampton,no,False', '1,1,female,32.0,0,0,76.2917,C,First,woman,False,D,Cherbourg,yes,True', '0,2,male,30.0,0,0,10.5,S,Second,man,True,,Southampton,no,True', '1,3,male,16.0,0,0,8.05,S,Third,man,True,,Southampton,yes,True', '0,2,male,27.0,0,0,13.0,S,Second,man,True,,Southampton,no,True', '0,3,male,51.0,0,0,8.05,S,Third,man,True,,Southampton,no,True', '0,3,male,,0,0,7.8958,S,Third,man,True,,Southampton,no,True', '1,1,male,38.0,1,0,90.0,S,First,man,True,C,Southampton,yes,False', '0,3,male,22.0,0,0,9.35,S,Third,man,True,,Southampton,no,True', '1,2,male,19.0,0,0,10.5,S,Second,man,True,,Southampton,yes,True', '0,3,male,20.5,0,0,7.25,S,Third,man,True,,Southampton,no,True', '0,2,male,18.0,0,0,13.0,S,Second,man,True,,Southampton,no,True', '0,3,female,,3,1,25.4667,S,Third,woman,False,,Southampton,no,False', '1,1,female,35.0,1,0,83.475,S,First,woman,False,C,Southampton,yes,False', '0,3,male,29.0,0,0,7.775,S,Third,man,True,,Southampton,no,True', '0,2,male,59.0,0,0,13.5,S,Second,man,True,,Southampton,no,True', '1,3,female,5.0,4,2,31.3875,S,Third,child,False,,Southampton,yes,False', '0,2,male,24.0,0,0,10.5,S,Second,man,True,,Southampton,no,True', '0,3,female,,0,0,7.55,S,Third,woman,False,,Southampton,no,True', '0,2,male,44.0,1,0,26.0,S,Second,man,True,,Southampton,no,False', '1,2,female,8.0,0,2,26.25,S,Second,child,False,,Southampton,yes,False', '0,2,male,19.0,0,0,10.5,S,Second,man,True,,Southampton,no,True', '0,2,male,33.0,0,0,12.275,S,Second,man,True,,Southampton,no,True', '0,3,female,,1,0,14.4542,C,Third,woman,False,,Cherbourg,no,False', '1,3,female,,1,0,15.5,Q,Third,woman,False,,Queenstown,yes,False', '0,2,male,29.0,0,0,10.5,S,Second,man,True,,Southampton,no,True', '0,3,male,22.0,0,0,7.125,S,Third,man,True,,Southampton,no,True', '0,3,male,30.0,0,0,7.225,C,Third,man,True,,Cherbourg,no,True', '0,1,male,44.0,2,0,90.0,Q,First,man,True,C,Queenstown,no,False', '0,3,female,25.0,0,0,7.775,S,Third,woman,False,,Southampton,no,True', '1,2,female,24.0,0,2,14.5,S,Second,woman,False,,Southampton,yes,False', '1,1,male,37.0,1,1,52.5542,S,First,man,True,D,Southampton,yes,False', '0,2,male,54.0,1,0,26.0,S,Second,man,True,,Southampton,no,False', '0,3,male,,0,0,7.25,S,Third,man,True,,Southampton,no,True', '0,3,female,29.0,1,1,10.4625,S,Third,woman,False,G,Southampton,no,False', '0,1,male,62.0,0,0,26.55,S,First,man,True,C,Southampton,no,True', '0,3,male,30.0,1,0,16.1,S,Third,man,True,,Southampton,no,False', '0,3,female,41.0,0,2,20.2125,S,Third,woman,False,,Southampton,no,False', '1,3,female,29.0,0,2,15.2458,C,Third,woman,False,,Cherbourg,yes,False', '1,1,female,,0,0,79.2,C,First,woman,False,,Cherbourg,yes,True', '1,1,female,30.0,0,0,86.5,S,First,woman,False,B,Southampton,yes,True', '1,1,female,35.0,0,0,512.3292,C,First,woman,False,,Cherbourg,yes,True', '1,2,female,50.0,0,1,26.0,S,Second,woman,False,,Southampton,yes,False', '0,3,male,,0,0,7.75,Q,Third,man,True,,Queenstown,no,True', '1,3,male,3.0,4,2,31.3875,S,Third,child,False,,Southampton,yes,False', '0,1,male,52.0,1,1,79.65,S,First,man,True,E,Southampton,no,False', '0,1,male,40.0,0,0,0.0,S,First,man,True,B,Southampton,no,True', '0,3,female,,0,0,7.75,Q,Third,woman,False,,Queenstown,no,True', '0,2,male,36.0,0,0,10.5,S,Second,man,True,,Southampton,no,True', '0,3,male,16.0,4,1,39.6875,S,Third,man,True,,Southampton,no,False', '1,3,male,25.0,1,0,7.775,S,Third,man,True,,Southampton,yes,False', '1,1,female,58.0,0,1,153.4625,S,First,woman,False,C,Southampton,yes,False', '1,1,female,35.0,0,0,135.6333,S,First,woman,False,C,Southampton,yes,True', '0,1,male,,0,0,31.0,S,First,man,True,,Southampton,no,True', '1,3,male,25.0,0,0,0.0,S,Third,man,True,,Southampton,yes,True', '1,2,female,41.0,0,1,19.5,S,Second,woman,False,,Southampton,yes,False', '0,1,male,37.0,0,1,29.7,C,First,man,True,C,Cherbourg,no,False', '1,3,female,,0,0,7.75,Q,Third,woman,False,,Queenstown,yes,True', '1,1,female,63.0,1,0,77.9583,S,First,woman,False,D,Southampton,yes,False', '0,3,female,45.0,0,0,7.75,S,Third,woman,False,,Southampton,no,True', '0,2,male,,0,0,0.0,S,Second,man,True,,Southampton,no,True', '0,3,male,7.0,4,1,29.125,Q,Third,child,False,,Queenstown,no,False', '1,3,female,35.0,1,1,20.25,S,Third,woman,False,,Southampton,yes,False', '0,3,male,65.0,0,0,7.75,Q,Third,man,True,,Queenstown,no,True', '0,3,male,28.0,0,0,7.8542,S,Third,man,True,,Southampton,no,True', '0,3,male,16.0,0,0,9.5,S,Third,man,True,,Southampton,no,True', '1,3,male,19.0,0,0,8.05,S,Third,man,True,,Southampton,yes,True', '0,1,male,,0,0,26.0,S,First,man,True,A,Southampton,no,True', '0,3,male,33.0,0,0,8.6625,C,Third,man,True,,Cherbourg,no,True', '1,3,male,30.0,0,0,9.5,S,Third,man,True,,Southampton,yes,True', '0,3,male,22.0,0,0,7.8958,S,Third,man,True,,Southampton,no,True', '1,2,male,42.0,0,0,13.0,S,Second,man,True,,Southampton,yes,True', '1,3,female,22.0,0,0,7.75,Q,Third,woman,False,,Queenstown,yes,True', '1,1,female,26.0,0,0,78.85,S,First,woman,False,,Southampton,yes,True', '1,1,female,19.0,1,0,91.0792,C,First,woman,False,B,Cherbourg,yes,False', '0,2,male,36.0,0,0,12.875,C,Second,man,True,D,Cherbourg,no,True', '0,3,female,24.0,0,0,8.85,S,Third,woman,False,,Southampton,no,True', '0,3,male,24.0,0,0,7.8958,S,Third,man,True,,Southampton,no,True', '0,1,male,,0,0,27.7208,C,First,man,True,,Cherbourg,no,True', '0,3,male,23.5,0,0,7.2292,C,Third,man,True,,Cherbourg,no,True', '0,1,female,2.0,1,2,151.55,S,First,child,False,C,Southampton,no,False', '1,1,male,,0,0,30.5,S,First,man,True,C,Southampton,yes,True', '1,1,female,50.0,0,1,247.5208,C,First,woman,False,B,Cherbourg,yes,False', '1,3,female,,0,0,7.75,Q,Third,woman,False,,Queenstown,yes,True', '1,3,male,,2,0,23.25,Q,Third,man,True,,Queenstown,yes,False', '0,3,male,19.0,0,0,0.0,S,Third,man,True,,Southampton,no,True', '1,2,female,,0,0,12.35,Q,Second,woman,False,E,Queenstown,yes,True', '0,3,male,,0,0,8.05,S,Third,man,True,,Southampton,no,True', '1,1,male,0.92,1,2,151.55,S,First,child,False,C,Southampton,yes,False', '1,1,female,,0,0,110.8833,C,First,woman,False,,Cherbourg,yes,True', '1,1,female,17.0,1,0,108.9,C,First,woman,False,C,Cherbourg,yes,False', '0,2,male,30.0,1,0,24.0,C,Second,man,True,,Cherbourg,no,False', '1,1,female,30.0,0,0,56.9292,C,First,woman,False,E,Cherbourg,yes,True', '1,1,female,24.0,0,0,83.1583,C,First,woman,False,C,Cherbourg,yes,True', '1,1,female,18.0,2,2,262.375,C,First,woman,False,B,Cherbourg,yes,False', '0,2,female,26.0,1,1,26.0,S,Second,woman,False,,Southampton,no,False', '0,3,male,28.0,0,0,7.8958,S,Third,man,True,,Southampton,no,True', '0,2,male,43.0,1,1,26.25,S,Second,man,True,,Southampton,no,False', '1,3,female,26.0,0,0,7.8542,S,Third,woman,False,,Southampton,yes,True', '1,2,female,24.0,1,0,26.0,S,Second,woman,False,,Southampton,yes,False', '0,2,male,54.0,0,0,14.0,S,Second,man,True,,Southampton,no,True', '1,1,female,31.0,0,2,164.8667,S,First,woman,False,C,Southampton,yes,False', '1,1,female,40.0,1,1,134.5,C,First,woman,False,E,Cherbourg,yes,False', '0,3,male,22.0,0,0,7.25,S,Third,man,True,,Southampton,no,True', '0,3,male,27.0,0,0,7.8958,S,Third,man,True,,Southampton,no,True', '1,2,female,30.0,0,0,12.35,Q,Second,woman,False,,Queenstown,yes,True', '1,2,female,22.0,1,1,29.0,S,Second,woman,False,,Southampton,yes,False', '0,3,male,,8,2,69.55,S,Third,man,True,,Southampton,no,False', '1,1,female,36.0,0,0,135.6333,C,First,woman,False,C,Cherbourg,yes,True', '0,3,male,61.0,0,0,6.2375,S,Third,man,True,,Southampton,no,True', '1,2,female,36.0,0,0,13.0,S,Second,woman,False,D,Southampton,yes,True', '1,3,female,31.0,1,1,20.525,S,Third,woman,False,,Southampton,yes,False', '1,1,female,16.0,0,1,57.9792,C,First,woman,False,B,Cherbourg,yes,False', '1,3,female,,2,0,23.25,Q,Third,woman,False,,Queenstown,yes,False', '0,1,male,45.5,0,0,28.5,S,First,man,True,C,Southampton,no,True', '0,1,male,38.0,0,1,153.4625,S,First,man,True,C,Southampton,no,False', '0,3,male,16.0,2,0,18.0,S,Third,man,True,,Southampton,no,False', '1,1,female,,1,0,133.65,S,First,woman,False,,Southampton,yes,False', '0,3,male,,0,0,7.8958,S,Third,man,True,,Southampton,no,True', '0,1,male,29.0,1,0,66.6,S,First,man,True,C,Southampton,no,False', '1,1,female,41.0,0,0,134.5,C,First,woman,False,E,Cherbourg,yes,True', '1,3,male,45.0,0,0,8.05,S,Third,man,True,,Southampton,yes,True', '0,1,male,45.0,0,0,35.5,S,First,man,True,,Southampton,no,True', '1,2,male,2.0,1,1,26.0,S,Second,child,False,F,Southampton,yes,False', '1,1,female,24.0,3,2,263.0,S,First,woman,False,C,Southampton,yes,False', '0,2,male,28.0,0,0,13.0,S,Second,man,True,,Southampton,no,True', '0,2,male,25.0,0,0,13.0,S,Second,man,True,,Southampton,no,True', '0,2,male,36.0,0,0,13.0,S,Second,man,True,,Southampton,no,True', '1,2,female,24.0,0,0,13.0,S,Second,woman,False,F,Southampton,yes,True', '1,2,female,40.0,0,0,13.0,S,Second,woman,False,,Southampton,yes,True', '1,3,female,,1,0,16.1,S,Third,woman,False,,Southampton,yes,False', '1,3,male,3.0,1,1,15.9,S,Third,child,False,,Southampton,yes,False', '0,3,male,42.0,0,0,8.6625,S,Third,man,True,,Southampton,no,True', '0,3,male,23.0,0,0,9.225,S,Third,man,True,,Southampton,no,True', '0,1,male,,0,0,35.0,S,First,man,True,C,Southampton,no,True', '0,3,male,15.0,1,1,7.2292,C,Third,child,False,,Cherbourg,no,False', '0,3,male,25.0,1,0,17.8,S,Third,man,True,,Southampton,no,False', '0,3,male,,0,0,7.225,C,Third,man,True,,Cherbourg,no,True', '0,3,male,28.0,0,0,9.5,S,Third,man,True,,Southampton,no,True', '1,1,female,22.0,0,1,55.0,S,First,woman,False,E,Southampton,yes,False', '0,2,female,38.0,0,0,13.0,S,Second,woman,False,,Southampton,no,True', '1,3,female,,0,0,7.8792,Q,Third,woman,False,,Queenstown,yes,True', '1,3,female,,0,0,7.8792,Q,Third,woman,False,,Queenstown,yes,True', '0,3,male,40.0,1,4,27.9,S,Third,man,True,,Southampton,no,False', '0,2,male,29.0,1,0,27.7208,C,Second,man,True,,Cherbourg,no,False', '0,3,female,45.0,0,1,14.4542,C,Third,woman,False,,Cherbourg,no,False', '0,3,male,35.0,0,0,7.05,S,Third,man,True,,Southampton,no,True', '0,3,male,,1,0,15.5,Q,Third,man,True,,Queenstown,no,False', '0,3,male,30.0,0,0,7.25,S,Third,man,True,,Southampton,no,True', '1,1,female,60.0,1,0,75.25,C,First,woman,False,D,Cherbourg,yes,False', '1,3,female,,0,0,7.2292,C,Third,woman,False,,Cherbourg,yes,True', '1,3,female,,0,0,7.75,Q,Third,woman,False,,Queenstown,yes,True', '1,1,female,24.0,0,0,69.3,C,First,woman,False,B,Cherbourg,yes,True', '1,1,male,25.0,1,0,55.4417,C,First,man,True,E,Cherbourg,yes,False', '0,3,male,18.0,1,0,6.4958,S,Third,man,True,,Southampton,no,False', '0,3,male,19.0,0,0,8.05,S,Third,man,True,,Southampton,no,True', '0,1,male,22.0,0,0,135.6333,C,First,man,True,,Cherbourg,no,True', '0,3,female,3.0,3,1,21.075,S,Third,child,False,,Southampton,no,False', '1,1,female,,1,0,82.1708,C,First,woman,False,,Cherbourg,yes,False', '1,3,female,22.0,0,0,7.25,S,Third,woman,False,,Southampton,yes,True', '0,1,male,27.0,0,2,211.5,C,First,man,True,C,Cherbourg,no,False', '0,3,male,20.0,0,0,4.0125,C,Third,man,True,,Cherbourg,no,True', '0,3,male,19.0,0,0,7.775,S,Third,man,True,,Southampton,no,True', '1,1,female,42.0,0,0,227.525,C,First,woman,False,,Cherbourg,yes,True', '1,3,female,1.0,0,2,15.7417,C,Third,child,False,,Cherbourg,yes,False', '0,3,male,32.0,0,0,7.925,S,Third,man,True,,Southampton,no,True', '1,1,female,35.0,1,0,52.0,S,First,woman,False,,Southampton,yes,False', '0,3,male,,0,0,7.8958,S,Third,man,True,,Southampton,no,True', '0,2,male,18.0,0,0,73.5,S,Second,man,True,,Southampton,no,True', '0,3,male,1.0,5,2,46.9,S,Third,child,False,,Southampton,no,False', '1,2,female,36.0,0,0,13.0,S,Second,woman,False,,Southampton,yes,True', '0,3,male,,0,0,7.7292,Q,Third,man,True,,Queenstown,no,True', '1,2,female,17.0,0,0,12.0,C,Second,woman,False,,Cherbourg,yes,True', '1,1,male,36.0,1,2,120.0,S,First,man,True,B,Southampton,yes,False', '1,3,male,21.0,0,0,7.7958,S,Third,man,True,,Southampton,yes,True', '0,3,male,28.0,2,0,7.925,S,Third,man,True,,Southampton,no,False', '1,1,female,23.0,1,0,113.275,C,First,woman,False,D,Cherbourg,yes,False', '1,3,female,24.0,0,2,16.7,S,Third,woman,False,G,Southampton,yes,False', '0,3,male,22.0,0,0,7.7958,S,Third,man,True,,Southampton,no,True', '0,3,female,31.0,0,0,7.8542,S,Third,woman,False,,Southampton,no,True', '0,2,male,46.0,0,0,26.0,S,Second,man,True,,Southampton,no,True', '0,2,male,23.0,0,0,10.5,S,Second,man,True,,Southampton,no,True', '1,2,female,28.0,0,0,12.65,S,Second,woman,False,,Southampton,yes,True', '1,3,male,39.0,0,0,7.925,S,Third,man,True,,Southampton,yes,True', '0,3,male,26.0,0,0,8.05,S,Third,man,True,,Southampton,no,True', '0,3,female,21.0,1,0,9.825,S,Third,woman,False,,Southampton,no,False', '0,3,male,28.0,1,0,15.85,S,Third,man,True,,Southampton,no,False', '0,3,female,20.0,0,0,8.6625,S,Third,woman,False,,Southampton,no,True', '0,2,male,34.0,1,0,21.0,S,Second,man,True,,Southampton,no,False', '0,3,male,51.0,0,0,7.75,S,Third,man,True,,Southampton,no,True', '1,2,male,3.0,1,1,18.75,S,Second,child,False,,Southampton,yes,False', '0,3,male,21.0,0,0,7.775,S,Third,man,True,,Southampton,no,True', '0,3,female,,3,1,25.4667,S,Third,woman,False,,Southampton,no,False', '0,3,male,,0,0,7.8958,S,Third,man,True,,Southampton,no,True', '0,3,male,,0,0,6.8583,Q,Third,man,True,,Queenstown,no,True', '1,1,female,33.0,1,0,90.0,Q,First,woman,False,C,Queenstown,yes,False', '0,2,male,,0,0,0.0,S,Second,man,True,,Southampton,no,True', '1,3,male,44.0,0,0,7.925,S,Third,man,True,,Southampton,yes,True', '0,3,female,,0,0,8.05,S,Third,woman,False,,Southampton,no,True', '1,2,female,34.0,1,1,32.5,S,Second,woman,False,,Southampton,yes,False', '1,2,female,18.0,0,2,13.0,S,Second,woman,False,,Southampton,yes,False', '0,2,male,30.0,0,0,13.0,S,Second,man,True,,Southampton,no,True', '0,3,female,10.0,0,2,24.15,S,Third,child,False,,Southampton,no,False', '0,3,male,,0,0,7.8958,C,Third,man,True,,Cherbourg,no,True', '0,3,male,21.0,0,0,7.7333,Q,Third,man,True,,Queenstown,no,True', '0,3,male,29.0,0,0,7.875,S,Third,man,True,,Southampton,no,True', '0,3,female,28.0,1,1,14.4,S,Third,woman,False,,Southampton,no,False', '0,3,male,18.0,1,1,20.2125,S,Third,man,True,,Southampton,no,False', '0,3,male,,0,0,7.25,S,Third,man,True,,Southampton,no,True', '1,2,female,28.0,1,0,26.0,S,Second,woman,False,,Southampton,yes,False', '1,2,female,19.0,0,0,26.0,S,Second,woman,False,,Southampton,yes,True', '0,3,male,,0,0,7.75,Q,Third,man,True,,Queenstown,no,True', '1,3,male,32.0,0,0,8.05,S,Third,man,True,E,Southampton,yes,True', '1,1,male,28.0,0,0,26.55,S,First,man,True,C,Southampton,yes,True', '1,3,female,,1,0,16.1,S,Third,woman,False,,Southampton,yes,False', '1,2,female,42.0,1,0,26.0,S,Second,woman,False,,Southampton,yes,False', '0,3,male,17.0,0,0,7.125,S,Third,man,True,,Southampton,no,True', '0,1,male,50.0,1,0,55.9,S,First,man,True,E,Southampton,no,False', '1,1,female,14.0,1,2,120.0,S,First,child,False,B,Southampton,yes,False', '0,3,female,21.0,2,2,34.375,S,Third,woman,False,,Southampton,no,False', '1,2,female,24.0,2,3,18.75,S,Second,woman,False,,Southampton,yes,False', '0,1,male,64.0,1,4,263.0,S,First,man,True,C,Southampton,no,False', '0,2,male,31.0,0,0,10.5,S,Second,man,True,,Southampton,no,True', '1,2,female,45.0,1,1,26.25,S,Second,woman,False,,Southampton,yes,False', '0,3,male,20.0,0,0,9.5,S,Third,man,True,,Southampton,no,True', '0,3,male,25.0,1,0,7.775,S,Third,man,True,,Southampton,no,False', '1,2,female,28.0,0,0,13.0,S,Second,woman,False,,Southampton,yes,True', '1,3,male,,0,0,8.1125,S,Third,man,True,,Southampton,yes,True', '1,1,male,4.0,0,2,81.8583,S,First,child,False,A,Southampton,yes,False', '1,2,female,13.0,0,1,19.5,S,Second,child,False,,Southampton,yes,False', '1,1,male,34.0,0,0,26.55,S,First,man,True,,Southampton,yes,True', '1,3,female,5.0,2,1,19.2583,C,Third,child,False,,Cherbourg,yes,False', '1,1,male,52.0,0,0,30.5,S,First,man,True,C,Southampton,yes,True', '0,2,male,36.0,1,2,27.75,S,Second,man,True,,Southampton,no,False', '0,3,male,,1,0,19.9667,S,Third,man,True,,Southampton,no,False', '0,1,male,30.0,0,0,27.75,C,First,man,True,C,Cherbourg,no,True', '1,1,male,49.0,1,0,89.1042,C,First,man,True,C,Cherbourg,yes,False', '0,3,male,,0,0,8.05,S,Third,man,True,,Southampton,no,True', '1,3,male,29.0,0,0,7.8958,C,Third,man,True,,Cherbourg,yes,True', '0,1,male,65.0,0,0,26.55,S,First,man,True,E,Southampton,no,True', '1,1,female,,1,0,51.8625,S,First,woman,False,D,Southampton,yes,False', '1,2,female,50.0,0,0,10.5,S,Second,woman,False,,Southampton,yes,True', '0,3,male,,0,0,7.75,Q,Third,man,True,,Queenstown,no,True', '1,1,male,48.0,0,0,26.55,S,First,man,True,E,Southampton,yes,True', '0,3,male,34.0,0,0,8.05,S,Third,man,True,,Southampton,no,True', '0,1,male,47.0,0,0,38.5,S,First,man,True,E,Southampton,no,True', '0,2,male,48.0,0,0,13.0,S,Second,man,True,,Southampton,no,True', '0,3,male,,0,0,8.05,S,Third,man,True,,Southampton,no,True', '0,3,male,38.0,0,0,7.05,S,Third,man,True,,Southampton,no,True', '0,2,male,,0,0,0.0,S,Second,man,True,,Southampton,no,True', '0,1,male,56.0,0,0,26.55,S,First,man,True,,Southampton,no,True', '0,3,male,,0,0,7.725,Q,Third,man,True,,Queenstown,no,True', '1,3,female,0.75,2,1,19.2583,C,Third,child,False,,Cherbourg,yes,False', '0,3,male,,0,0,7.25,S,Third,man,True,,Southampton,no,True', '0,3,male,38.0,0,0,8.6625,S,Third,man,True,,Southampton,no,True', '1,2,female,33.0,1,2,27.75,S,Second,woman,False,,Southampton,yes,False', '1,2,female,23.0,0,0,13.7917,C,Second,woman,False,D,Cherbourg,yes,True', '0,3,female,22.0,0,0,9.8375,S,Third,woman,False,,Southampton,no,True', '0,1,male,,0,0,52.0,S,First,man,True,A,Southampton,no,True', '0,2,male,34.0,1,0,21.0,S,Second,man,True,,Southampton,no,False', '0,3,male,29.0,1,0,7.0458,S,Third,man,True,,Southampton,no,False', '0,3,male,22.0,0,0,7.5208,S,Third,man,True,,Southampton,no,True', '1,3,female,2.0,0,1,12.2875,S,Third,child,False,,Southampton,yes,False', '0,3,male,9.0,5,2,46.9,S,Third,child,False,,Southampton,no,False', '0,2,male,,0,0,0.0,S,Second,man,True,,Southampton,no,True', '0,3,male,50.0,0,0,8.05,S,Third,man,True,,Southampton,no,True', '1,3,female,63.0,0,0,9.5875,S,Third,woman,False,,Southampton,yes,True', '1,1,male,25.0,1,0,91.0792,C,First,man,True,B,Cherbourg,yes,False', '0,3,female,,3,1,25.4667,S,Third,woman,False,,Southampton,no,False', '1,1,female,35.0,1,0,90.0,S,First,woman,False,C,Southampton,yes,False', '0,1,male,58.0,0,0,29.7,C,First,man,True,B,Cherbourg,no,True', '0,3,male,30.0,0,0,8.05,S,Third,man,True,,Southampton,no,True', '1,3,male,9.0,1,1,15.9,S,Third,child,False,,Southampton,yes,False', '0,3,male,,1,0,19.9667,S,Third,man,True,,Southampton,no,False', '0,3,male,21.0,0,0,7.25,S,Third,man,True,,Southampton,no,True', '0,1,male,55.0,0,0,30.5,S,First,man,True,C,Southampton,no,True', '0,1,male,71.0,0,0,49.5042,C,First,man,True,,Cherbourg,no,True', '0,3,male,21.0,0,0,8.05,S,Third,man,True,,Southampton,no,True', '0,3,male,,0,0,14.4583,C,Third,man,True,,Cherbourg,no,True', '1,1,female,54.0,1,0,78.2667,C,First,woman,False,D,Cherbourg,yes,False', '0,3,male,,0,0,15.1,S,Third,man,True,,Southampton,no,True', '0,1,female,25.0,1,2,151.55,S,First,woman,False,C,Southampton,no,False', '0,3,male,24.0,0,0,7.7958,S,Third,man,True,,Southampton,no,True', '0,3,male,17.0,0,0,8.6625,S,Third,man,True,,Southampton,no,True', '0,3,female,21.0,0,0,7.75,Q,Third,woman,False,,Queenstown,no,True', '0,3,female,,0,0,7.6292,Q,Third,woman,False,,Queenstown,no,True', '0,3,female,37.0,0,0,9.5875,S,Third,woman,False,,Southampton,no,True', '1,1,female,16.0,0,0,86.5,S,First,woman,False,B,Southampton,yes,True', '0,1,male,18.0,1,0,108.9,C,First,man,True,C,Cherbourg,no,False', '1,2,female,33.0,0,2,26.0,S,Second,woman,False,,Southampton,yes,False', '1,1,male,,0,0,26.55,S,First,man,True,,Southampton,yes,True', '0,3,male,28.0,0,0,22.525,S,Third,man,True,,Southampton,no,True', '1,3,male,26.0,0,0,56.4958,S,Third,man,True,,Southampton,yes,True', '1,3,male,29.0,0,0,7.75,Q,Third,man,True,,Queenstown,yes,True', '0,3,male,,0,0,8.05,S,Third,man,True,,Southampton,no,True', '1,1,male,36.0,0,0,26.2875,S,First,man,True,E,Southampton,yes,True', '1,1,female,54.0,1,0,59.4,C,First,woman,False,,Cherbourg,yes,False', '0,3,male,24.0,0,0,7.4958,S,Third,man,True,,Southampton,no,True', '0,1,male,47.0,0,0,34.0208,S,First,man,True,D,Southampton,no,True', '1,2,female,34.0,0,0,10.5,S,Second,woman,False,F,Southampton,yes,True', '0,3,male,,0,0,24.15,Q,Third,man,True,,Queenstown,no,True', '1,2,female,36.0,1,0,26.0,S,Second,woman,False,,Southampton,yes,False', '0,3,male,32.0,0,0,7.8958,S,Third,man,True,,Southampton,no,True', '1,1,female,30.0,0,0,93.5,S,First,woman,False,B,Southampton,yes,True', '0,3,male,22.0,0,0,7.8958,S,Third,man,True,,Southampton,no,True', '0,3,male,,0,0,7.225,C,Third,man,True,,Cherbourg,no,True', '1,1,female,44.0,0,1,57.9792,C,First,woman,False,B,Cherbourg,yes,False', '0,3,male,,0,0,7.2292,C,Third,man,True,,Cherbourg,no,True', '0,3,male,40.5,0,0,7.75,Q,Third,man,True,,Queenstown,no,True', '1,2,female,50.0,0,0,10.5,S,Second,woman,False,,Southampton,yes,True', '0,1,male,,0,0,221.7792,S,First,man,True,C,Southampton,no,True', '0,3,male,39.0,0,0,7.925,S,Third,man,True,,Southampton,no,True', '0,2,male,23.0,2,1,11.5,S,Second,man,True,,Southampton,no,False', '1,2,female,2.0,1,1,26.0,S,Second,child,False,,Southampton,yes,False', '0,3,male,,0,0,7.2292,C,Third,man,True,,Cherbourg,no,True', '0,3,male,17.0,1,1,7.2292,C,Third,man,True,,Cherbourg,no,False', '1,3,female,,0,2,22.3583,C,Third,woman,False,,Cherbourg,yes,False', '0,3,female,30.0,0,0,8.6625,S,Third,woman,False,,Southampton,no,True', '1,2,female,7.0,0,2,26.25,S,Second,child,False,,Southampton,yes,False', '0,1,male,45.0,0,0,26.55,S,First,man,True,B,Southampton,no,True', '1,1,female,30.0,0,0,106.425,C,First,woman,False,,Cherbourg,yes,True', '0,3,male,,0,0,14.5,S,Third,man,True,,Southampton,no,True', '1,1,female,22.0,0,2,49.5,C,First,woman,False,B,Cherbourg,yes,False', '1,1,female,36.0,0,2,71.0,S,First,woman,False,B,Southampton,yes,False', '0,3,female,9.0,4,2,31.275,S,Third,child,False,,Southampton,no,False', '0,3,female,11.0,4,2,31.275,S,Third,child,False,,Southampton,no,False', '1,2,male,32.0,1,0,26.0,S,Second,man,True,,Southampton,yes,False', '0,1,male,50.0,1,0,106.425,C,First,man,True,C,Cherbourg,no,False', '0,1,male,64.0,0,0,26.0,S,First,man,True,,Southampton,no,True', '1,2,female,19.0,1,0,26.0,S,Second,woman,False,,Southampton,yes,False', '1,2,male,,0,0,13.8625,C,Second,man,True,,Cherbourg,yes,True', '0,3,male,33.0,1,1,20.525,S,Third,man,True,,Southampton,no,False', '1,2,male,8.0,1,1,36.75,S,Second,child,False,,Southampton,yes,False', '1,1,male,17.0,0,2,110.8833,C,First,man,True,C,Cherbourg,yes,False', '0,2,male,27.0,0,0,26.0,S,Second,man,True,,Southampton,no,True', '0,3,male,,0,0,7.8292,Q,Third,man,True,,Queenstown,no,True', '1,3,male,22.0,0,0,7.225,C,Third,man,True,,Cherbourg,yes,True', '1,3,female,22.0,0,0,7.775,S,Third,woman,False,,Southampton,yes,True', '0,1,male,62.0,0,0,26.55,S,First,man,True,,Southampton,no,True', '1,1,female,48.0,1,0,39.6,C,First,woman,False,A,Cherbourg,yes,False', '0,1,male,,0,0,227.525,C,First,man,True,,Cherbourg,no,True', '1,1,female,39.0,1,1,79.65,S,First,woman,False,E,Southampton,yes,False', '1,3,female,36.0,1,0,17.4,S,Third,woman,False,,Southampton,yes,False', '0,3,male,,0,0,7.75,Q,Third,man,True,,Queenstown,no,True', '0,3,male,40.0,0,0,7.8958,S,Third,man,True,,Southampton,no,True', '0,2,male,28.0,0,0,13.5,S,Second,man,True,,Southampton,no,True', '0,3,male,,0,0,8.05,S,Third,man,True,,Southampton,no,True', '0,3,female,,0,0,8.05,S,Third,woman,False,,Southampton,no,True', '0,3,male,24.0,2,0,24.15,S,Third,man,True,,Southampton,no,False', '0,3,male,19.0,0,0,7.8958,S,Third,man,True,,Southampton,no,True', '0,3,female,29.0,0,4,21.075,S,Third,woman,False,,Southampton,no,False', '0,3,male,,0,0,7.2292,C,Third,man,True,,Cherbourg,no,True', '1,3,male,32.0,0,0,7.8542,S,Third,man,True,,Southampton,yes,True', '1,2,male,62.0,0,0,10.5,S,Second,man,True,,Southampton,yes,True', '1,1,female,53.0,2,0,51.4792,S,First,woman,False,C,Southampton,yes,False', '1,1,male,36.0,0,0,26.3875,S,First,man,True,E,Southampton,yes,True', '1,3,female,,0,0,7.75,Q,Third,woman,False,,Queenstown,yes,True', '0,3,male,16.0,0,0,8.05,S,Third,man,True,,Southampton,no,True', '0,3,male,19.0,0,0,14.5,S,Third,man,True,,Southampton,no,True', '1,2,female,34.0,0,0,13.0,S,Second,woman,False,,Southampton,yes,True', '1,1,female,39.0,1,0,55.9,S,First,woman,False,E,Southampton,yes,False', '0,3,female,,1,0,14.4583,C,Third,woman,False,,Cherbourg,no,False', '1,3,male,32.0,0,0,7.925,S,Third,man,True,,Southampton,yes,True', '1,2,female,25.0,1,1,30.0,S,Second,woman,False,,Southampton,yes,False', '1,1,female,39.0,1,1,110.8833,C,First,woman,False,C,Cherbourg,yes,False', '0,2,male,54.0,0,0,26.0,S,Second,man,True,,Southampton,no,True', '0,1,male,36.0,0,0,40.125,C,First,man,True,A,Cherbourg,no,True', '0,3,male,,0,0,8.7125,C,Third,man,True,,Cherbourg,no,True', '1,1,female,18.0,0,2,79.65,S,First,woman,False,E,Southampton,yes,False', '0,2,male,47.0,0,0,15.0,S,Second,man,True,,Southampton,no,True', '1,1,male,60.0,1,1,79.2,C,First,man,True,B,Cherbourg,yes,False', '0,3,male,22.0,0,0,8.05,S,Third,man,True,,Southampton,no,True', '0,3,male,,0,0,8.05,S,Third,man,True,,Southampton,no,True', '0,3,male,35.0,0,0,7.125,S,Third,man,True,,Southampton,no,True', '1,1,female,52.0,1,0,78.2667,C,First,woman,False,D,Cherbourg,yes,False', '0,3,male,47.0,0,0,7.25,S,Third,man,True,,Southampton,no,True', '0,3,female,,0,2,7.75,Q,Third,woman,False,,Queenstown,no,False', '0,2,male,37.0,1,0,26.0,S,Second,man,True,,Southampton,no,False', '0,3,male,36.0,1,1,24.15,S,Third,man,True,,Southampton,no,False', '1,2,female,,0,0,33.0,S,Second,woman,False,,Southampton,yes,True', '0,3,male,49.0,0,0,0.0,S,Third,man,True,,Southampton,no,True', '0,3,male,,0,0,7.225,C,Third,man,True,,Cherbourg,no,True', '1,1,male,49.0,1,0,56.9292,C,First,man,True,A,Cherbourg,yes,False', '1,2,female,24.0,2,1,27.0,S,Second,woman,False,,Southampton,yes,False', '0,3,male,,0,0,7.8958,S,Third,man,True,,Southampton,no,True', '0,1,male,,0,0,42.4,S,First,man,True,,Southampton,no,True', '0,3,male,44.0,0,0,8.05,S,Third,man,True,,Southampton,no,True', '1,1,male,35.0,0,0,26.55,C,First,man,True,,Cherbourg,yes,True', '0,3,male,36.0,1,0,15.55,S,Third,man,True,,Southampton,no,False', '0,3,male,30.0,0,0,7.8958,S,Third,man,True,,Southampton,no,True', '1,1,male,27.0,0,0,30.5,S,First,man,True,,Southampton,yes,True', '1,2,female,22.0,1,2,41.5792,C,Second,woman,False,,Cherbourg,yes,False', '1,1,female,40.0,0,0,153.4625,S,First,woman,False,C,Southampton,yes,True', '0,3,female,39.0,1,5,31.275,S,Third,woman,False,,Southampton,no,False', '0,3,male,,0,0,7.05,S,Third,man,True,,Southampton,no,True', '1,3,female,,1,0,15.5,Q,Third,woman,False,,Queenstown,yes,False', '0,3,male,,0,0,7.75,Q,Third,man,True,,Queenstown,no,True', '0,3,male,35.0,0,0,8.05,S,Third,man,True,,Southampton,no,True', '1,2,female,24.0,1,2,65.0,S,Second,woman,False,,Southampton,yes,False', '0,3,male,34.0,1,1,14.4,S,Third,man,True,,Southampton,no,False', '0,3,female,26.0,1,0,16.1,S,Third,woman,False,,Southampton,no,False', '1,2,female,4.0,2,1,39.0,S,Second,child,False,F,Southampton,yes,False', '0,2,male,26.0,0,0,10.5,S,Second,man,True,,Southampton,no,True', '0,3,male,27.0,1,0,14.4542,C,Third,man,True,,Cherbourg,no,False', '1,1,male,42.0,1,0,52.5542,S,First,man,True,D,Southampton,yes,False', '1,3,male,20.0,1,1,15.7417,C,Third,man,True,,Cherbourg,yes,False', '0,3,male,21.0,0,0,7.8542,S,Third,man,True,,Southampton,no,True', '0,3,male,21.0,0,0,16.1,S,Third,man,True,,Southampton,no,True', '0,1,male,61.0,0,0,32.3208,S,First,man,True,D,Southampton,no,True', '0,2,male,57.0,0,0,12.35,Q,Second,man,True,,Queenstown,no,True', '1,1,female,21.0,0,0,77.9583,S,First,woman,False,D,Southampton,yes,True', '0,3,male,26.0,0,0,7.8958,S,Third,man,True,,Southampton,no,True', '0,3,male,,0,0,7.7333,Q,Third,man,True,,Queenstown,no,True', '1,1,male,80.0,0,0,30.0,S,First,man,True,A,Southampton,yes,True', '0,3,male,51.0,0,0,7.0542,S,Third,man,True,,Southampton,no,True', '1,1,male,32.0,0,0,30.5,C,First,man,True,B,Cherbourg,yes,True', '0,1,male,,0,0,0.0,S,First,man,True,,Southampton,no,True', '0,3,female,9.0,3,2,27.9,S,Third,child,False,,Southampton,no,False', '1,2,female,28.0,0,0,13.0,S,Second,woman,False,,Southampton,yes,True', '0,3,male,32.0,0,0,7.925,S,Third,man,True,,Southampton,no,True', '0,2,male,31.0,1,1,26.25,S,Second,man,True,,Southampton,no,False', '0,3,female,41.0,0,5,39.6875,S,Third,woman,False,,Southampton,no,False', '0,3,male,,1,0,16.1,S,Third,man,True,,Southampton,no,False', '0,3,male,20.0,0,0,7.8542,S,Third,man,True,,Southampton,no,True', '1,1,female,24.0,0,0,69.3,C,First,woman,False,B,Cherbourg,yes,True', '0,3,female,2.0,3,2,27.9,S,Third,child,False,,Southampton,no,False', '1,3,male,,0,0,56.4958,S,Third,man,True,,Southampton,yes,True', '1,3,female,0.75,2,1,19.2583,C,Third,child,False,,Cherbourg,yes,False', '1,1,male,48.0,1,0,76.7292,C,First,man,True,D,Cherbourg,yes,False', '0,3,male,19.0,0,0,7.8958,S,Third,man,True,,Southampton,no,True', '1,1,male,56.0,0,0,35.5,C,First,man,True,A,Cherbourg,yes,True', '0,3,male,,0,0,7.55,S,Third,man,True,,Southampton,no,True', '1,3,female,23.0,0,0,7.55,S,Third,woman,False,,Southampton,yes,True', '0,3,male,,0,0,7.8958,S,Third,man,True,,Southampton,no,True', '1,2,female,18.0,0,1,23.0,S,Second,woman,False,,Southampton,yes,False', '0,3,male,21.0,0,0,8.4333,S,Third,man,True,,Southampton,no,True', '1,3,female,,0,0,7.8292,Q,Third,woman,False,,Queenstown,yes,True', '0,3,female,18.0,0,0,6.75,Q,Third,woman,False,,Queenstown,no,True', '0,2,male,24.0,2,0,73.5,S,Second,man,True,,Southampton,no,False', '0,3,male,,0,0,7.8958,S,Third,man,True,,Southampton,no,True', '0,3,female,32.0,1,1,15.5,Q,Third,woman,False,,Queenstown,no,False', '0,2,male,23.0,0,0,13.0,S,Second,man,True,,Southampton,no,True', '0,1,male,58.0,0,2,113.275,C,First,man,True,D,Cherbourg,no,False', '1,1,male,50.0,2,0,133.65,S,First,man,True,,Southampton,yes,False', '0,3,male,40.0,0,0,7.225,C,Third,man,True,,Cherbourg,no,True', '0,1,male,47.0,0,0,25.5875,S,First,man,True,E,Southampton,no,True', '0,3,male,36.0,0,0,7.4958,S,Third,man,True,,Southampton,no,True', '1,3,male,20.0,1,0,7.925,S,Third,man,True,,Southampton,yes,False', '0,2,male,32.0,2,0,73.5,S,Second,man,True,,Southampton,no,False', '0,2,male,25.0,0,0,13.0,S,Second,man,True,,Southampton,no,True', '0,3,male,,0,0,7.775,S,Third,man,True,,Southampton,no,True', '0,3,male,43.0,0,0,8.05,S,Third,man,True,,Southampton,no,True', '1,1,female,,1,0,52.0,S,First,woman,False,C,Southampton,yes,False', '1,2,female,40.0,1,1,39.0,S,Second,woman,False,,Southampton,yes,False', '0,1,male,31.0,1,0,52.0,S,First,man,True,B,Southampton,no,False', '0,2,male,70.0,0,0,10.5,S,Second,man,True,,Southampton,no,True', '1,2,male,31.0,0,0,13.0,S,Second,man,True,,Southampton,yes,True', '0,2,male,,0,0,0.0,S,Second,man,True,,Southampton,no,True', '0,3,male,18.0,0,0,7.775,S,Third,man,True,,Southampton,no,True', '0,3,male,24.5,0,0,8.05,S,Third,man,True,,Southampton,no,True', '1,3,female,18.0,0,0,9.8417,S,Third,woman,False,,Southampton,yes,True', '0,3,female,43.0,1,6,46.9,S,Third,woman,False,,Southampton,no,False', '1,1,male,36.0,0,1,512.3292,C,First,man,True,B,Cherbourg,yes,False', '0,3,female,,0,0,8.1375,Q,Third,woman,False,,Queenstown,no,True', '1,1,male,27.0,0,0,76.7292,C,First,man,True,D,Cherbourg,yes,True', '0,3,male,20.0,0,0,9.225,S,Third,man,True,,Southampton,no,True', '0,3,male,14.0,5,2,46.9,S,Third,child,False,,Southampton,no,False', '0,2,male,60.0,1,1,39.0,S,Second,man,True,,Southampton,no,False', '0,2,male,25.0,1,2,41.5792,C,Second,man,True,,Cherbourg,no,False', '0,3,male,14.0,4,1,39.6875,S,Third,child,False,,Southampton,no,False', '0,3,male,19.0,0,0,10.1708,S,Third,man,True,,Southampton,no,True', '0,3,male,18.0,0,0,7.7958,S,Third,man,True,,Southampton,no,True', '1,1,female,15.0,0,1,211.3375,S,First,child,False,B,Southampton,yes,False', '1,1,male,31.0,1,0,57.0,S,First,man,True,B,Southampton,yes,False', '1,3,female,4.0,0,1,13.4167,C,Third,child,False,,Cherbourg,yes,False', '1,3,male,,0,0,56.4958,S,Third,man,True,,Southampton,yes,True', '0,3,male,25.0,0,0,7.225,C,Third,man,True,,Cherbourg,no,True', '0,1,male,60.0,0,0,26.55,S,First,man,True,,Southampton,no,True', '0,2,male,52.0,0,0,13.5,S,Second,man,True,,Southampton,no,True', '0,3,male,44.0,0,0,8.05,S,Third,man,True,,Southampton,no,True', '1,3,female,,0,0,7.7333,Q,Third,woman,False,,Queenstown,yes,True', '0,1,male,49.0,1,1,110.8833,C,First,man,True,C,Cherbourg,no,False', '0,3,male,42.0,0,0,7.65,S,Third,man,True,F,Southampton,no,True', '1,1,female,18.0,1,0,227.525,C,First,woman,False,C,Cherbourg,yes,False', '1,1,male,35.0,0,0,26.2875,S,First,man,True,E,Southampton,yes,True', '0,3,female,18.0,0,1,14.4542,C,Third,woman,False,,Cherbourg,no,False', '0,3,male,25.0,0,0,7.7417,Q,Third,man,True,,Queenstown,no,True', '0,3,male,26.0,1,0,7.8542,S,Third,man,True,,Southampton,no,False', '0,2,male,39.0,0,0,26.0,S,Second,man,True,,Southampton,no,True', '1,2,female,45.0,0,0,13.5,S,Second,woman,False,,Southampton,yes,True', '1,1,male,42.0,0,0,26.2875,S,First,man,True,E,Southampton,yes,True', '1,1,female,22.0,0,0,151.55,S,First,woman,False,,Southampton,yes,True', '1,3,male,,1,1,15.2458,C,Third,man,True,,Cherbourg,yes,False', '1,1,female,24.0,0,0,49.5042,C,First,woman,False,C,Cherbourg,yes,True', '0,1,male,,0,0,26.55,S,First,man,True,C,Southampton,no,True', '1,1,male,48.0,1,0,52.0,S,First,man,True,C,Southampton,yes,False', '0,3,male,29.0,0,0,9.4833,S,Third,man,True,,Southampton,no,True', '0,2,male,52.0,0,0,13.0,S,Second,man,True,,Southampton,no,True', '0,3,male,19.0,0,0,7.65,S,Third,man,True,F,Southampton,no,True', '1,1,female,38.0,0,0,227.525,C,First,woman,False,C,Cherbourg,yes,True', '1,2,female,27.0,0,0,10.5,S,Second,woman,False,E,Southampton,yes,True', '0,3,male,,0,0,15.5,Q,Third,man,True,,Queenstown,no,True', '0,3,male,33.0,0,0,7.775,S,Third,man,True,,Southampton,no,True', '1,2,female,6.0,0,1,33.0,S,Second,child,False,,Southampton,yes,False', '0,3,male,17.0,1,0,7.0542,S,Third,man,True,,Southampton,no,False', '0,2,male,34.0,0,0,13.0,S,Second,man,True,,Southampton,no,True', '0,2,male,50.0,0,0,13.0,S,Second,man,True,,Southampton,no,True', '1,1,male,27.0,1,0,53.1,S,First,man,True,E,Southampton,yes,False', '0,3,male,20.0,0,0,8.6625,S,Third,man,True,,Southampton,no,True', '1,2,female,30.0,3,0,21.0,S,Second,woman,False,,Southampton,yes,False', '1,3,female,,0,0,7.7375,Q,Third,woman,False,,Queenstown,yes,True', '0,2,male,25.0,1,0,26.0,S,Second,man,True,,Southampton,no,False', '0,3,female,25.0,1,0,7.925,S,Third,woman,False,,Southampton,no,False', '1,1,female,29.0,0,0,211.3375,S,First,woman,False,B,Southampton,yes,True', '0,3,male,11.0,0,0,18.7875,C,Third,child,False,,Cherbourg,no,True', '0,2,male,,0,0,0.0,S,Second,man,True,,Southampton,no,True', '0,2,male,23.0,0,0,13.0,S,Second,man,True,,Southampton,no,True', '0,2,male,23.0,0,0,13.0,S,Second,man,True,,Southampton,no,True', '0,3,male,28.5,0,0,16.1,S,Third,man,True,,Southampton,no,True', '0,3,female,48.0,1,3,34.375,S,Third,woman,False,,Southampton,no,False', '1,1,male,35.0,0,0,512.3292,C,First,man,True,B,Cherbourg,yes,True', '0,3,male,,0,0,7.8958,S,Third,man,True,,Southampton,no,True', '0,3,male,,0,0,7.8958,S,Third,man,True,,Southampton,no,True', '1,1,male,,0,0,30.0,S,First,man,True,D,Southampton,yes,True', '0,1,male,36.0,1,0,78.85,S,First,man,True,C,Southampton,no,False', '1,1,female,21.0,2,2,262.375,C,First,woman,False,B,Cherbourg,yes,False', '0,3,male,24.0,1,0,16.1,S,Third,man,True,,Southampton,no,False', '1,3,male,31.0,0,0,7.925,S,Third,man,True,,Southampton,yes,True', '0,1,male,70.0,1,1,71.0,S,First,man,True,B,Southampton,no,False', '0,3,male,16.0,1,1,20.25,S,Third,man,True,,Southampton,no,False', '1,2,female,30.0,0,0,13.0,S,Second,woman,False,,Southampton,yes,True', '0,1,male,19.0,1,0,53.1,S,First,man,True,D,Southampton,no,False', '0,3,male,31.0,0,0,7.75,Q,Third,man,True,,Queenstown,no,True', '1,2,female,4.0,1,1,23.0,S,Second,child,False,,Southampton,yes,False', '1,3,male,6.0,0,1,12.475,S,Third,child,False,E,Southampton,yes,False', '0,3,male,33.0,0,0,9.5,S,Third,man,True,,Southampton,no,True', '0,3,male,23.0,0,0,7.8958,S,Third,man,True,,Southampton,no,True', '1,2,female,48.0,1,2,65.0,S,Second,woman,False,,Southampton,yes,False', '1,2,male,0.67,1,1,14.5,S,Second,child,False,,Southampton,yes,False', '0,3,male,28.0,0,0,7.7958,S,Third,man,True,,Southampton,no,True', '0,2,male,18.0,0,0,11.5,S,Second,man,True,,Southampton,no,True', '0,3,male,34.0,0,0,8.05,S,Third,man,True,,Southampton,no,True', '1,1,female,33.0,0,0,86.5,S,First,woman,False,B,Southampton,yes,True', '0,3,male,,0,0,14.5,S,Third,man,True,,Southampton,no,True', '0,3,male,41.0,0,0,7.125,S,Third,man,True,,Southampton,no,True', '1,3,male,20.0,0,0,7.2292,C,Third,man,True,,Cherbourg,yes,True', '1,1,female,36.0,1,2,120.0,S,First,woman,False,B,Southampton,yes,False', '0,3,male,16.0,0,0,7.775,S,Third,man,True,,Southampton,no,True', '1,1,female,51.0,1,0,77.9583,S,First,woman,False,D,Southampton,yes,False', '0,1,male,,0,0,39.6,C,First,man,True,,Cherbourg,no,True', '0,3,female,30.5,0,0,7.75,Q,Third,woman,False,,Queenstown,no,True', '0,3,male,,1,0,24.15,Q,Third,man,True,,Queenstown,no,False', '0,3,male,32.0,0,0,8.3625,S,Third,man,True,,Southampton,no,True', '0,3,male,24.0,0,0,9.5,S,Third,man,True,,Southampton,no,True', '0,3,male,48.0,0,0,7.8542,S,Third,man,True,,Southampton,no,True', '0,2,female,57.0,0,0,10.5,S,Second,woman,False,E,Southampton,no,True', '0,3,male,,0,0,7.225,C,Third,man,True,,Cherbourg,no,True', '1,2,female,54.0,1,3,23.0,S,Second,woman,False,,Southampton,yes,False', '0,3,male,18.0,0,0,7.75,S,Third,man,True,,Southampton,no,True', '0,3,male,,0,0,7.75,Q,Third,man,True,F,Queenstown,no,True', '1,3,female,5.0,0,0,12.475,S,Third,child,False,,Southampton,yes,True', '0,3,male,,0,0,7.7375,Q,Third,man,True,,Queenstown,no,True', '1,1,female,43.0,0,1,211.3375,S,First,woman,False,B,Southampton,yes,False', '1,3,female,13.0,0,0,7.2292,C,Third,child,False,,Cherbourg,yes,True', '1,1,female,17.0,1,0,57.0,S,First,woman,False,B,Southampton,yes,False', '0,1,male,29.0,0,0,30.0,S,First,man,True,D,Southampton,no,True', '0,3,male,,1,2,23.45,S,Third,man,True,,Southampton,no,False', '0,3,male,25.0,0,0,7.05,S,Third,man,True,,Southampton,no,True', '0,3,male,25.0,0,0,7.25,S,Third,man,True,,Southampton,no,True', '1,3,female,18.0,0,0,7.4958,S,Third,woman,False,,Southampton,yes,True', '0,3,male,8.0,4,1,29.125,Q,Third,child,False,,Queenstown,no,False', '1,3,male,1.0,1,2,20.575,S,Third,child,False,,Southampton,yes,False', '0,1,male,46.0,0,0,79.2,C,First,man,True,B,Cherbourg,no,True', '0,3,male,,0,0,7.75,Q,Third,man,True,,Queenstown,no,True', '0,2,male,16.0,0,0,26.0,S,Second,man,True,,Southampton,no,True', '0,3,female,,8,2,69.55,S,Third,woman,False,,Southampton,no,False', '0,1,male,,0,0,30.6958,C,First,man,True,,Cherbourg,no,True', '0,3,male,25.0,0,0,7.8958,S,Third,man,True,,Southampton,no,True', '0,2,male,39.0,0,0,13.0,S,Second,man,True,,Southampton,no,True', '1,1,female,49.0,0,0,25.9292,S,First,woman,False,D,Southampton,yes,True', '1,3,female,31.0,0,0,8.6833,S,Third,woman,False,,Southampton,yes,True', '0,3,male,30.0,0,0,7.2292,C,Third,man,True,,Cherbourg,no,True', '0,3,female,30.0,1,1,24.15,S,Third,woman,False,,Southampton,no,False', '0,2,male,34.0,0,0,13.0,S,Second,man,True,,Southampton,no,True', '1,2,female,31.0,1,1,26.25,S,Second,woman,False,,Southampton,yes,False', '1,1,male,11.0,1,2,120.0,S,First,child,False,B,Southampton,yes,False', '1,3,male,0.42,0,1,8.5167,C,Third,child,False,,Cherbourg,yes,False', '1,3,male,27.0,0,0,6.975,S,Third,man,True,,Southampton,yes,True', '0,3,male,31.0,0,0,7.775,S,Third,man,True,,Southampton,no,True', '0,1,male,39.0,0,0,0.0,S,First,man,True,A,Southampton,no,True', '0,3,female,18.0,0,0,7.775,S,Third,woman,False,,Southampton,no,True', '0,2,male,39.0,0,0,13.0,S,Second,man,True,,Southampton,no,True', '1,1,female,33.0,1,0,53.1,S,First,woman,False,E,Southampton,yes,False', '0,3,male,26.0,0,0,7.8875,S,Third,man,True,,Southampton,no,True', '0,3,male,39.0,0,0,24.15,S,Third,man,True,,Southampton,no,True', '0,2,male,35.0,0,0,10.5,S,Second,man,True,,Southampton,no,True', '0,3,female,6.0,4,2,31.275,S,Third,child,False,,Southampton,no,False', '0,3,male,30.5,0,0,8.05,S,Third,man,True,,Southampton,no,True', '0,1,male,,0,0,0.0,S,First,man,True,B,Southampton,no,True', '0,3,female,23.0,0,0,7.925,S,Third,woman,False,,Southampton,no,True', '0,2,male,31.0,1,1,37.0042,C,Second,man,True,,Cherbourg,no,False', '0,3,male,43.0,0,0,6.45,S,Third,man,True,,Southampton,no,True', '0,3,male,10.0,3,2,27.9,S,Third,child,False,,Southampton,no,False', '1,1,female,52.0,1,1,93.5,S,First,woman,False,B,Southampton,yes,False', '1,3,male,27.0,0,0,8.6625,S,Third,man,True,,Southampton,yes,True', '0,1,male,38.0,0,0,0.0,S,First,man,True,,Southampton,no,True', '1,3,female,27.0,0,1,12.475,S,Third,woman,False,E,Southampton,yes,False', '0,3,male,2.0,4,1,39.6875,S,Third,child,False,,Southampton,no,False', '0,3,male,,0,0,6.95,Q,Third,man,True,,Queenstown,no,True', '0,3,male,,0,0,56.4958,S,Third,man,True,,Southampton,no,True', '1,2,male,1.0,0,2,37.0042,C,Second,child,False,,Cherbourg,yes,False', '1,3,male,,0,0,7.75,Q,Third,man,True,,Queenstown,yes,True', '1,1,female,62.0,0,0,80.0,,First,woman,False,B,,yes,True', '1,3,female,15.0,1,0,14.4542,C,Third,child,False,,Cherbourg,yes,False', '1,2,male,0.83,1,1,18.75,S,Second,child,False,,Southampton,yes,False', '0,3,male,,0,0,7.2292,C,Third,man,True,,Cherbourg,no,True', '0,3,male,23.0,0,0,7.8542,S,Third,man,True,,Southampton,no,True', '0,3,male,18.0,0,0,8.3,S,Third,man,True,,Southampton,no,True', '1,1,female,39.0,1,1,83.1583,C,First,woman,False,E,Cherbourg,yes,False', '0,3,male,21.0,0,0,8.6625,S,Third,man,True,,Southampton,no,True', '0,3,male,,0,0,8.05,S,Third,man,True,,Southampton,no,True', '1,3,male,32.0,0,0,56.4958,S,Third,man,True,,Southampton,yes,True', '1,1,male,,0,0,29.7,C,First,man,True,C,Cherbourg,yes,True', '0,3,male,20.0,0,0,7.925,S,Third,man,True,,Southampton,no,True', '0,2,male,16.0,0,0,10.5,S,Second,man,True,,Southampton,no,True', '1,1,female,30.0,0,0,31.0,C,First,woman,False,,Cherbourg,yes,True', '0,3,male,34.5,0,0,6.4375,C,Third,man,True,,Cherbourg,no,True', '0,3,male,17.0,0,0,8.6625,S,Third,man,True,,Southampton,no,True', '0,3,male,42.0,0,0,7.55,S,Third,man,True,,Southampton,no,True', '0,3,male,,8,2,69.55,S,Third,man,True,,Southampton,no,False', '0,3,male,35.0,0,0,7.8958,C,Third,man,True,,Cherbourg,no,True', '0,2,male,28.0,0,1,33.0,S,Second,man,True,,Southampton,no,False', '1,1,female,,1,0,89.1042,C,First,woman,False,C,Cherbourg,yes,False', '0,3,male,4.0,4,2,31.275,S,Third,child,False,,Southampton,no,False', '0,3,male,74.0,0,0,7.775,S,Third,man,True,,Southampton,no,True', '0,3,female,9.0,1,1,15.2458,C,Third,child,False,,Cherbourg,no,False', '1,1,female,16.0,0,1,39.4,S,First,woman,False,D,Southampton,yes,False', '0,2,female,44.0,1,0,26.0,S,Second,woman,False,,Southampton,no,False', '1,3,female,18.0,0,1,9.35,S,Third,woman,False,,Southampton,yes,False', '1,1,female,45.0,1,1,164.8667,S,First,woman,False,,Southampton,yes,False', '1,1,male,51.0,0,0,26.55,S,First,man,True,E,Southampton,yes,True', '1,3,female,24.0,0,3,19.2583,C,Third,woman,False,,Cherbourg,yes,False', '0,3,male,,0,0,7.2292,C,Third,man,True,,Cherbourg,no,True', '0,3,male,41.0,2,0,14.1083,S,Third,man,True,,Southampton,no,False', '0,2,male,21.0,1,0,11.5,S,Second,man,True,,Southampton,no,False', '1,1,female,48.0,0,0,25.9292,S,First,woman,False,D,Southampton,yes,True', '0,3,female,,8,2,69.55,S,Third,woman,False,,Southampton,no,False', '0,2,male,24.0,0,0,13.0,S,Second,man,True,,Southampton,no,True', '1,2,female,42.0,0,0,13.0,S,Second,woman,False,,Southampton,yes,True', '1,2,female,27.0,1,0,13.8583,C,Second,woman,False,,Cherbourg,yes,False', '0,1,male,31.0,0,0,50.4958,S,First,man,True,A,Southampton,no,True', '0,3,male,,0,0,9.5,S,Third,man,True,,Southampton,no,True', '1,3,male,4.0,1,1,11.1333,S,Third,child,False,,Southampton,yes,False', '0,3,male,26.0,0,0,7.8958,S,Third,man,True,,Southampton,no,True', '1,1,female,47.0,1,1,52.5542,S,First,woman,False,D,Southampton,yes,False', '0,1,male,33.0,0,0,5.0,S,First,man,True,B,Southampton,no,True', '0,3,male,47.0,0,0,9.0,S,Third,man,True,,Southampton,no,True', '1,2,female,28.0,1,0,24.0,C,Second,woman,False,,Cherbourg,yes,False', '1,3,female,15.0,0,0,7.225,C,Third,child,False,,Cherbourg,yes,True', '0,3,male,20.0,0,0,9.8458,S,Third,man,True,,Southampton,no,True', '0,3,male,19.0,0,0,7.8958,S,Third,man,True,,Southampton,no,True', '0,3,male,,0,0,7.8958,S,Third,man,True,,Southampton,no,True', '1,1,female,56.0,0,1,83.1583,C,First,woman,False,C,Cherbourg,yes,False', '1,2,female,25.0,0,1,26.0,S,Second,woman,False,,Southampton,yes,False', '0,3,male,33.0,0,0,7.8958,S,Third,man,True,,Southampton,no,True', '0,3,female,22.0,0,0,10.5167,S,Third,woman,False,,Southampton,no,True', '0,2,male,28.0,0,0,10.5,S,Second,man,True,,Southampton,no,True', '0,3,male,25.0,0,0,7.05,S,Third,man,True,,Southampton,no,True', '0,3,female,39.0,0,5,29.125,Q,Third,woman,False,,Queenstown,no,False', '0,2,male,27.0,0,0,13.0,S,Second,man,True,,Southampton,no,True', '1,1,female,19.0,0,0,30.0,S,First,woman,False,B,Southampton,yes,True', '0,3,female,,1,2,23.45,S,Third,woman,False,,Southampton,no,False', '1,1,male,26.0,0,0,30.0,C,First,man,True,C,Cherbourg,yes,True', '0,3,male,32.0,0,0,7.75,Q,Third,man,True,,Queenstown,no,True'] \n",
      "\n"
     ]
    }
   ],
   "source": [
    "print(r.collect(), \"\\n\")"
   ]
  },
  {
   "cell_type": "code",
   "execution_count": 13,
   "metadata": {},
   "outputs": [
    {
     "name": "stdout",
     "output_type": "stream",
     "text": [
      "<class 'list'>\n"
     ]
    },
    {
     "data": {
      "text/plain": [
       "[1, 2, 3, 4, 5, 6]"
      ]
     },
     "execution_count": 13,
     "metadata": {},
     "output_type": "execute_result"
    }
   ],
   "source": [
    "#Acciones (se ejecutan inmediatamente en todo el cluster) son operaciones que realizan un procesamiento\n",
    "#sobre todo un RDD y devuelve un valor, dejando el RDD original en el mismo estado (es inmutable).\n",
    "#El valor generado se envía al proceso driver\n",
    "#Un RDD puede almacenar gigabytes, terabytes e incluso petabytes de datos de manera distribuida pero el valor generado\n",
    "#por las acciones se regresará al proceso driver. En este caso, tomar en cuenta la memoria del proceso driver\n",
    "#las acciones se ejecutan de manera inmediata a diferencia de las transformaciones.\n",
    "#Método collect : recorre el RDD y devuelve una lista. RDDs pequeños\n",
    "r = sc.parallelize([1,2,3,4,5,6])\n",
    "print( type(r.collect()) )\n",
    "r.collect()\n",
    "#se generaron 6 elementos en el cluster, collect busca los elementos en el cluster\n",
    "#y devuelve la información al proceso driver"
   ]
  },
  {
   "cell_type": "code",
   "execution_count": 14,
   "metadata": {},
   "outputs": [
    {
     "data": {
      "text/plain": [
       "[0, 1, 2, 3, 4, 5, 6, 7, 8, 9]"
      ]
     },
     "execution_count": 14,
     "metadata": {},
     "output_type": "execute_result"
    }
   ],
   "source": [
    "#Para muchos elementos en el cluster se utiliza take que devuelve los primeros elementos encontrados al driver, \n",
    "#no muestra todos\n",
    "r = sc.parallelize(range(1000))\n",
    "r.take(10)"
   ]
  },
  {
   "cell_type": "code",
   "execution_count": 15,
   "metadata": {},
   "outputs": [
    {
     "data": {
      "text/plain": [
       "1000"
      ]
     },
     "execution_count": 15,
     "metadata": {},
     "output_type": "execute_result"
    }
   ],
   "source": [
    "#Cuenta los elementos del RDD\n",
    "r.count()"
   ]
  },
  {
   "cell_type": "markdown",
   "metadata": {},
   "source": [
    "Una de las acciones más útiles sobre RDDs es: **reduce** permite recorrer todos los valores de un RDD y calcular un valor en relación con ellos, reduce un RDD a un único valor. \n",
    "\n",
    "Dado un RDD con elementos de tipo T, la funci´no de reducción es una función binaria que acepta dos elementos de tipo T y devuelve un valor del mismo tipo T, es decir, tiene tipo T x T -> T. \n",
    "\n",
    "reduce(f) es un método que aplica la función de reducción f a los 2 primeros elementos, luego aplica de nuevo la función f al valor resultante y al tercer elemento, y así sucesivamente hasta que procesa el último elemento y produce el valor final. \n",
    "\n",
    "Ejemplo: se muestra el proceso para calcular la suma de un RDD de 6 elementos enteros.\n",
    "\n",
    "![accion-reduce.png](img/accion-reduce.png)"
   ]
  },
  {
   "cell_type": "code",
   "execution_count": 16,
   "metadata": {},
   "outputs": [
    {
     "data": {
      "text/plain": [
       "15"
      ]
     },
     "execution_count": 16,
     "metadata": {},
     "output_type": "execute_result"
    }
   ],
   "source": [
    "#Para crear un RDD con los números del 1 al 5 y calcular su suma, definiriamos una función de reducción\n",
    "#add e invocaríamos a reduce como sigue:\n",
    "def add(x, y):\n",
    "    return x + y\n",
    "\n",
    "#llamado a reduce\n",
    "r = sc.parallelize(range(1, 6))\n",
    "r.reduce(add)\n"
   ]
  },
  {
   "cell_type": "code",
   "execution_count": 17,
   "metadata": {},
   "outputs": [
    {
     "data": {
      "text/plain": [
       "15"
      ]
     },
     "execution_count": 17,
     "metadata": {},
     "output_type": "execute_result"
    }
   ],
   "source": [
    "#Utilizando una función anónima o lambda\n",
    "r = sc.parallelize(range(1,6))\n",
    "r.reduce(lambda x, y: x + y)"
   ]
  },
  {
   "cell_type": "code",
   "execution_count": 18,
   "metadata": {},
   "outputs": [
    {
     "data": {
      "text/plain": [
       "[999, 998, 997, 996, 995, 994, 993, 992, 991, 990]"
      ]
     },
     "execution_count": 18,
     "metadata": {},
     "output_type": "execute_result"
    }
   ],
   "source": [
    "#Método takeOrdered, take()\n",
    "r = sc.parallelize(range(1000))\n",
    "r.takeOrdered(10, lambda x : -x)"
   ]
  },
  {
   "cell_type": "code",
   "execution_count": 19,
   "metadata": {},
   "outputs": [
    {
     "data": {
      "text/plain": [
       "[432, 36, 394, 592, 443, 818, 17, 496, 209, 743]"
      ]
     },
     "execution_count": 19,
     "metadata": {},
     "output_type": "execute_result"
    }
   ],
   "source": [
    "r = sc.parallelize(range(1000))\n",
    "r.takeSample(False, 10)"
   ]
  },
  {
   "cell_type": "code",
   "execution_count": 20,
   "metadata": {},
   "outputs": [
    {
     "data": {
      "text/plain": [
       "16"
      ]
     },
     "execution_count": 20,
     "metadata": {},
     "output_type": "execute_result"
    }
   ],
   "source": [
    "def multiply_positive(x, y):\n",
    "    if x > 0 and y > 0:\n",
    "        return x*y\n",
    "    elif x > 0:\n",
    "        return x\n",
    "    elif y > 0:\n",
    "        return y\n",
    "    else:\n",
    "        return 1\n",
    "    \n",
    "r = sc.parallelize([-1, 2, 1, -5, 8])\n",
    "r.reduce(multiply_positive)"
   ]
  },
  {
   "cell_type": "markdown",
   "metadata": {},
   "source": [
    "### Reduce\n",
    "\n",
    "Se requiere que la función sea conmutatuva y asociativa para los dos valores cualquiera x, y, f(x, y) = f(y,x) y para una triada : x,y,z, f(x,f(y,z) ) = f(f(x,y),z).\n",
    "\n",
    "Ejemplos de funciones conmutatuvas y asociativas son la suma, la multiplicación, el mínimo o el máximo. La resta o la divisón no son conmutativas ni asociativas (no se pueden reducir).\n",
    "\n",
    "* MapReduce requiere de acciones como la replicación, serialización y E/S de almacenamiento para poder ejecutar las operaciones solicitadas\n",
    "* Éstas últimas son las que más requiere el sistema de archivos de Hadoop.\n",
    "* Cualquier operación de MapReduce requiere del almacenamiento.\n",
    "\n",
    "reduce es una Acción en el EDD.\n",
    "\n",
    "**Acciones:** collect(), count(), take(x), takeOrdered(x,y), takeSample(x,y), countByKey(), foreach(funcion())"
   ]
  },
  {
   "cell_type": "code",
   "execution_count": 21,
   "metadata": {},
   "outputs": [
    {
     "data": {
      "text/plain": [
       "-3"
      ]
     },
     "execution_count": 21,
     "metadata": {},
     "output_type": "execute_result"
    }
   ],
   "source": [
    "#Ejemplo\n",
    "r = sc.parallelize(range(3), 1) #una partición (0, 1, 2)\n",
    "r.reduce(lambda x,y: x-y)\n",
    "#(0-1) - 2 "
   ]
  },
  {
   "cell_type": "code",
   "execution_count": 23,
   "metadata": {},
   "outputs": [
    {
     "data": {
      "text/plain": [
       "1"
      ]
     },
     "execution_count": 23,
     "metadata": {},
     "output_type": "execute_result"
    }
   ],
   "source": [
    "r = sc.parallelize(range(3), 2) #Dos particiones {0} y {1, 2}\n",
    "r.reduce(lambda x,y: x-y)\n",
    "# (0) y (1 -2)\n",
    "#  0      -1\n",
    "#  0  - ( -1 )"
   ]
  },
  {
   "cell_type": "code",
   "execution_count": 24,
   "metadata": {},
   "outputs": [
    {
     "data": {
      "text/plain": [
       "2"
      ]
     },
     "execution_count": 24,
     "metadata": {},
     "output_type": "execute_result"
    }
   ],
   "source": [
    "#Manejo de cadenas. Utilización del método aggregate.\n",
    "#Tres parametros: \n",
    "#   1) Un valor inicial para el acumulador, zeroValue que tendrá tipo C\n",
    "#   2) una función seqop para combinar elementos de nuestro RDD (de tipo T)\n",
    "#      con el acumulador de tipo C, devolviendo un valor de tipo C (C x T -> C).\n",
    "#   3) Una función combOp para combinar dos acumuladores de tipo C y devolver un valor de tipo C.\n",
    "#Cuenta las h en el RDD\n",
    "r = sc.parallelize([\"hola\", \"hi\", \"ciao\"])\n",
    "#          (int, cuenta las \"h\", suma los acumuladores)  => (valor_inicial, map, reduce)\n",
    "r.aggregate(0, lambda c, s : c + s.count(\"h\"), lambda c1, c2: c1 + c2)\n",
    "#(h, 1)\n",
    "#(h, 1)\n",
    "#(h, 0)"
   ]
  },
  {
   "cell_type": "code",
   "execution_count": 25,
   "metadata": {},
   "outputs": [],
   "source": [
    "#Para trabajo de archivos en HDP. Consultar clase pyspark.RDD\n",
    "#saveAsSequienceFile, saveAsNewAPIHadoopDataset o saveAsNewAPIHadoopFile\n",
    "r = sc.parallelize(range(1000), 2)\n",
    "r.saveAsTextFile(\"C:\\\\Users\\\\jmas_\\\\Jupyter\\\\numeros\")\n",
    "#Crea una carpeta con los archivos resultantes del RDD. El RDD se particionará en varios prcesos executor, al convertir\n",
    "#un RDD a texto cada partición generará un archivo diferente.\n",
    "#Cada archivo_ part-XXXXX (XXXXX numeración correlativa)\n",
    "#Además se genera un archivo _SUCCESSS que indica que el proceso de grabación fue exitosa."
   ]
  },
  {
   "cell_type": "markdown",
   "metadata": {},
   "source": [
    "### Transformaciones\n",
    "\n",
    "Son operaciones sobre los RDD complementarias a las acciones. Se caracterizan por tomar un RDD de origen y generar otro RDD como resultado. El RDD resultante puede almacenar datos del mismo tipo. Generalmente diferente tipo del origen.\n",
    "\n",
    "Una caracteristica imporante: al ejecutar una transofrmación, ésta no realizará ningún procesamiento real con el RDD, sólo \"anotará\" los datos de la transformación para ejecutarla en el futuro. Esto se debe a que Spark agrupa varias transformaciones y luego las ejecuta de manera agrupada, a esto se le conoce como etapa (stage), Las acciones \"son el disparo\" de la ejecución de las transformaciones pero sólo al punto de devolver una respuesta a la acción."
   ]
  },
  {
   "cell_type": "code",
   "execution_count": null,
   "metadata": {},
   "outputs": [],
   "source": [
    "#Transformacion map\n",
    "#Permite aplicar una funcion elemento a elemento en un RDD\n",
    "#RDD con elementos tipo T y una función f que acepta elementos T y produce valores tipo V, la transformación\n",
    "#map(f) generará un RDD de elementos tipo V\n",
    "r = sc.parallelize([1,2,3,4])"
   ]
  }
 ],
 "metadata": {
  "kernelspec": {
   "display_name": "Python 3",
   "language": "python",
   "name": "python3"
  },
  "language_info": {
   "codemirror_mode": {
    "name": "ipython",
    "version": 3
   },
   "file_extension": ".py",
   "mimetype": "text/x-python",
   "name": "python",
   "nbconvert_exporter": "python",
   "pygments_lexer": "ipython3",
   "version": "3.8.5"
  }
 },
 "nbformat": 4,
 "nbformat_minor": 4
}
