{
 "cells": [
  {
   "cell_type": "markdown",
   "metadata": {},
   "source": [
    "# Twitter API\n",
    "\n",
    "Sólo con cuenta de desarrollador API's que provee Twitter:\n",
    "\n",
    "* Tweets : buscar, publicar, filtrar, transmitir, etc.\n",
    "* Ads : análisis de audiencia\n",
    "* DM : enviar y recibir, respuesta directa, mensajes de bienvenida, etc. (aún en prueba)\n",
    "* Cuentas y usuarios : administración de cuentas e interacciones con usuarios\n",
    "* Media : acceder y subir a la plataforma fotos, videos, gif's\n",
    "* Trends : trending topics dada una localización\n",
    "* Geo : información de lugares cerca de una localización\n",
    "\n",
    "Librerías de Python para trabajar con la API de Twitter\n",
    "\n",
    "* Tweepy (la más recomendada y utilizada)\n",
    "* Python Twitter Tools\n",
    "* Twython\n",
    "* TwitterAPI\n",
    "* TwitterSearch"
   ]
  },
  {
   "cell_type": "markdown",
   "metadata": {},
   "source": [
    "## Recolección por medio de APIs\n",
    "\n",
    "**API** (Aplication Programming Interface) es una biblioteca, un conjunto de funciones que ofrece una cierta aplicación para ser accesada por otra.\n",
    "\n",
    "API Twiiter: tweepy Modo streaming\n",
    "\n",
    "API REST (Representational State Transfer, transferencia de estado representacional) es un método sencillo para recibir y enviar datos en cualquier formato, XML, JSON. Para ello se utilizan funciones POST, GET, PUT, DELETE.\n",
    "\n",
    "## RESTful API Cuenta de desarrollador de Twitter\n",
    "\n",
    "Necesitamos:\n",
    "\n",
    "Crear una APP en twitter, en la cual se generan las siguientes llaves: consumer key API-KEY consumer seceret key API-KEY Secret access token key access token secret key Instalar las librerías para trabajar con twitter desde python: tweepy\n",
    "\n",
    "#conda install -c conda-forge tweepy"
   ]
  },
  {
   "cell_type": "code",
   "execution_count": 1,
   "metadata": {},
   "outputs": [],
   "source": [
    "import os \n",
    "import pandas as pd\n",
    "import tweepy as tw"
   ]
  },
  {
   "cell_type": "code",
   "execution_count": 1,
   "metadata": {},
   "outputs": [
    {
     "data": {
      "text/plain": [
       "'\\nconsumer_key = \"\"\\nconsumer_secret = \"\"\\naccess_token = \"\"\\naccess_token_secret = \"\"\\n'"
      ]
     },
     "execution_count": 1,
     "metadata": {},
     "output_type": "execute_result"
    }
   ],
   "source": [
    "#Crear un app, ir a Keys and Access Tokens (copiar)\n",
    "#Click en \"Create y accese Token Secret\" (copiar)\n",
    "#Credentials\n",
    "\"\"\"\n",
    "consumer_key = \"\"\n",
    "consumer_secret = \"\"\n",
    "access_token = \"\"\n",
    "access_token_secret = \"\"\n",
    "\"\"\"\n",
    "#import json\n",
    "#creds = ()\n",
    "#creds[\"CONSUMER_KEY\"] = \"\"\n",
    "#creds[\"CONSUMER_SECRET\"] = \"\"\n",
    "#creds[\"ACCESS_TOKEN\"] = \"\"\n",
    "#creds[\"ACCESS_TOKN_SECRET\"] = \"\"\n",
    "#with open(\"twitter_creds.json\", \"w\") as arch:\n",
    "#   json.dump(creds, arch)"
   ]
  },
  {
   "cell_type": "code",
   "execution_count": 2,
   "metadata": {},
   "outputs": [
    {
     "data": {
      "text/plain": [
       "'\\nauth = tw.OAuthHandler(consumer_key, consumer_secret) #objeto\\nauth.set_access_token(access_token, access_token_secret) #credenciales para utilizar la API, en\\napi = tw.API(auth, wait_on_rate_limite = True)\\n'"
      ]
     },
     "execution_count": 2,
     "metadata": {},
     "output_type": "execute_result"
    }
   ],
   "source": [
    "#se crea un objeto de la clase OAuthHandler para poder utilizar la API con python\n",
    "\"\"\"\n",
    "auth = tw.OAuthHandler(consumer_key, consumer_secret) #objeto\n",
    "auth.set_access_token(access_token, access_token_secret) #credenciales para utilizar la API, en\n",
    "api = tw.API(auth, wait_on_rate_limite = True)\n",
    "\"\"\"\n",
    "#objeto de la clase API, que nos permitirá realizar las consultas"
   ]
  },
  {
   "cell_type": "code",
   "execution_count": null,
   "metadata": {},
   "outputs": [],
   "source": [
    "#Ejemplo: dos variables de búsqueda\n",
    "\"\"\"\n",
    "search_words = \"#wildfires\" #<- busqueda con este hashtag\n",
    "date_dince = \"2018-11-16\"\n",
    "\"\"\""
   ]
  },
  {
   "cell_type": "code",
   "execution_count": null,
   "metadata": {},
   "outputs": [],
   "source": [
    "#Colecta los tweets según nuestras variables\n",
    "#Buscamos search_words, los tweets en inglés, desde la fecha date_since, se restringe la busqueda\n",
    "#Se utiliza el método Cursor para obtener los tweets que contengan la busqueda en este caso #wildfire\n",
    "\"\"\"\n",
    "tweets = tw.Cursor(api.search, q = search_words, lang = \"en\", since = date_since).items(5)\n",
    "\"\"\"\n",
    "#Cursor también devuelve información de quien escribe el tweet y la fecha además del texto del\n",
    "\"\"\"\n",
    "tweets\n",
    "\"\"\""
   ]
  },
  {
   "cell_type": "code",
   "execution_count": null,
   "metadata": {},
   "outputs": [],
   "source": [
    "#Despliega los twets\n",
    "\"\"\"\n",
    "for tweet in tweets:\n",
    "    print(tweet.text)\n",
    "\"\"\"\n",
    "#Otra manera"
   ]
  }
 ],
 "metadata": {
  "kernelspec": {
   "display_name": "Python 3",
   "language": "python",
   "name": "python3"
  },
  "language_info": {
   "codemirror_mode": {
    "name": "ipython",
    "version": 3
   },
   "file_extension": ".py",
   "mimetype": "text/x-python",
   "name": "python",
   "nbconvert_exporter": "python",
   "pygments_lexer": "ipython3",
   "version": "3.8.5"
  }
 },
 "nbformat": 4,
 "nbformat_minor": 4
}
