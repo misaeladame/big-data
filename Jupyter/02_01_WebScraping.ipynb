{
 "cells": [
  {
   "cell_type": "markdown",
   "metadata": {},
   "source": [
    "# Web Scraping\n",
    "\n",
    "Web scraping Blogs, foros, sitios oficiales de datos, etc. Función de recopilar esa información: comparación de precios, análisis de opinión sobre productos/servicios, chatbots, etc. No hay tenemos límite en cuanto creatividad de trabajar con la información. Existen sitios donde tienen derechos de autor, habrá que tener cuidado. Hay más sitios que tienen un concepto datos libres: cada vez más organizaciones tienen secciones de datos (csv, bd, xslx, json)\n",
    "\n",
    "Hay 3 formatos: Fuentes de información:\n",
    "\n",
    "* Paginas web pueden incluir: csv, json, xml, etc.\n",
    "* API-REST json, xml\n",
    "* Páginas que contienen la información en formato \"humano\": python tiene varias librerias:\n",
    "    1. Acceder por medio de una URL, descarga inforamción y luego podemos utlizar desde python un paquete: **BeautifulSoup**\n",
    "    2. Si requiere realizar un proceso en la información (extra) entonces se utiliza un paquete: **Selenium** (permite desde python hacer todo como si estuvieramos en el navegador)\n",
    "    3. Python: **requests**\n",
    "    \n",
    "Resumiendo: \n",
    "\n",
    "* Archivos incluidos en la página web : requests, csv, json, etc. \n",
    "* API-REST : Requests \n",
    "* Datos incrustados en la página web (incluidos): BeautifilSoup \n",
    "* Datos que requieren de proceso/interacción: Selenium.\n",
    "\n",
    "Archivos incluidos en la página web: URI, IRL, URN\n",
    "\n",
    "**URI (Uniform Resource Identifier):** cadena de caracteres que identifica un recurso. \n",
    "\n",
    "Sintaxis general: schema:[//[user[:passwd]@host[:port]][/path][?query][#tag]]\n",
    "\n",
    "* https://es.wikipedia.org/wiki/Pandemia_de_COVID-19\n",
    "* https://es.wikipedia.org/wiki/Pandemia_de_COVID-19#Am%C3%A9rica\n",
    "* https://www.youtube.com/watch?V=183IwSzCgV4\n",
    "\n",
    "URI se divide en dos partes: URL y URN\n",
    "\n",
    "* URL (uniform resource lcoator) direcciones en la www\n",
    "    * ftp://teclaguna.edu.mx\n",
    "* URN (Uniform Resource Name)\n",
    "    * urn:isbn:0451450523\n",
    "\n",
    "\n"
   ]
  },
  {
   "cell_type": "code",
   "execution_count": 12,
   "metadata": {},
   "outputs": [
    {
     "name": "stdout",
     "output_type": "stream",
     "text": [
      "<Response [200]>\n"
     ]
    }
   ],
   "source": [
    "#Archivos incluidos en la página web\n",
    "import requests\n",
    "url = \"http://www.gutenberg.org/ebooks/1112.txt.utf-8\"\n",
    "resp = requests.get(url)\n",
    "print(resp) #https://www.w3.org/Protocols/rfc2616/rfc2616-sec10.html"
   ]
  },
  {
   "cell_type": "code",
   "execution_count": 13,
   "metadata": {},
   "outputs": [],
   "source": [
    "path = \"C:\\\\Users\\\\jmas_\\\\Jupyter\\\\Datasets\\\\\"\n",
    "with open(path + \"ryj.text\", \"wb\") as arch:\n",
    "    arch.write(resp.content)"
   ]
  },
  {
   "cell_type": "code",
   "execution_count": 14,
   "metadata": {},
   "outputs": [
    {
     "name": "stdout",
     "output_type": "stream",
     "text": [
      "29174\n"
     ]
    }
   ],
   "source": [
    "import urllib.request\n",
    "signos = \",*./#[] \"\n",
    "cuenta = 0\n",
    "pal = [] #Lista\n",
    "with urllib.request.urlopen(\"http://www.gutenberg.org/ebooks/1112.txt.utf-8\") as info:\n",
    "    for linea in info.readlines():\n",
    "        limpia = linea.decode(\"utf-8\").lower()\n",
    "        for s in signos:\n",
    "            limpia = limpia.replace(s, \" \") #Gracias Octavio!!!\n",
    "            #cuenta = cuenta + 1\n",
    "        #extend append en la lista\n",
    "        pal.extend(limpia.split())\n",
    "#print(cuenta)\n",
    "print(len(pal))\n",
    "#print(pal)"
   ]
  },
  {
   "cell_type": "code",
   "execution_count": 15,
   "metadata": {},
   "outputs": [
    {
     "data": {
      "text/plain": [
       "'TheProjectGutenbergEBookofRomeoandJulietbyWilliamShakespeare'"
      ]
     },
     "execution_count": 15,
     "metadata": {},
     "output_type": "execute_result"
    }
   ],
   "source": [
    "tabla = str.maketrans({letra: None for letra in \",*./#[] \"})\n",
    "\"The Project Gutenberg EBook of Romeo and Juliet, by William Shakespeare\".translate(tabla)"
   ]
  },
  {
   "cell_type": "code",
   "execution_count": 16,
   "metadata": {},
   "outputs": [],
   "source": [
    "#Otra manera: expresiones regulares\n",
    "apellido = (\"capulet\", \"montague\")\n",
    "nombres = (\"romeo\", \"juliet\", \"tybalt\", \"mercutio\")"
   ]
  },
  {
   "cell_type": "code",
   "execution_count": 17,
   "metadata": {},
   "outputs": [],
   "source": [
    "ap = {a: pal.count(a) for a in apellido}\n",
    "no = {n: pal.count(n) for n in nombres}"
   ]
  },
  {
   "cell_type": "code",
   "execution_count": 18,
   "metadata": {},
   "outputs": [
    {
     "name": "stdout",
     "output_type": "stream",
     "text": [
      "{'capulet': 29, 'montague': 26}\n",
      "{'romeo': 111, 'juliet': 56, 'tybalt': 47, 'mercutio': 19}\n"
     ]
    }
   ],
   "source": [
    "print(ap)\n",
    "print(no)"
   ]
  },
  {
   "cell_type": "code",
   "execution_count": 19,
   "metadata": {},
   "outputs": [
    {
     "data": {
      "text/plain": [
       "dict_values([29, 26])"
      ]
     },
     "execution_count": 19,
     "metadata": {},
     "output_type": "execute_result"
    }
   ],
   "source": [
    "ap.values()"
   ]
  },
  {
   "cell_type": "code",
   "execution_count": 35,
   "metadata": {},
   "outputs": [],
   "source": [
    "#Ahora a graficar :) \n",
    "import matplotlib.pyplot as plt"
   ]
  },
  {
   "cell_type": "code",
   "execution_count": 36,
   "metadata": {},
   "outputs": [
    {
     "data": {
      "text/plain": [
       "Text(0.5, 1.0, 'Frecuencia de familias rivales')"
      ]
     },
     "execution_count": 36,
     "metadata": {},
     "output_type": "execute_result"
    },
    {
     "data": {
      "text/plain": [
       "<Figure size 576x396 with 0 Axes>"
      ]
     },
     "metadata": {},
     "output_type": "display_data"
    },
    {
     "data": {
      "image/png": "[encoded data removed]",
      "text/plain": [
       "<Figure size 576x396 with 2 Axes>"
      ]
     },
     "metadata": {},
     "output_type": "display_data"
    }
   ],
   "source": [
    "#estilo\n",
    "plt.style.use(\"seaborn\")\n",
    "#Crear una figura\n",
    "fig = plt.figure()\n",
    "fig, axes = plt.subplots(1, 2, sharey = True)\n",
    "fig.suptitle(\".:: Romeo y Julieta ::.\")\n",
    "plt.sca(axes[0]) #activamos el plot\n",
    "#plt.xticks(rotation=30) #rotar las llaves\n",
    "axes[0].bar(no.keys(), no.values())\n",
    "axes[0].set_title(\"Frecuencia de actores\")\n",
    "axes[1].bar(ap.keys(), ap.values())\n",
    "axes[1].set_title(\"Frecuencia de familias rivales\")"
   ]
  },
  {
   "cell_type": "code",
   "execution_count": 37,
   "metadata": {},
   "outputs": [
    {
     "name": "stdout",
     "output_type": "stream",
     "text": [
      "<Response [200]>\n"
     ]
    }
   ],
   "source": [
    "#Tiempo real : Calidad del aire <<Madrid>>\n",
    "#Formato de archivo:\n",
    "#Columnas 0, 1, 2: estación meteorológica\n",
    "#Columnas 3, 4 y 5: valor medido.Columna 3: oxido de nitrógeno 12\n",
    "#Columnas 6, 7 y 8: año, mes, dia\n",
    "#Columnas 9-56 datos especificos de la calidad del aire pero están en pares\n",
    "#vaciar (hora), verificación V Ok, N -no validado\n",
    "url = \"http://www.mambiente.madrid.es/opendata/horario.txt\"\n",
    "import requests\n",
    "resp = requests.get(url)\n",
    "print(resp)"
   ]
  },
  {
   "cell_type": "code",
   "execution_count": 38,
   "metadata": {},
   "outputs": [],
   "source": [
    "path = \"C:\\\\Users\\\\jmas_\\\\Jupyter\\\\Datasets\\\\\"\n",
    "with open(path + \"horario.txt\", \"wb\") as arch:\n",
    "    arch.write(resp.content)"
   ]
  },
  {
   "cell_type": "code",
   "execution_count": 21,
   "metadata": {},
   "outputs": [],
   "source": [
    "#Expresiones regulares: regex\n",
    "#regex tiene varios métodos\n",
    "#findall, search, split, sub\n",
    "#match...\n",
    "#Estudiar metacaracteres y secuencias especiales\n",
    "import re"
   ]
  },
  {
   "cell_type": "code",
   "execution_count": 30,
   "metadata": {},
   "outputs": [],
   "source": [
    "texto = \"\"\"Hugo Donald 871-000-00-00,Paco Donald 871-000-11-11,Luis Donald 871-000-22-22\"\"\"\n",
    "personas = re.split(\"\\,+\", texto)"
   ]
  },
  {
   "cell_type": "code",
   "execution_count": 31,
   "metadata": {},
   "outputs": [
    {
     "data": {
      "text/plain": [
       "['Hugo Donald 871-000-00-00',\n",
       " 'Paco Donald 871-000-11-11',\n",
       " 'Luis Donald 871-000-22-22']"
      ]
     },
     "execution_count": 31,
     "metadata": {},
     "output_type": "execute_result"
    }
   ],
   "source": [
    "personas"
   ]
  },
  {
   "cell_type": "code",
   "execution_count": 32,
   "metadata": {},
   "outputs": [
    {
     "name": "stdout",
     "output_type": "stream",
     "text": [
      "<re.Match object; span=(0, 1), match='H'>\n"
     ]
    }
   ],
   "source": [
    "print(re.search(\"H\", texto))"
   ]
  },
  {
   "cell_type": "code",
   "execution_count": 33,
   "metadata": {},
   "outputs": [
    {
     "name": "stdout",
     "output_type": "stream",
     "text": [
      "None\n"
     ]
    }
   ],
   "source": [
    "print(re.search(\"Wilson\", texto))"
   ]
  },
  {
   "cell_type": "code",
   "execution_count": null,
   "metadata": {},
   "outputs": [],
   "source": []
  }
 ],
 "metadata": {
  "kernelspec": {
   "display_name": "Python 3",
   "language": "python",
   "name": "python3"
  },
  "language_info": {
   "codemirror_mode": {
    "name": "ipython",
    "version": 3
   },
   "file_extension": ".py",
   "mimetype": "text/x-python",
   "name": "python",
   "nbconvert_exporter": "python",
   "pygments_lexer": "ipython3",
   "version": "3.8.5"
  }
 },
 "nbformat": 4,
 "nbformat_minor": 4
}
