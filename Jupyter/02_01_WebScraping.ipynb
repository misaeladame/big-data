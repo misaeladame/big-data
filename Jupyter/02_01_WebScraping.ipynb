{
 "cells": [
  {
   "cell_type": "markdown",
   "metadata": {},
   "source": [
    "# Web Scraping\n",
    "\n",
    "Web scraping Blogs, foros, sitios oficiales de datos, etc. Función de recopilar esa información: comparación de precios, análisis de opinión sobre productos/servicios, chatbots, etc. No hay tenemos límite en cuanto creatividad de trabajar con la información. Existen sitios donde tienen derechos de autor, habrá que tener cuidado. Hay más sitios que tienen un concepto datos libres: cada vez más organizaciones tienen secciones de datos (csv, bd, xslx, json)\n",
    "\n",
    "Hay 3 formatos: Fuentes de información:\n",
    "\n",
    "* Paginas web pueden incluir: csv, json, xml, etc.\n",
    "* API-REST json, xml\n",
    "* Páginas que contienen la información en formato \"humano\": python tiene varias librerias:\n",
    "    1. Acceder por medio de una URL, descarga inforamción y luego podemos utlizar desde python un paquete: **BeautifulSoup**\n",
    "    2. Si requiere realizar un proceso en la información (extra) entonces se utiliza un paquete: **Selenium** (permite desde python hacer todo como si estuvieramos en el navegador)\n",
    "    3. Python: **requests**\n",
    "    \n",
    "Resumiendo: \n",
    "\n",
    "* Archivos incluidos en la página web : requests, csv, json, etc. \n",
    "* API-REST : Requests \n",
    "* Datos incrustados en la página web (incluidos): BeautifilSoup \n",
    "* Datos que requieren de proceso/interacción: Selenium.\n",
    "\n",
    "Archivos incluidos en la página web: URI, IRL, URN\n",
    "\n",
    "**URI (Uniform Resource Identifier):** cadena de caracteres que identifica un recurso. \n",
    "\n",
    "Sintaxis general: schema:[//[user[:passwd]@host[:port]][/path][?query][#tag]]\n",
    "\n",
    "* https://es.wikipedia.org/wiki/Pandemia_de_COVID-19\n",
    "* https://es.wikipedia.org/wiki/Pandemia_de_COVID-19#Am%C3%A9rica\n",
    "* https://www.youtube.com/watch?V=183IwSzCgV4\n",
    "\n",
    "URI se divide en dos partes: URL y URN\n",
    "\n",
    "* URL (uniform resource lcoator) direcciones en la www\n",
    "    * ftp://teclaguna.edu.mx\n",
    "* URN (Uniform Resource Name)\n",
    "    * urn:isbn:0451450523\n",
    "\n",
    "\n"
   ]
  },
  {
   "cell_type": "code",
   "execution_count": 1,
   "metadata": {},
   "outputs": [
    {
     "name": "stdout",
     "output_type": "stream",
     "text": [
      "<Response [200]>\n"
     ]
    }
   ],
   "source": [
    "#Archivos incluidos en la página web\n",
    "import requests\n",
    "url = \"http://www.gutenberg.org/ebooks/1112.txt.utf-8\"\n",
    "resp = requests.get(url)\n",
    "print(resp) #https://www.w3.org/Protocols/rfc2616/rfc2616-sec10.html"
   ]
  },
  {
   "cell_type": "code",
   "execution_count": 2,
   "metadata": {},
   "outputs": [],
   "source": [
    "path = \"C:\\\\Users\\\\jmas_\\\\Jupyter\\\\Datasets\\\\\"\n",
    "with open(path + \"ryj.text\", \"wb\") as arch:\n",
    "    arch.write(resp.content)"
   ]
  },
  {
   "cell_type": "code",
   "execution_count": null,
   "metadata": {},
   "outputs": [],
   "source": []
  }
 ],
 "metadata": {
  "kernelspec": {
   "display_name": "Python 3",
   "language": "python",
   "name": "python3"
  },
  "language_info": {
   "codemirror_mode": {
    "name": "ipython",
    "version": 3
   },
   "file_extension": ".py",
   "mimetype": "text/x-python",
   "name": "python",
   "nbconvert_exporter": "python",
   "pygments_lexer": "ipython3",
   "version": "3.8.5"
  }
 },
 "nbformat": 4,
 "nbformat_minor": 4
}
